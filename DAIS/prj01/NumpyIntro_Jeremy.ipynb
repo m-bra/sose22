{
 "cells": [
  {
   "cell_type": "markdown",
   "id": "macro-graham",
   "metadata": {
    "pycharm": {
     "name": "#%% md\n"
    }
   },
   "source": [
    "# 4 Numpy\n",
    "\n",
    "One of the most important libraries for data science with Python is [NumPy](https://numpy.org/).\n",
    "If you have followed along the Jupyter Intro notebook, you should already have it installed. If, for some reason, you did not, you need to install it with pip into your virtual environment. You can do that by uncommenting the below command and executing the cell."
   ]
  },
  {
   "cell_type": "code",
   "execution_count": 30,
   "id": "living-nylon",
   "metadata": {
    "pycharm": {
     "name": "#%%\n"
    },
    "scrolled": true
   },
   "outputs": [],
   "source": [
    "#!pip install -U pip\n",
    "#!pip install numpy==1.22.3"
   ]
  },
  {
   "cell_type": "code",
   "execution_count": 2,
   "id": "alone-variance",
   "metadata": {
    "pycharm": {
     "name": "#%%\n"
    }
   },
   "outputs": [],
   "source": [
    "import numpy as np"
   ]
  },
  {
   "cell_type": "markdown",
   "id": "theoretical-thermal",
   "metadata": {
    "pycharm": {
     "name": "#%% md\n"
    }
   },
   "source": [
    "## Creating Vectors and Matrices with NumPy"
   ]
  },
  {
   "cell_type": "markdown",
   "id": "agreed-johnson",
   "metadata": {
    "pycharm": {
     "name": "#%% md\n"
    }
   },
   "source": [
    "NumPy is a great library that enables Python users to easily work with vectors and matrices which are very important in all kinds of data science applications. It also has great [documentation](https://numpy.org/doc/) that should help you out in case you are stuck with a task."
   ]
  },
  {
   "cell_type": "markdown",
   "id": "handed-middle",
   "metadata": {
    "pycharm": {
     "name": "#%% md\n"
    }
   },
   "source": [
    "Let us create a simple column vector with three elements, where each element has the value 7."
   ]
  },
  {
   "cell_type": "code",
   "execution_count": 32,
   "id": "environmental-invalid",
   "metadata": {
    "pycharm": {
     "name": "#%%\n"
    },
    "scrolled": true
   },
   "outputs": [
    {
     "data": {
      "text/plain": [
       "array([7., 7., 7.])"
      ]
     },
     "execution_count": 32,
     "metadata": {},
     "output_type": "execute_result"
    }
   ],
   "source": [
    "sevens_vector = np.ones(3) * 7\n",
    "sevens_vector"
   ]
  },
  {
   "cell_type": "code",
   "execution_count": 33,
   "id": "0f493b74",
   "metadata": {
    "pycharm": {
     "name": "#%%\n"
    }
   },
   "outputs": [
    {
     "data": {
      "text/plain": [
       "(3,)"
      ]
     },
     "execution_count": 33,
     "metadata": {},
     "output_type": "execute_result"
    }
   ],
   "source": [
    "sevens_vector.shape"
   ]
  },
  {
   "cell_type": "markdown",
   "id": "incoming-upset",
   "metadata": {
    "pycharm": {
     "name": "#%% md\n"
    }
   },
   "source": [
    "If we supply the function with only one value, it will create vectors. But `np.ones()` is very flexible and can also create matrices. However, now we have to give the shape of the matrix as a tuple."
   ]
  },
  {
   "cell_type": "code",
   "execution_count": 34,
   "id": "brutal-wyoming",
   "metadata": {
    "pycharm": {
     "name": "#%%\n"
    },
    "scrolled": false
   },
   "outputs": [
    {
     "data": {
      "text/plain": [
       "array([[7., 7., 7.],\n",
       "       [7., 7., 7.],\n",
       "       [7., 7., 7.],\n",
       "       [7., 7., 7.]])"
      ]
     },
     "execution_count": 34,
     "metadata": {},
     "output_type": "execute_result"
    }
   ],
   "source": [
    "sevens_matrix = np.ones((4,3)) * 7\n",
    "sevens_matrix"
   ]
  },
  {
   "cell_type": "code",
   "execution_count": 35,
   "id": "5b0b7447",
   "metadata": {
    "pycharm": {
     "name": "#%%\n"
    }
   },
   "outputs": [
    {
     "data": {
      "text/plain": [
       "(4, 3)"
      ]
     },
     "execution_count": 35,
     "metadata": {},
     "output_type": "execute_result"
    }
   ],
   "source": [
    "sevens_matrix.shape"
   ]
  },
  {
   "cell_type": "markdown",
   "id": "continuing-pantyhose",
   "metadata": {
    "pycharm": {
     "name": "#%% md\n"
    }
   },
   "source": [
    "Of course you can also turn Python lists into NumPy arrays."
   ]
  },
  {
   "cell_type": "code",
   "execution_count": 36,
   "id": "arabic-reader",
   "metadata": {
    "pycharm": {
     "name": "#%%\n"
    }
   },
   "outputs": [
    {
     "data": {
      "text/plain": [
       "array([[1, 2, 3],\n",
       "       [4, 5, 6]])"
      ]
     },
     "execution_count": 36,
     "metadata": {},
     "output_type": "execute_result"
    }
   ],
   "source": [
    "l = [[1,2,3], [4,5,6]]\n",
    "x = np.array(l)\n",
    "x"
   ]
  },
  {
   "cell_type": "markdown",
   "id": "civic-camping",
   "metadata": {
    "pycharm": {
     "name": "#%% md\n"
    }
   },
   "source": [
    "Accessing rows and columns works as you would expect from native Python lists."
   ]
  },
  {
   "cell_type": "code",
   "execution_count": 37,
   "id": "designed-boston",
   "metadata": {
    "pycharm": {
     "name": "#%%\n"
    }
   },
   "outputs": [
    {
     "data": {
      "text/plain": [
       "array([[   1,    2,    3],\n",
       "       [   4, 1337,    6]])"
      ]
     },
     "execution_count": 37,
     "metadata": {},
     "output_type": "execute_result"
    }
   ],
   "source": [
    "x[1,1] = 1337\n",
    "x"
   ]
  },
  {
   "cell_type": "markdown",
   "id": "shaped-kernel",
   "metadata": {
    "pycharm": {
     "name": "#%% md\n"
    }
   },
   "source": [
    "## Tasks"
   ]
  },
  {
   "cell_type": "markdown",
   "id": "genuine-experience",
   "metadata": {
    "pycharm": {
     "name": "#%% md\n"
    }
   },
   "source": [
    "Now, you are given a sample matrix and we want to investigate it a little. Make sure that you do not change the supplied variable names in the subtasks. Solve the tasks so that the supplied variables contain the solution."
   ]
  },
  {
   "cell_type": "markdown",
   "id": "concrete-lottery",
   "metadata": {
    "pycharm": {
     "name": "#%% md\n"
    }
   },
   "source": [
    "### Matrix Manipulation"
   ]
  },
  {
   "cell_type": "code",
   "execution_count": 38,
   "id": "relevant-brunei",
   "metadata": {
    "pycharm": {
     "name": "#%%\n"
    }
   },
   "outputs": [],
   "source": [
    "# sample matrix a\n",
    "a = np.array([[2, 3.2, 5.5, -6.4, -2.2, 2.4], [1, 22, 4, 0.1, 5.3, -9],\n",
    "                [3, 1, 2.1, 21, 1.1, -2]])"
   ]
  },
  {
   "cell_type": "code",
   "execution_count": 3,
   "id": "blocked-video",
   "metadata": {
    "pycharm": {
     "name": "#%%\n"
    }
   },
   "outputs": [],
   "source": [
    "# sample matrix b\n",
    "b = np.array([range(6), range(10, 16)])"
   ]
  },
  {
   "cell_type": "markdown",
   "id": "constant-draft",
   "metadata": {
    "pycharm": {
     "name": "#%% md\n"
    }
   },
   "source": [
    "#### 4.1\n",
    "The variable `sol_4_1` should contain the second row of the sample matrix `a`."
   ]
  },
  {
   "cell_type": "code",
   "execution_count": 40,
   "id": "according-procedure",
   "metadata": {
    "pycharm": {
     "name": "#%%\n"
    }
   },
   "outputs": [],
   "source": [
    "sol_4_1 = a[1] # your solution here"
   ]
  },
  {
   "cell_type": "markdown",
   "id": "dental-desire",
   "metadata": {
    "pycharm": {
     "name": "#%% md\n"
    }
   },
   "source": [
    "#### 4.2\n",
    "The variable `sol_4_2` should contain all rows except the first row of the sample matrix `a`."
   ]
  },
  {
   "cell_type": "code",
   "execution_count": 41,
   "id": "prospective-biology",
   "metadata": {
    "pycharm": {
     "name": "#%%\n"
    }
   },
   "outputs": [],
   "source": [
    "sol_4_2 = a[1:3] # your solution here"
   ]
  },
  {
   "cell_type": "markdown",
   "id": "fundamental-situation",
   "metadata": {
    "pycharm": {
     "name": "#%% md\n"
    }
   },
   "source": [
    "#### 4.3\n",
    "The variable `sol_4_3` should contain only the fifth element of every row of the sample matrix `a`."
   ]
  },
  {
   "cell_type": "code",
   "execution_count": 42,
   "id": "progressive-business",
   "metadata": {
    "pycharm": {
     "name": "#%%\n"
    }
   },
   "outputs": [],
   "source": [
    "sol_4_3 = a[0:3, 4] # your solution here"
   ]
  },
  {
   "cell_type": "markdown",
   "id": "cosmetic-flooring",
   "metadata": {
    "pycharm": {
     "name": "#%% md\n"
    }
   },
   "source": [
    "#### 4.4\n",
    "The variable `sol_4_4` should contain the third element of every row except the first row of the sample matrix `a`."
   ]
  },
  {
   "cell_type": "code",
   "execution_count": 43,
   "id": "front-improvement",
   "metadata": {
    "pycharm": {
     "name": "#%%\n"
    }
   },
   "outputs": [],
   "source": [
    "sol_4_4 = a[1:3, 2] # your solution here"
   ]
  },
  {
   "cell_type": "markdown",
   "id": "metropolitan-packaging",
   "metadata": {
    "pycharm": {
     "name": "#%% md\n"
    }
   },
   "source": [
    "### Matrix built-in functions\n",
    "Check out the docs or search the web. There are plenty of resources that will help you with the following tasks."
   ]
  },
  {
   "cell_type": "markdown",
   "id": "loaded-building",
   "metadata": {
    "pycharm": {
     "name": "#%% md\n"
    }
   },
   "source": [
    "#### 4.5\n",
    "The variable `sol_4_5` should contain the absolut values of sample matrix `a`."
   ]
  },
  {
   "cell_type": "code",
   "execution_count": 44,
   "id": "documentary-capture",
   "metadata": {
    "pycharm": {
     "name": "#%%\n"
    }
   },
   "outputs": [],
   "source": [
    "sol_4_5 = np.absolute(a) # your solution here"
   ]
  },
  {
   "cell_type": "markdown",
   "id": "micro-trade",
   "metadata": {
    "pycharm": {
     "name": "#%% md\n"
    }
   },
   "source": [
    "#### 4.6\n",
    "The variable `sol_4_6` should contain the shape of sample matrix `b`."
   ]
  },
  {
   "cell_type": "code",
   "execution_count": 45,
   "id": "sweet-actor",
   "metadata": {
    "pycharm": {
     "name": "#%%\n"
    }
   },
   "outputs": [],
   "source": [
    "sol_4_6 = b.shape # your solution here"
   ]
  },
  {
   "cell_type": "markdown",
   "id": "intelligent-philip",
   "metadata": {
    "pycharm": {
     "name": "#%% md\n"
    }
   },
   "source": [
    "#### 4.7\n",
    "The variable `sol_4_7` should contain the highest value of sample matrix `b`."
   ]
  },
  {
   "cell_type": "code",
   "execution_count": 46,
   "id": "controlled-amount",
   "metadata": {
    "pycharm": {
     "name": "#%%\n"
    }
   },
   "outputs": [],
   "source": [
    "sol_4_7 = np.max(b) # your solution here"
   ]
  },
  {
   "cell_type": "markdown",
   "id": "nominated-router",
   "metadata": {
    "pycharm": {
     "name": "#%% md\n"
    }
   },
   "source": [
    "#### 4.8\n",
    "The variable `sol_4_8` should contain the smallest value of sample matrix `b`."
   ]
  },
  {
   "cell_type": "code",
   "execution_count": 47,
   "id": "understanding-rugby",
   "metadata": {
    "pycharm": {
     "name": "#%%\n"
    }
   },
   "outputs": [],
   "source": [
    "sol_4_8 = np.min(b) # your solution here"
   ]
  },
  {
   "cell_type": "markdown",
   "id": "electrical-service",
   "metadata": {
    "pycharm": {
     "name": "#%% md\n"
    }
   },
   "source": [
    "#### 4.9\n",
    "The variable `sol_4_9` should contain the transpose of sample matrix `b`."
   ]
  },
  {
   "cell_type": "code",
   "execution_count": 48,
   "id": "macro-class",
   "metadata": {
    "pycharm": {
     "name": "#%%\n"
    }
   },
   "outputs": [],
   "source": [
    "sol_4_9 = b.transpose() # your solution here"
   ]
  }
 ],
 "metadata": {
  "kernelspec": {
   "display_name": "Python 3 (ipykernel)",
   "language": "python",
   "name": "python3"
  },
  "language_info": {
   "codemirror_mode": {
    "name": "ipython",
    "version": 3
   },
   "file_extension": ".py",
   "mimetype": "text/x-python",
   "name": "python",
   "nbconvert_exporter": "python",
   "pygments_lexer": "ipython3",
   "version": "3.9.6"
  }
 },
 "nbformat": 4,
 "nbformat_minor": 5
}
