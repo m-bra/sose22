{
 "cells": [
  {
   "cell_type": "markdown",
   "id": "designing-beaver",
   "metadata": {},
   "source": [
    "# 2 Jupyter Notebooks"
   ]
  },
  {
   "cell_type": "markdown",
   "id": "purple-bubble",
   "metadata": {},
   "source": [
    "This task is intended to give you an idea of Jupyter notebooks, its possibilities and advantages."
   ]
  },
  {
   "cell_type": "markdown",
   "id": "ideal-racing",
   "metadata": {},
   "source": [
    "Although  [Jupyter](https://jupyter.org/ \"Jupyter Homepage\") (**Ju**lia-**Pyt**hon-**R**) was intended for [Julia](https://julialang.org/), [Python](https://www.python.org/) and [R](https://www.r-project.org/), by now there [lots of other languages](https://github.com/jupyter/jupyter/wiki/Jupyter-kernels) supported by the project."
   ]
  },
  {
   "cell_type": "markdown",
   "id": "opposite-hammer",
   "metadata": {},
   "source": [
    "## Navigation and Editing"
   ]
  },
  {
   "cell_type": "markdown",
   "id": "severe-verification",
   "metadata": {},
   "source": [
    "Jupyter Notebooks are modal, i.e. your keys will have different functions, depending in which \"mode\" you are. For instance, in \"Insert\" mode, you can freely type into the current cell as you would be in any editor."
   ]
  },
  {
   "cell_type": "markdown",
   "id": "coral-oracle",
   "metadata": {},
   "source": [
    "In \"Normal\" mode, most keys are a shortcut to certain functions, e.g.\n",
    "* top/down keys navigate up and down\n",
    "* Add a cell below with ```b```\n",
    "* Add a cell above with ```a```\n",
    "* Delete current cell with ```dd```\n",
    "* Enter Insert mode (green border) for the current cell with ```Enter```\n",
    "* Leave Insert mode and enter Normal mode with ```Esc```\n",
    "* Execute a cell (leave Insert Mode) with ```Ctrl+Enter``` \n",
    "* Execute a cell (and select cell below) with ```Shift+Enter```\n",
    "\n",
    "You can find more commands here: ```Help -> Keyboard Shortcuts```"
   ]
  },
  {
   "cell_type": "markdown",
   "id": "surprising-shanghai",
   "metadata": {},
   "source": [
    "Let's run the first cell below (use the Run Button in the menu on top or one of the shortcuts)"
   ]
  },
  {
   "cell_type": "code",
   "execution_count": 4,
   "id": "public-wedding",
   "metadata": {},
   "outputs": [
    {
     "name": "stdout",
     "output_type": "stream",
     "text": [
      "Hello World!\n"
     ]
    }
   ],
   "source": [
    "print(\"Hello World!\")"
   ]
  },
  {
   "cell_type": "markdown",
   "id": "congressional-thought",
   "metadata": {},
   "source": [
    "As you can see, the output of the cell is directly printed below. You might also note the \"[1]\" left to the cell. This number specifies the order in which the cells were executed.\n",
    "\n",
    "The computation of a cell is stored and be re-used in cells that are executed later. Let's see an example."
   ]
  },
  {
   "cell_type": "code",
   "execution_count": 5,
   "id": "lesser-craft",
   "metadata": {},
   "outputs": [],
   "source": [
    "a = 8"
   ]
  },
  {
   "cell_type": "code",
   "execution_count": 8,
   "id": "senior-dancing",
   "metadata": {},
   "outputs": [
    {
     "name": "stdout",
     "output_type": "stream",
     "text": [
      "The variable a holds the value 3\n"
     ]
    }
   ],
   "source": [
    "print(\"The variable a holds the value\", a)"
   ]
  },
  {
   "cell_type": "markdown",
   "id": "still-ceremony",
   "metadata": {},
   "source": [
    "The stored value carried over! Usually, cells are executed top to bottom, just like in a script. However, that is not a must. We could change the value of a and execute the above cell again. Let's try that now for once just for fun."
   ]
  },
  {
   "cell_type": "code",
   "execution_count": 7,
   "id": "nasty-worth",
   "metadata": {},
   "outputs": [],
   "source": [
    "a = 3"
   ]
  },
  {
   "cell_type": "markdown",
   "id": "bored-abuse",
   "metadata": {},
   "source": [
    "Now execute the third code cell again and see if it has changed.\n",
    "\n",
    "Being able to directly see the output of smaller snippets of code is of tremendous worth in data science. Often, we have to inspect data in an exploratory manner to decide on algorithms and further procedures. Jupyter notebooks are a very useful tool for this purpose."
   ]
  },
  {
   "cell_type": "markdown",
   "id": "opened-joseph",
   "metadata": {},
   "source": [
    "## Command line in Jupyter"
   ]
  },
  {
   "cell_type": "markdown",
   "id": "traditional-horizontal",
   "metadata": {},
   "source": [
    "You can also run bash commands in notebook cells by prepending the line with an exclamation mark (\"!\"). This can be useful in various situations, like setting environment variables or even checking the current workload."
   ]
  },
  {
   "cell_type": "markdown",
   "id": "vertical-prevention",
   "metadata": {},
   "source": [
    "When you do not remember in which directory you are, you can quickly check from within the Jupyter notebook."
   ]
  },
  {
   "cell_type": "code",
   "execution_count": 9,
   "id": "governmental-spending",
   "metadata": {
    "scrolled": true
   },
   "outputs": [
    {
     "name": "stdout",
     "output_type": "stream",
     "text": [
      "/home/merlin/Documents/uni/semester/DAIS/prj01\r\n"
     ]
    }
   ],
   "source": [
    "!pwd"
   ]
  },
  {
   "cell_type": "markdown",
   "id": "dated-degree",
   "metadata": {},
   "source": [
    "Or you can create new directories on the fly for fast experimenting and prototyping."
   ]
  },
  {
   "cell_type": "code",
   "execution_count": 10,
   "id": "piano-meter",
   "metadata": {
    "scrolled": true
   },
   "outputs": [
    {
     "name": "stdout",
     "output_type": "stream",
     "text": [
      "DAIS_2022_1_PythonIntro.pdf  NumpyIntro.ipynb\t    testdir\r\n",
      "JupyterIntro.ipynb\t     PythonFunctions.ipynb\r\n"
     ]
    }
   ],
   "source": [
    "!mkdir testdir\n",
    "!ls"
   ]
  },
  {
   "cell_type": "code",
   "execution_count": 17,
   "id": "established-computer",
   "metadata": {},
   "outputs": [
    {
     "name": "stdout",
     "output_type": "stream",
     "text": [
      "DAIS_2022_1_PythonIntro.pdf  NumpyIntro.ipynb\r\n",
      "JupyterIntro.ipynb\t     PythonFunctions.ipynb\r\n"
     ]
    }
   ],
   "source": [
    "# In case you want to delete the directory, uncomment the line below and run the cell\n",
    "!rm -rf testdir\n",
    "!ls"
   ]
  },
  {
   "cell_type": "markdown",
   "id": "crazy-democracy",
   "metadata": {},
   "source": [
    "It also comes in handy, when you want to quickly install a certain package in your virtual environment, without closing or restarting Jupyter. Let's install a package, which we will use later."
   ]
  },
  {
   "cell_type": "code",
   "execution_count": 18,
   "id": "distant-vienna",
   "metadata": {
    "scrolled": true
   },
   "outputs": [
    {
     "name": "stdout",
     "output_type": "stream",
     "text": [
      "Collecting matplotlib\n",
      "  Downloading matplotlib-3.5.1-cp39-cp39-manylinux_2_5_x86_64.manylinux1_x86_64.whl (11.2 MB)\n",
      "\u001b[K     |████████████████████████████████| 11.2 MB 2.9 MB/s eta 0:00:01\n",
      "\u001b[?25hCollecting numpy==1.22.3\n",
      "  Downloading numpy-1.22.3-cp39-cp39-manylinux_2_17_x86_64.manylinux2014_x86_64.whl (16.8 MB)\n",
      "\u001b[K     |████████████████████████████████| 16.8 MB 427 kB/s eta 0:00:01\n",
      "\u001b[?25hCollecting pillow>=6.2.0\n",
      "  Downloading Pillow-9.1.0-cp39-cp39-manylinux_2_17_x86_64.manylinux2014_x86_64.whl (4.3 MB)\n",
      "\u001b[K     |████████████████████████████████| 4.3 MB 2.3 MB/s eta 0:00:01\n",
      "\u001b[?25hRequirement already satisfied: pyparsing>=2.2.1 in /home/merlin/.pyenv/versions/3.9.6/lib/python3.9/site-packages (from matplotlib) (3.0.8)\n",
      "Requirement already satisfied: packaging>=20.0 in /home/merlin/.pyenv/versions/3.9.6/lib/python3.9/site-packages (from matplotlib) (21.3)\n",
      "Requirement already satisfied: python-dateutil>=2.7 in /home/merlin/.pyenv/versions/3.9.6/lib/python3.9/site-packages (from matplotlib) (2.8.2)\n",
      "Collecting kiwisolver>=1.0.1\n",
      "  Downloading kiwisolver-1.4.2-cp39-cp39-manylinux_2_12_x86_64.manylinux2010_x86_64.whl (1.6 MB)\n",
      "\u001b[K     |████████████████████████████████| 1.6 MB 1.8 MB/s eta 0:00:01\n",
      "\u001b[?25hCollecting cycler>=0.10\n",
      "  Downloading cycler-0.11.0-py3-none-any.whl (6.4 kB)\n",
      "Collecting fonttools>=4.22.0\n",
      "  Downloading fonttools-4.32.0-py3-none-any.whl (900 kB)\n",
      "\u001b[K     |████████████████████████████████| 900 kB 1.8 MB/s eta 0:00:01\n",
      "\u001b[?25hRequirement already satisfied: six>=1.5 in /home/merlin/.pyenv/versions/3.9.6/lib/python3.9/site-packages (from python-dateutil>=2.7->matplotlib) (1.16.0)\n",
      "Installing collected packages: pillow, numpy, kiwisolver, fonttools, cycler, matplotlib\n",
      "Successfully installed cycler-0.11.0 fonttools-4.32.0 kiwisolver-1.4.2 matplotlib-3.5.1 numpy-1.22.3 pillow-9.1.0\n",
      "\u001b[33mWARNING: You are using pip version 21.1.3; however, version 22.0.4 is available.\n",
      "You should consider upgrading via the '/home/merlin/.pyenv/versions/3.9.6/bin/python3.9 -m pip install --upgrade pip' command.\u001b[0m\n"
     ]
    }
   ],
   "source": [
    "!pip install matplotlib numpy==1.22.3"
   ]
  },
  {
   "cell_type": "markdown",
   "id": "numeric-blogger",
   "metadata": {},
   "source": [
    "## Plotting"
   ]
  },
  {
   "cell_type": "markdown",
   "id": "latin-compound",
   "metadata": {},
   "source": [
    "We can also plot directly in Jupyter notebooks, which makes data exploration very convenient."
   ]
  },
  {
   "cell_type": "code",
   "execution_count": 19,
   "id": "productive-communication",
   "metadata": {},
   "outputs": [
    {
     "data": {
      "image/png": "[encoded data removed]",
      "text/plain": [
       "<Figure size 432x288 with 1 Axes>"
      ]
     },
     "metadata": {
      "needs_background": "light"
     },
     "output_type": "display_data"
    }
   ],
   "source": [
    "from matplotlib import pyplot as plt\n",
    "import numpy as np\n",
    "\n",
    "noise = np.random.randn(256, 256)\n",
    "plt.imshow(noise)\n",
    "plt.show()"
   ]
  },
  {
   "cell_type": "markdown",
   "id": "intensive-grocery",
   "metadata": {},
   "source": [
    "## Fun with Python\n",
    "The last part of this notebook will contain some examples on the usage of Python, like lists, dictionaries, in-built functions and so on. If you are new to Python. Execute the cells and try to understand how the output came to be."
   ]
  },
  {
   "cell_type": "code",
   "execution_count": 20,
   "id": "golden-penetration",
   "metadata": {},
   "outputs": [
    {
     "data": {
      "text/plain": [
       "['hello', 'world']"
      ]
     },
     "execution_count": 20,
     "metadata": {},
     "output_type": "execute_result"
    }
   ],
   "source": [
    "[\"hello\", \"world\"]"
   ]
  },
  {
   "cell_type": "code",
   "execution_count": 21,
   "id": "stable-judge",
   "metadata": {},
   "outputs": [
    {
     "data": {
      "text/plain": [
       "[0, 1.5, 'hello']"
      ]
     },
     "execution_count": 21,
     "metadata": {},
     "output_type": "execute_result"
    }
   ],
   "source": [
    "[0, 1.5, \"hello\"]"
   ]
  },
  {
   "cell_type": "code",
   "execution_count": 22,
   "id": "organizational-lecture",
   "metadata": {},
   "outputs": [
    {
     "data": {
      "text/plain": [
       "4"
      ]
     },
     "execution_count": 22,
     "metadata": {},
     "output_type": "execute_result"
    }
   ],
   "source": [
    "a = [1, 2, 3, 4]\n",
    "len(a)"
   ]
  },
  {
   "cell_type": "code",
   "execution_count": 23,
   "id": "written-soviet",
   "metadata": {},
   "outputs": [
    {
     "data": {
      "text/plain": [
       "[5, 6, 7, 8, 5, 6, 7, 8]"
      ]
     },
     "execution_count": 23,
     "metadata": {},
     "output_type": "execute_result"
    }
   ],
   "source": [
    "b = [5, 6, 7, 8]\n",
    "b * 2"
   ]
  },
  {
   "cell_type": "code",
   "execution_count": 24,
   "id": "warming-imperial",
   "metadata": {},
   "outputs": [
    {
     "name": "stdout",
     "output_type": "stream",
     "text": [
      "(1, 5)\n",
      "(2, 6)\n",
      "(3, 7)\n",
      "(4, 8)\n"
     ]
    }
   ],
   "source": [
    "for i in zip(a,b):\n",
    "    print(i)"
   ]
  },
  {
   "cell_type": "code",
   "execution_count": 25,
   "id": "governing-project",
   "metadata": {},
   "outputs": [
    {
     "data": {
      "text/plain": [
       "[('a', 1), ('b', 2), ('c', 3)]"
      ]
     },
     "execution_count": 25,
     "metadata": {},
     "output_type": "execute_result"
    }
   ],
   "source": [
    "list(zip([\"a\", \"b\", \"c\"], [1, 2, 3]))"
   ]
  },
  {
   "cell_type": "code",
   "execution_count": 26,
   "id": "further-peripheral",
   "metadata": {},
   "outputs": [
    {
     "name": "stdout",
     "output_type": "stream",
     "text": [
      "[1, 2, 3, 4, 5, 6, 7, 8]\n"
     ]
    }
   ],
   "source": [
    "c = a + b\n",
    "print(c)"
   ]
  },
  {
   "cell_type": "code",
   "execution_count": 27,
   "id": "daily-tuning",
   "metadata": {},
   "outputs": [
    {
     "data": {
      "text/plain": [
       "2"
      ]
     },
     "execution_count": 27,
     "metadata": {},
     "output_type": "execute_result"
    }
   ],
   "source": [
    "c[1]"
   ]
  },
  {
   "cell_type": "code",
   "execution_count": 28,
   "id": "conceptual-postage",
   "metadata": {},
   "outputs": [
    {
     "data": {
      "text/plain": [
       "[1, 2]"
      ]
     },
     "execution_count": 28,
     "metadata": {},
     "output_type": "execute_result"
    }
   ],
   "source": [
    "c[0:2]"
   ]
  },
  {
   "cell_type": "code",
   "execution_count": 29,
   "id": "sufficient-victor",
   "metadata": {},
   "outputs": [
    {
     "data": {
      "text/plain": [
       "[1, 2]"
      ]
     },
     "execution_count": 29,
     "metadata": {},
     "output_type": "execute_result"
    }
   ],
   "source": [
    "c[:2]"
   ]
  },
  {
   "cell_type": "code",
   "execution_count": 30,
   "id": "transsexual-ocean",
   "metadata": {},
   "outputs": [
    {
     "data": {
      "text/plain": [
       "[7, 8]"
      ]
     },
     "execution_count": 30,
     "metadata": {},
     "output_type": "execute_result"
    }
   ],
   "source": [
    "c[-2:]"
   ]
  },
  {
   "cell_type": "code",
   "execution_count": 31,
   "id": "auburn-update",
   "metadata": {},
   "outputs": [
    {
     "data": {
      "text/plain": [
       "[1, 1, 3, 4, 5, 6, 7, 8, 9]"
      ]
     },
     "execution_count": 31,
     "metadata": {},
     "output_type": "execute_result"
    }
   ],
   "source": [
    "c[1] = 1\n",
    "c.append(9)\n",
    "c"
   ]
  },
  {
   "cell_type": "code",
   "execution_count": 32,
   "id": "italian-consensus",
   "metadata": {},
   "outputs": [
    {
     "data": {
      "text/plain": [
       "[[1, 1, 3, 4, 5, 6, 7, 8, 9], 9, 10]"
      ]
     },
     "execution_count": 32,
     "metadata": {},
     "output_type": "execute_result"
    }
   ],
   "source": [
    "d=[c, 9, 10]\n",
    "d"
   ]
  },
  {
   "cell_type": "code",
   "execution_count": 33,
   "id": "trying-paradise",
   "metadata": {},
   "outputs": [
    {
     "name": "stdout",
     "output_type": "stream",
     "text": [
      "0\n",
      "1\n",
      "2\n",
      "3\n",
      "4\n",
      "5\n",
      "6\n",
      "7\n",
      "8\n",
      "9\n"
     ]
    }
   ],
   "source": [
    "for i in range(10):\n",
    "    print(i)"
   ]
  },
  {
   "cell_type": "code",
   "execution_count": 34,
   "id": "occupied-mobile",
   "metadata": {},
   "outputs": [
    {
     "name": "stdout",
     "output_type": "stream",
     "text": [
      "2\n",
      "5\n",
      "8\n",
      "11\n"
     ]
    }
   ],
   "source": [
    "for i in range(2, 12, 3):\n",
    "    print(i)"
   ]
  },
  {
   "cell_type": "code",
   "execution_count": 35,
   "id": "preceding-world",
   "metadata": {},
   "outputs": [
    {
     "name": "stdout",
     "output_type": "stream",
     "text": [
      "9\n",
      "8\n",
      "7\n",
      "6\n",
      "5\n",
      "4\n",
      "3\n",
      "2\n",
      "1\n",
      "0\n"
     ]
    }
   ],
   "source": [
    "x=range(10)\n",
    "for i in x[::-1]:\n",
    "    print(i)"
   ]
  },
  {
   "cell_type": "code",
   "execution_count": 36,
   "id": "indonesian-memorial",
   "metadata": {},
   "outputs": [
    {
     "data": {
      "text/plain": [
       "[2, 3, 10, 37, 42]"
      ]
     },
     "execution_count": 36,
     "metadata": {},
     "output_type": "execute_result"
    }
   ],
   "source": [
    "l = [2, 10, 42, 3, 37]\n",
    "l.sort() # changes l\n",
    "l"
   ]
  },
  {
   "cell_type": "code",
   "execution_count": 37,
   "id": "suspected-capacity",
   "metadata": {},
   "outputs": [
    {
     "name": "stdout",
     "output_type": "stream",
     "text": [
      "[2, 3, 10, 37, 42]\n"
     ]
    },
    {
     "data": {
      "text/plain": [
       "[2, 10, 42, 3, 37]"
      ]
     },
     "execution_count": 37,
     "metadata": {},
     "output_type": "execute_result"
    }
   ],
   "source": [
    "l = [2, 10, 42, 3, 37]\n",
    "print(sorted(l)) # doesn't change l\n",
    "l"
   ]
  },
  {
   "cell_type": "code",
   "execution_count": 38,
   "id": "destroyed-segment",
   "metadata": {},
   "outputs": [],
   "source": [
    "a = {'x': 1, 'y': 2, 'z': 3}"
   ]
  },
  {
   "cell_type": "code",
   "execution_count": 39,
   "id": "employed-angola",
   "metadata": {},
   "outputs": [
    {
     "data": {
      "text/plain": [
       "1"
      ]
     },
     "execution_count": 39,
     "metadata": {},
     "output_type": "execute_result"
    }
   ],
   "source": [
    "a['x']"
   ]
  },
  {
   "cell_type": "code",
   "execution_count": 40,
   "id": "fourth-internet",
   "metadata": {},
   "outputs": [
    {
     "data": {
      "text/plain": [
       "dict_keys(['x', 'y', 'z'])"
      ]
     },
     "execution_count": 40,
     "metadata": {},
     "output_type": "execute_result"
    }
   ],
   "source": [
    "a.keys()"
   ]
  },
  {
   "cell_type": "code",
   "execution_count": 41,
   "id": "floating-reducing",
   "metadata": {},
   "outputs": [
    {
     "data": {
      "text/plain": [
       "dict_values([1, 2, 3])"
      ]
     },
     "execution_count": 41,
     "metadata": {},
     "output_type": "execute_result"
    }
   ],
   "source": [
    "a.values()"
   ]
  },
  {
   "cell_type": "code",
   "execution_count": 42,
   "id": "liable-bangkok",
   "metadata": {},
   "outputs": [
    {
     "data": {
      "text/plain": [
       "dict_items([('x', 1), ('y', 2), ('z', 3)])"
      ]
     },
     "execution_count": 42,
     "metadata": {},
     "output_type": "execute_result"
    }
   ],
   "source": [
    "a.items()"
   ]
  },
  {
   "cell_type": "code",
   "execution_count": null,
   "id": "01998f6d",
   "metadata": {},
   "outputs": [],
   "source": []
  }
 ],
 "metadata": {
  "kernelspec": {
   "display_name": "Python 3 (ipykernel)",
   "language": "python",
   "name": "python3"
  },
  "language_info": {
   "codemirror_mode": {
    "name": "ipython",
    "version": 3
   },
   "file_extension": ".py",
   "mimetype": "text/x-python",
   "name": "python",
   "nbconvert_exporter": "python",
   "pygments_lexer": "ipython3",
   "version": "3.9.6"
  }
 },
 "nbformat": 4,
 "nbformat_minor": 5
}
