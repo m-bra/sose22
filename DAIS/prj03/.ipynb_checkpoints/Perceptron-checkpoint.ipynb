{
 "cells": [
  {
   "cell_type": "markdown",
   "id": "763d39cb",
   "metadata": {},
   "source": [
    "# 4 Perceptron\n",
    "In this notebook we will want to look at the perceptron. What you have done manually in the previous task, we will now implement with Python and Numpy. Instead of choosing the weights by deliberation, first we will use the perceptron algorithm to learn the weights and later the backpropagation algorithm."
   ]
  },
  {
   "cell_type": "code",
   "execution_count": 1,
   "id": "4548a5df",
   "metadata": {},
   "outputs": [],
   "source": [
    "import numpy as np\n",
    "import matplotlib.pyplot as plt"
   ]
  },
  {
   "cell_type": "markdown",
   "id": "1a6c8aa0",
   "metadata": {},
   "source": [
    "## 4.0 Recap\n",
    "We need to implement three major parts for our objective: a data set, the foward pass and the backward pass.\n",
    "\n",
    "Remember that our perceptron has two inputs, a bias and three learnable weights.\n",
    "\n",
    "![Perceptron](./fig/PerceptronG.jpg)"
   ]
  },
  {
   "cell_type": "markdown",
   "id": "7254345a",
   "metadata": {},
   "source": [
    "## 4.1 The Data\n",
    "Our aim is to learn the boolean function AND ($\\land$). For that purpose we can create our own data with the corresponding target/labels. We will use 0 for False and 1 for True.\n",
    "Also, the variable that holds the data will be denominated with _x_ and the variable holding the labels will be _t_.\n"
   ]
  },
  {
   "cell_type": "markdown",
   "id": "8ef3eaed",
   "metadata": {},
   "source": [
    "### Task 4.1.1 Create the data\n",
    "We will need a dataset that holds all possible inputs for the Boolean function AND. Here is a quick reminder on how that function works:\n",
    "\n",
    "| A| B | A AND B  |\n",
    "| :--- | :--- | --- |\n",
    "| True | True | True |\n",
    "| True | False | False |\n",
    "| False | True | False |\n",
    "| False | False | False |\n",
    "\n",
    "Our dataset needs to contain all four possible combinations of True and False. As we have a bias, we can treat it just like an input neuron with a fixed input of True.\n",
    "\n",
    "The labels should contain the teaching signal or ground truth for each dataset sample (as a vector), i.e. the correct output of the corresponding input.\n",
    "\n",
    "Both, input data and labels, should be represented as Numpy Matrices/Vectors."
   ]
  },
  {
   "cell_type": "code",
   "execution_count": 122,
   "id": "5f7f4145",
   "metadata": {},
   "outputs": [],
   "source": [
    "x = np.array([[1.,1.,1.], [1.,1.,0.], [1.,0.,1.], [1.,0.,0.]])\n",
    "# note to avoid confusion: the first '1' in each array is the fixed input of True for the bias, as described above"
   ]
  },
  {
   "cell_type": "code",
   "execution_count": 123,
   "id": "dbedf7d2",
   "metadata": {},
   "outputs": [],
   "source": [
    "t = np.array([[1.],[0.],[0.],[0.]])"
   ]
  },
  {
   "cell_type": "markdown",
   "id": "0a80fe23",
   "metadata": {},
   "source": [
    "## 4.2 The Forward Pass\n",
    "Now we have to setup all necessary functions to complete a first forward pass through our perceptron and obtain a prediction based on the input.\n",
    "We need to be able to calculate the inner activation of the neuron _h_, define the activation function _g_, and finally calculate the outer activation _y_."
   ]
  },
  {
   "cell_type": "markdown",
   "id": "3f983117",
   "metadata": {},
   "source": [
    "### Task 4.2.1 Inner activation _h_\n",
    "From the lecture we know that the inner activation _h_ is just a weighted sum of the inputs.\n",
    "\n",
    "$$  \\large h_i = \\sum_{j=1}^{n} w_{ij} x_j $$\n",
    "\n",
    "Complete the function `inner_activation(...)`. As inputs it should take the input activations and the synaptic weights and return inner activation _h_."
   ]
  },
  {
   "cell_type": "code",
   "execution_count": 124,
   "id": "c5573257",
   "metadata": {},
   "outputs": [
    {
     "data": {
      "text/plain": [
       "array([5., 2., 1.])"
      ]
     },
     "execution_count": 124,
     "metadata": {},
     "output_type": "execute_result"
    }
   ],
   "source": [
    "# rows of weight matrix correspond to the individual neurons in the same layer\n",
    "# each value in a row corresponds to an input neuron from the previous layer\n",
    "def inner_activation(weights, inputs):\n",
    "    layer_len, prev_layer_len = weights.shape\n",
    "    outputs = []\n",
    "    for n in range(0, layer_len):\n",
    "        output = 0\n",
    "        for w, i in zip(weights[n], inputs):\n",
    "            output += w*i\n",
    "        outputs.append(output)\n",
    "    return np.array(outputs)\n",
    "\n",
    "inner_activation(\n",
    "    np.array([[1., 2.], \n",
    "              [0., 1.], \n",
    "              [1., 0.]]),\n",
    "    np.array( [1., 2.])\n",
    ")"
   ]
  },
  {
   "cell_type": "markdown",
   "id": "1b3e5ba6",
   "metadata": {},
   "source": [
    "### Task 4.2.2 The activation function _g_\n",
    "The perceptron algorithm uses a step function as its activation function (sometimes also refered to as Heaviside function), to transfer the inner activation _h_ to the outer activation _y_. It looks as follows:\n",
    "\n",
    "$$    y_i = \n",
    "    \\begin{cases}\n",
    "      1 & \\text{if } h_i \\geq \\theta \\\\\n",
    "      0 & \\text{otherwise}\n",
    "    \\end{cases} $$\n",
    "    \n",
    "As the threshold, we define $\\theta$ to be 0.\n",
    "\n",
    "Complete the function `g(...)`. It should take the inner activation _h_ as an input and return the outer activation _y_."
   ]
  },
  {
   "cell_type": "code",
   "execution_count": 125,
   "id": "e0faaade",
   "metadata": {},
   "outputs": [],
   "source": [
    "def g(inner_activation):\n",
    "    if inner_activation >= 0:\n",
    "        return 1.\n",
    "    else:\n",
    "        return 0."
   ]
  },
  {
   "cell_type": "markdown",
   "id": "a5b0d226",
   "metadata": {},
   "source": [
    "### Task 4.2.3 Plot the activation function\n",
    "In order to check if we have done it correctly, we can plot the activation function.\n",
    "Create artificial datapoints in the range of -1 to 1, feed them into the activation function and plot the outputs."
   ]
  },
  {
   "cell_type": "code",
   "execution_count": 50,
   "id": "3c683f24",
   "metadata": {},
   "outputs": [
    {
     "data": {
      "image/png": "[encoded data removed]",
      "text/plain": [
       "<Figure size 432x288 with 1 Axes>"
      ]
     },
     "metadata": {
      "needs_background": "light"
     },
     "output_type": "display_data"
    }
   ],
   "source": [
    "plt.title(\"activation function\")\n",
    "plt.xlabel(\"inner activation\")\n",
    "plt.ylabel(\"outer activation\")\n",
    "r = map(lambda v: v / 10, range(-10, 11))\n",
    "rl = list(r)\n",
    "plt.plot(rl, list(map(g, rl)))\n",
    "plt.show()"
   ]
  },
  {
   "cell_type": "markdown",
   "id": "0983efaf",
   "metadata": {},
   "source": [
    "### Task 4.2.4 Putting it together\n",
    "Now we can combine our functions to compute the whole forward pass of the perceptron.\n",
    "\n",
    "Compete the function `forward_pass(...)`, which takes the input activations and the weights as inputs and returns the outer activation _y_."
   ]
  },
  {
   "cell_type": "code",
   "execution_count": 179,
   "id": "98945fb4",
   "metadata": {},
   "outputs": [
    {
     "data": {
      "text/plain": [
       "array([1., 1., 1.])"
      ]
     },
     "execution_count": 179,
     "metadata": {},
     "output_type": "execute_result"
    }
   ],
   "source": [
    "def forward_pass(weights, inputs):\n",
    "    outputs = inner_activation(weights, inputs)\n",
    "    return np.array(list(map(g,  outputs)))\n",
    "\n",
    "forward_pass(\n",
    "    np.array([[1., 2.], \n",
    "              [0., 1.], \n",
    "              [1., 0.]]),\n",
    "    np.array( [1., 2.])\n",
    ")"
   ]
  },
  {
   "cell_type": "markdown",
   "id": "ca5da459",
   "metadata": {},
   "source": [
    "## 4.3 The Backward Pass\n",
    "The backward pass changes the weights in respect to the error.\n",
    "\n",
    "From the lecture we know that the update rule of the perceptron algorithm looks like this:\n",
    "\n",
    "$$ \\large \\Delta w_{ij} = \\eta (t_i - y_i) x_j $$\n",
    "$$ \\large w_{ij} \\leftarrow w_{ij} + \\Delta w_{ij} $$\n",
    "\n",
    "$\\eta$ is a hyperparameter that needs to be set. In our case, 0.01 is a reasonable value."
   ]
  },
  {
   "cell_type": "markdown",
   "id": "1b6121eb",
   "metadata": {},
   "source": [
    "### Task 4.3.1 Update the weights\n",
    "Complete the function `update(...)` which takes as input the current weights, the label, the input activation and the outer activation and returns the updated weights."
   ]
  },
  {
   "cell_type": "code",
   "execution_count": 185,
   "id": "9487cc8d",
   "metadata": {},
   "outputs": [],
   "source": [
    "# weights are implicitly returned as the parameter object is modified directly\n",
    "def update(weights, inputs, outputs, labels):\n",
    "    ETA = 0.01/1.0 # 10% change for an error of 1\n",
    "    layer_len, prev_layer_len = weights.shape\n",
    "    for ineuron in range(layer_len):\n",
    "        error = labels[ineuron] - outputs[ineuron]\n",
    "        for iinput in range(prev_layer_len):\n",
    "            delta = error * ETA * inputs[iinput]\n",
    "            weights[ineuron, iinput] += delta"
   ]
  },
  {
   "cell_type": "markdown",
   "id": "f6878a54",
   "metadata": {},
   "source": [
    "## 4.4 Learning the boolean function\n",
    "Now we can use all the functions we have written, to piece together the perceptron algorithm and learn the AND function. Before we start, we need to set a start point in the weight space. For that purpose we define the weights more or less randomly before the learning starts."
   ]
  },
  {
   "cell_type": "code",
   "execution_count": 159,
   "id": "d17db9c1",
   "metadata": {},
   "outputs": [],
   "source": [
    "w = np.array([[3.0,-2.0,-2.0]])"
   ]
  },
  {
   "cell_type": "markdown",
   "id": "8b779136",
   "metadata": {},
   "source": [
    "### Task 4.4.1 The training loop\n",
    "In neural network training, you will often encouter a central training loop that iterates through the dataset and updates the weights regularly according to the generated predictions.\n",
    "Your task now is to write this training loop.\n",
    "\n",
    "For one epoch, step through all datapoints:\n",
    "  - compute the outer activation for the datapoint\n",
    "  - update the weights accordingly.\n",
    "  \n",
    "Do this for 1000 epochs.\n",
    "Every 50 epochs, print the current weights."
   ]
  },
  {
   "cell_type": "code",
   "execution_count": 186,
   "id": "d25dba3e",
   "metadata": {},
   "outputs": [
    {
     "name": "stdout",
     "output_type": "stream",
     "text": [
      "Weights in epoch  000 : [[ 3. -2. -2.]]\n",
      "Weights in epoch  050 : [[ 2. -2. -2.]]\n",
      "Weights in epoch  100 : [[ 1.65 -1.68 -1.67]]\n",
      "Weights in epoch  150 : [[ 1.32 -1.34 -1.34]]\n",
      "Weights in epoch  200 : [[ 0.98 -1.01 -1.01]]\n",
      "Weights in epoch  250 : [[ 0.65 -0.68 -0.67]]\n",
      "Weights in epoch  300 : [[ 0.32 -0.34 -0.34]]\n",
      "Weights in epoch  350 : [[-0.01 -0.01 -0.01]]\n",
      "Weights in epoch  400 : [[-0.03  0.01  0.02]]\n",
      "Weights in epoch  450 : [[-0.03  0.01  0.02]]\n",
      "Weights in epoch  500 : [[-0.03  0.01  0.02]]\n",
      "Weights in epoch  550 : [[-0.03  0.01  0.02]]\n",
      "Weights in epoch  600 : [[-0.03  0.01  0.02]]\n",
      "Weights in epoch  650 : [[-0.03  0.01  0.02]]\n",
      "Weights in epoch  700 : [[-0.03  0.01  0.02]]\n",
      "Weights in epoch  750 : [[-0.03  0.01  0.02]]\n",
      "Weights in epoch  800 : [[-0.03  0.01  0.02]]\n",
      "Weights in epoch  850 : [[-0.03  0.01  0.02]]\n",
      "Weights in epoch  900 : [[-0.03  0.01  0.02]]\n",
      "Weights in epoch  950 : [[-0.03  0.01  0.02]]\n"
     ]
    }
   ],
   "source": [
    "w = np.array([[3.0,-2.0,-2.0]])\n",
    "for epoch in range(1000):\n",
    "    if epoch % 50 == 0:\n",
    "        print(\"Weights in epoch \", \"%03d\" % (epoch,), \":\", w)\n",
    "    for inputs, labels in zip(x, t):\n",
    "        outputs = forward_pass(w, inputs)\n",
    "        #print(\"inputs\", end=\"\")\n",
    "        #print(inputs, end=\"\")\n",
    "        #print(\"; outputs\", end=\"\")\n",
    "        #print(outputs, end=\"\")\n",
    "        #print(\"; labels\", end=\"\")\n",
    "        #print(labels)\n",
    "        update(w, inputs, outputs, labels)"
   ]
  },
  {
   "cell_type": "markdown",
   "id": "c6188894",
   "metadata": {},
   "source": [
    "As you might have realised, the weights do not change anymore after a certain point. The perceptron algorithm has converged.\n",
    "We now have a set of weights, that we can use for predicting Boolean values. But before we deploy our model, we need to evaluate its quality. Has it really learned the function properly?"
   ]
  },
  {
   "cell_type": "markdown",
   "id": "e790f568",
   "metadata": {},
   "source": [
    "### Task 4.4.2 The error _E(w)_\n",
    "In order to evaluate how good our current set of weights _w_ is, we can compute the error.\n",
    "\n",
    "$$ \\large E(w) = \\frac{1}{2} \\sum_i (t_i - y_i)^2 $$\n",
    "\n",
    "Implement the function `error(...)` which takes predcitions (outer activations) and (labels) as input and returns the error.\n",
    "\n",
    "Afterwards, compute the prediction error for the whole dataset. If it is zero, your model predicts perfectly."
   ]
  },
  {
   "cell_type": "code",
   "execution_count": 164,
   "id": "e5701db4",
   "metadata": {},
   "outputs": [],
   "source": [
    "def error(predictions, labels):\n",
    "    return 0.5 * sum((t-y)**2 for t, y in zip(predictions, labels))"
   ]
  },
  {
   "cell_type": "code",
   "execution_count": 187,
   "id": "ab566027",
   "metadata": {},
   "outputs": [
    {
     "name": "stdout",
     "output_type": "stream",
     "text": [
      "[0.]\n"
     ]
    }
   ],
   "source": [
    "# getting the prediction error for the whole dataset\n",
    "preds = [forward_pass(w, inputs) for inputs in x]\n",
    "print(error(t,preds))"
   ]
  },
  {
   "cell_type": "markdown",
   "id": "f15fcc40",
   "metadata": {},
   "source": [
    "## 4.5 Deploy the model\n",
    "Now that we have a perfectly working and evaluated model, the most interesting part for the machine learning researcher is done. However, the end user, who might not be as familiar with neural networks as we are, might have trouble applying the model to new, unseen data."
   ]
  },
  {
   "cell_type": "markdown",
   "id": "275fcf1e",
   "metadata": {},
   "source": [
    "### Task 4.5.1 The AND function\n",
    "We want to write a function that does not require the user to know about inner and outer activations or transfer functions but still enable them to harness the power of our model.\n",
    "\n",
    "Complete the function `AND(...)` that takes as input too boolean values A and B and returns the prediction of our perceptron model."
   ]
  },
  {
   "cell_type": "code",
   "execution_count": 196,
   "id": "0e8895d3",
   "metadata": {},
   "outputs": [
    {
     "name": "stdout",
     "output_type": "stream",
     "text": [
      "True\n",
      "False\n",
      "False\n",
      "False\n"
     ]
    }
   ],
   "source": [
    "def AND(A, B):\n",
    "    return True if forward_pass(w, [1.0, 1.0 if A else 0.0, 1.0 if B else 0.0])[0] > 0.5 else False\n",
    "print(AND(True, True))\n",
    "print(AND(True, False))\n",
    "print(AND(False, True))\n",
    "print(AND(False, False))"
   ]
  }
 ],
 "metadata": {
  "kernelspec": {
   "display_name": "Python 3 (ipykernel)",
   "language": "python",
   "name": "python3"
  },
  "language_info": {
   "codemirror_mode": {
    "name": "ipython",
    "version": 3
   },
   "file_extension": ".py",
   "mimetype": "text/x-python",
   "name": "python",
   "nbconvert_exporter": "python",
   "pygments_lexer": "ipython3",
   "version": "3.9.6"
  }
 },
 "nbformat": 4,
 "nbformat_minor": 5
}
