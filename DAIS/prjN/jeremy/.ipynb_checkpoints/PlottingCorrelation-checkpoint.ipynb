{
 "cells": [
  {
   "cell_type": "markdown",
   "id": "6e30b519",
   "metadata": {
    "pycharm": {
     "name": "#%% md\n"
    }
   },
   "source": [
    "# 1 Plotting and Data Visualization"
   ]
  },
  {
   "cell_type": "markdown",
   "id": "d0432e7c",
   "metadata": {
    "pycharm": {
     "name": "#%% md\n"
    }
   },
   "source": [
    "In this notebook we want to get familiar with plotting and the Python library `matplotlib`. Plotting is an essential tool for data exploration that can help you to get an intuition about certain characteristics and features of data.\n",
    "\n",
    "\n",
    "[Matplotlib](https://matplotlib.org/) is probably the most widely used Python library and will be the one we are using in this course. However, there are also other alternatives that might be interesting for you, for instance [Seaborn](https://seaborn.pydata.org/) or [Plotly](https://plotly.com/) (for this course, we expect you to stick to matplotlib)."
   ]
  },
  {
   "cell_type": "markdown",
   "id": "6ae605eb",
   "metadata": {
    "pycharm": {
     "name": "#%% md\n"
    }
   },
   "source": [
    "Let's install and import `matplotlib`:"
   ]
  },
  {
   "cell_type": "code",
   "execution_count": 2,
   "id": "20396ccc",
   "metadata": {
    "pycharm": {
     "name": "#%%\n"
    }
   },
   "outputs": [
    {
     "name": "stdout",
     "output_type": "stream",
     "text": [
      "Requirement already satisfied: matplotlib==3.5.1 in /home/merlin/.pyenv/versions/3.9.6/lib/python3.9/site-packages (3.5.1)\n",
      "Requirement already satisfied: python-dateutil>=2.7 in /home/merlin/.pyenv/versions/3.9.6/lib/python3.9/site-packages (from matplotlib==3.5.1) (2.8.2)\n",
      "Requirement already satisfied: packaging>=20.0 in /home/merlin/.pyenv/versions/3.9.6/lib/python3.9/site-packages (from matplotlib==3.5.1) (21.3)\n",
      "Requirement already satisfied: cycler>=0.10 in /home/merlin/.pyenv/versions/3.9.6/lib/python3.9/site-packages (from matplotlib==3.5.1) (0.11.0)\n",
      "Requirement already satisfied: fonttools>=4.22.0 in /home/merlin/.pyenv/versions/3.9.6/lib/python3.9/site-packages (from matplotlib==3.5.1) (4.32.0)\n",
      "Requirement already satisfied: pillow>=6.2.0 in /home/merlin/.pyenv/versions/3.9.6/lib/python3.9/site-packages (from matplotlib==3.5.1) (9.1.0)\n",
      "Requirement already satisfied: pyparsing>=2.2.1 in /home/merlin/.pyenv/versions/3.9.6/lib/python3.9/site-packages (from matplotlib==3.5.1) (3.0.8)\n",
      "Requirement already satisfied: kiwisolver>=1.0.1 in /home/merlin/.pyenv/versions/3.9.6/lib/python3.9/site-packages (from matplotlib==3.5.1) (1.4.2)\n",
      "Requirement already satisfied: numpy>=1.17 in /home/merlin/.pyenv/versions/3.9.6/lib/python3.9/site-packages (from matplotlib==3.5.1) (1.22.3)\n",
      "Requirement already satisfied: six>=1.5 in /home/merlin/.pyenv/versions/3.9.6/lib/python3.9/site-packages (from python-dateutil>=2.7->matplotlib==3.5.1) (1.16.0)\n",
      "\u001b[33mWARNING: You are using pip version 21.1.3; however, version 22.0.4 is available.\n",
      "You should consider upgrading via the '/home/merlin/.pyenv/versions/3.9.6/bin/python3.9 -m pip install --upgrade pip' command.\u001b[0m\n"
     ]
    }
   ],
   "source": [
    "!pip install matplotlib==3.5.1"
   ]
  },
  {
   "cell_type": "code",
   "execution_count": 3,
   "id": "b2caec9b",
   "metadata": {
    "pycharm": {
     "name": "#%%\n"
    }
   },
   "outputs": [],
   "source": [
    "import matplotlib.pyplot as plt\n",
    "%matplotlib inline\n",
    "import numpy as np #numpy will always have our back"
   ]
  },
  {
   "cell_type": "markdown",
   "id": "53843063",
   "metadata": {
    "pycharm": {
     "name": "#%% md\n"
    }
   },
   "source": [
    "## 1.1 Obtaining a dataset"
   ]
  },
  {
   "cell_type": "markdown",
   "id": "9a04cbb1",
   "metadata": {
    "pycharm": {
     "name": "#%% md\n"
    }
   },
   "source": [
    "For illustration purposes, we will use datasets that are canon in machine learning and data science. Those datasets are already preprocessed and easily obtainable through the [scikit-learn](https://scikit-learn.org/stable/) library.\n",
    "\n",
    "Now, let's install and import `scikit-learn` and load the dataset."
   ]
  },
  {
   "cell_type": "code",
   "execution_count": 4,
   "id": "99c496a7",
   "metadata": {
    "pycharm": {
     "name": "#%%\n"
    }
   },
   "outputs": [
    {
     "name": "stdout",
     "output_type": "stream",
     "text": [
      "Requirement already satisfied: scikit-learn==1.0.2 in /home/merlin/.pyenv/versions/3.9.6/lib/python3.9/site-packages (1.0.2)\n",
      "Requirement already satisfied: threadpoolctl>=2.0.0 in /home/merlin/.pyenv/versions/3.9.6/lib/python3.9/site-packages (from scikit-learn==1.0.2) (3.1.0)\n",
      "Requirement already satisfied: joblib>=0.11 in /home/merlin/.pyenv/versions/3.9.6/lib/python3.9/site-packages (from scikit-learn==1.0.2) (1.1.0)\n",
      "Requirement already satisfied: scipy>=1.1.0 in /home/merlin/.pyenv/versions/3.9.6/lib/python3.9/site-packages (from scikit-learn==1.0.2) (1.8.0)\n",
      "Requirement already satisfied: numpy>=1.14.6 in /home/merlin/.pyenv/versions/3.9.6/lib/python3.9/site-packages (from scikit-learn==1.0.2) (1.22.3)\n",
      "\u001b[33mWARNING: You are using pip version 21.1.3; however, version 22.0.4 is available.\n",
      "You should consider upgrading via the '/home/merlin/.pyenv/versions/3.9.6/bin/python3.9 -m pip install --upgrade pip' command.\u001b[0m\n"
     ]
    }
   ],
   "source": [
    "!pip install scikit-learn==1.0.2"
   ]
  },
  {
   "cell_type": "code",
   "execution_count": 5,
   "id": "fffe5892",
   "metadata": {
    "pycharm": {
     "name": "#%%\n"
    }
   },
   "outputs": [],
   "source": [
    "from sklearn import datasets\n",
    "diabetes = datasets.load_diabetes()"
   ]
  },
  {
   "cell_type": "markdown",
   "id": "fde7fd54",
   "metadata": {
    "pycharm": {
     "name": "#%% md\n"
    }
   },
   "source": [
    "Now we have the Diabetes Patients dataset. Let's try to explore it with ```matplotlib```."
   ]
  },
  {
   "cell_type": "code",
   "execution_count": 6,
   "id": "6d087cca",
   "metadata": {
    "pycharm": {
     "name": "#%%\n"
    }
   },
   "outputs": [
    {
     "name": "stdout",
     "output_type": "stream",
     "text": [
      "(442, 10)\n"
     ]
    }
   ],
   "source": [
    "print(diabetes[\"data\"].shape)"
   ]
  },
  {
   "cell_type": "markdown",
   "id": "fee4627f",
   "metadata": {
    "pycharm": {
     "name": "#%% md\n"
    }
   },
   "source": [
    "As you can see, we have 442 samples with 10 features (Actually, there is an 11th feature, the target, which denotes the response variable, a measure of disease progression one year after baseline). Now, have a look at what features we are dealing with:"
   ]
  },
  {
   "cell_type": "code",
   "execution_count": 7,
   "id": "98681be0",
   "metadata": {
    "pycharm": {
     "name": "#%%\n"
    },
    "scrolled": true
   },
   "outputs": [
    {
     "name": "stdout",
     "output_type": "stream",
     "text": [
      "['age', 'sex', 'bmi', 'bp', 's1', 's2', 's3', 's4', 's5', 's6']\n"
     ]
    }
   ],
   "source": [
    "print(diabetes[\"feature_names\"])"
   ]
  },
  {
   "cell_type": "markdown",
   "id": "0188a322",
   "metadata": {
    "pycharm": {
     "name": "#%% md\n"
    }
   },
   "source": [
    "Some of the given abbreviations may seem rightfully cryptic to you, more information can be found in the dataset description:"
   ]
  },
  {
   "cell_type": "code",
   "execution_count": 8,
   "id": "20617b94",
   "metadata": {
    "pycharm": {
     "name": "#%%\n"
    }
   },
   "outputs": [
    {
     "name": "stdout",
     "output_type": "stream",
     "text": [
      ".. _diabetes_dataset:\n",
      "\n",
      "Diabetes dataset\n",
      "----------------\n",
      "\n",
      "Ten baseline variables, age, sex, body mass index, average blood\n",
      "pressure, and six blood serum measurements were obtained for each of n =\n",
      "442 diabetes patients, as well as the response of interest, a\n",
      "quantitative measure of disease progression one year after baseline.\n",
      "\n",
      "**Data Set Characteristics:**\n",
      "\n",
      "  :Number of Instances: 442\n",
      "\n",
      "  :Number of Attributes: First 10 columns are numeric predictive values\n",
      "\n",
      "  :Target: Column 11 is a quantitative measure of disease progression one year after baseline\n",
      "\n",
      "  :Attribute Information:\n",
      "      - age     age in years\n",
      "      - sex\n",
      "      - bmi     body mass index\n",
      "      - bp      average blood pressure\n",
      "      - s1      tc, total serum cholesterol\n",
      "      - s2      ldl, low-density lipoproteins\n",
      "      - s3      hdl, high-density lipoproteins\n",
      "      - s4      tch, total cholesterol / HDL\n",
      "      - s5      ltg, possibly log of serum triglycerides level\n",
      "      - s6      glu, blood sugar level\n",
      "\n",
      "Note: Each of these 10 feature variables have been mean centered and scaled by the standard deviation times `n_samples` (i.e. the sum of squares of each column totals 1).\n",
      "\n",
      "Source URL:\n",
      "https://www4.stat.ncsu.edu/~boos/var.select/diabetes.html\n",
      "\n",
      "For more information see:\n",
      "Bradley Efron, Trevor Hastie, Iain Johnstone and Robert Tibshirani (2004) \"Least Angle Regression,\" Annals of Statistics (with discussion), 407-499.\n",
      "(https://web.stanford.edu/~hastie/Papers/LARS/LeastAngle_2002.pdf)\n"
     ]
    }
   ],
   "source": [
    "print(diabetes.DESCR)"
   ]
  },
  {
   "cell_type": "markdown",
   "id": "346c6efd",
   "metadata": {
    "pycharm": {
     "name": "#%% md\n"
    }
   },
   "source": [
    "## 1.2 Visualize features"
   ]
  },
  {
   "cell_type": "markdown",
   "id": "20041927",
   "metadata": {
    "pycharm": {
     "name": "#%% md\n"
    }
   },
   "source": [
    "Now, we want to get to know more about a feature, how it is distributed, and what we can learn from it. Therefore, we will pick out one of the features and plot them in different ways. \n",
    "\n",
    "As an example feature, we will take \"bp\", the blood pressure measurement."
   ]
  },
  {
   "cell_type": "markdown",
   "id": "3ca10abf",
   "metadata": {
    "pycharm": {
     "name": "#%% md\n"
    }
   },
   "source": [
    "### Task 1.2.1: Get the feature\n",
    "Isolate the feature \"bp\" from the data and save the vector into the provided variable _bp_."
   ]
  },
  {
   "cell_type": "code",
   "execution_count": 9,
   "id": "d737b9c5",
   "metadata": {
    "pycharm": {
     "name": "#%%\n"
    }
   },
   "outputs": [],
   "source": [
    "bp = diabetes[\"data\"][:,3]"
   ]
  },
  {
   "cell_type": "markdown",
   "id": "c174b645",
   "metadata": {
    "pycharm": {
     "name": "#%% md\n"
    }
   },
   "source": [
    "### Task 1.2.2: Describe the data\n",
    "Use the skills you learnt in the lecture and the last assignment (and `numpy`), to extract meaningful properties from the data:\n",
    "- Attribute type (scale) of the data\n",
    "- Mean\n",
    "- Median\n",
    "- Maximum value\n",
    "- Minimum value\n",
    "- Variance\n",
    "\n",
    "_Note that the data of this ready-to-use dataset have been already mean centered and scaled proportional to standard deviation. However, extracting the common properties like mean, median etc. helps you to have a good first impression of the data._)"
   ]
  },
  {
   "cell_type": "code",
   "execution_count": 10,
   "id": "df1b3353",
   "metadata": {
    "pycharm": {
     "name": "#%%\n"
    }
   },
   "outputs": [
    {
     "name": "stdout",
     "output_type": "stream",
     "text": [
      "1.2898179256674614e-16 -0.00567061055493425 0.132044217194516 -0.112399602060758 0.0022624434389140686\n"
     ]
    }
   ],
   "source": [
    "# attribute type: your answer here\n",
    "bp_mean = np.mean(bp)\n",
    "bp_median = np.median(bp)\n",
    "bp_max = np.max(bp)\n",
    "bp_min = np.min(bp)\n",
    "bp_var = np.var(bp)\n",
    "\n",
    "print(bp_mean, bp_median, bp_max, bp_min, bp_var)"
   ]
  },
  {
   "cell_type": "markdown",
   "id": "2c59475e",
   "metadata": {
    "pycharm": {
     "name": "#%% md\n"
    }
   },
   "source": [
    "### Task 1.2.3: Show the distribution\n",
    "Now, we are interested in the distribution of blood pressure in diabetes patients and therefore want to sort patients' blood pressure data into \"buckets\" in a histogram. \n",
    "\n",
    "_Have a look at the sample plots in on the [matplotlib website](https://matplotlib.org/stable/gallery/statistics/histogram_features.html)._\n",
    "\n",
    "**Do not forget to label your axes correctly and give your plot a suitable title!**"
   ]
  },
  {
   "cell_type": "code",
   "execution_count": 11,
   "id": "5e929728",
   "metadata": {
    "pycharm": {
     "name": "#%%\n"
    }
   },
   "outputs": [
    {
     "data": {
      "image/png": "[encoded data removed]",
      "text/plain": [
       "<Figure size 432x288 with 1 Axes>"
      ]
     },
     "metadata": {
      "needs_background": "light"
     },
     "output_type": "display_data"
    }
   ],
   "source": [
    "n, bins, patches = plt.hist(bp, 'sqrt', density=False, range=(bp_min, bp_max))\n",
    "\n",
    "plt.title(\"Distribution of Blood Pressure\")\n",
    "plt.xlabel(\"Bloodlevel\")\n",
    "plt.ylabel(\"Amount of People\")\n",
    "plt.show()"
   ]
  },
  {
   "cell_type": "markdown",
   "id": "e7e25e52",
   "metadata": {
    "pycharm": {
     "name": "#%% md\n"
    }
   },
   "source": [
    "### Bonus Task 1.2.4: What type of function could describe the data approximately?"
   ]
  },
  {
   "cell_type": "code",
   "execution_count": 12,
   "id": "fa9f0dc8",
   "metadata": {
    "pycharm": {
     "name": "#%%\n"
    }
   },
   "outputs": [],
   "source": [
    "# Possibly a Poisson-distribution moved along the X-axis"
   ]
  },
  {
   "cell_type": "markdown",
   "id": "4a0b15c5",
   "metadata": {
    "pycharm": {
     "name": "#%% md\n"
    }
   },
   "source": [
    "### Task 1.2.5: Show the boxplot and describe it\n",
    "Now that you know how to plot with matplotlib, you are tasked to create a box and whiskers plot of the data. Have a look at the [official matplotlib documentation](https://matplotlib.org/stable/api/_as_gen/matplotlib.pyplot.boxplot.html) if you need some guidance. Additionally, give a quick description of the plot and what you learn from it about the data, especially in terms of _outliers_."
   ]
  },
  {
   "cell_type": "code",
   "execution_count": 1,
   "id": "a9691af6",
   "metadata": {
    "pycharm": {
     "name": "#%%\n"
    }
   },
   "outputs": [
    {
     "ename": "NameError",
     "evalue": "name 'plt' is not defined",
     "output_type": "error",
     "traceback": [
      "\u001b[0;31m---------------------------------------------------------------------------\u001b[0m",
      "\u001b[0;31mNameError\u001b[0m                                 Traceback (most recent call last)",
      "Input \u001b[0;32mIn [1]\u001b[0m, in \u001b[0;36m<cell line: 1>\u001b[0;34m()\u001b[0m\n\u001b[0;32m----> 1\u001b[0m \u001b[43mplt\u001b[49m\u001b[38;5;241m.\u001b[39mtitle(\u001b[38;5;124m\"\u001b[39m\u001b[38;5;124mDistribution of blood pressure in diabetes patients\u001b[39m\u001b[38;5;124m\"\u001b[39m)\n\u001b[1;32m      2\u001b[0m plt\u001b[38;5;241m.\u001b[39mxlabel(\u001b[38;5;124m\"\u001b[39m\u001b[38;5;124mAvg. blood pressure\u001b[39m\u001b[38;5;124m\"\u001b[39m)\n\u001b[1;32m      3\u001b[0m plt\u001b[38;5;241m.\u001b[39mboxplot(bp, sym\u001b[38;5;241m=\u001b[39m\u001b[38;5;124m\"\u001b[39m\u001b[38;5;124mx\u001b[39m\u001b[38;5;124m\"\u001b[39m, vert\u001b[38;5;241m=\u001b[39m\u001b[38;5;28;01mFalse\u001b[39;00m)\n",
      "\u001b[0;31mNameError\u001b[0m: name 'plt' is not defined"
     ]
    }
   ],
   "source": [
    "plt.title(\"Distribution of blood pressure in diabetes patients\")\n",
    "plt.xlabel(\"Avg. blood pressure\")\n",
    "plt.boxplot(bp, sym=\"x\", vert=False)\n",
    "plt.show()\n",
    "\n",
    "# There are no outliers. The distribution is right-skewed. \n",
    "# Half of the blood levels are in the range [-0.05, 0.05]."
   ]
  },
  {
   "cell_type": "markdown",
   "id": "5e853924",
   "metadata": {
    "pycharm": {
     "name": "#%% md\n"
    }
   },
   "source": [
    "## 1.3 Visualize 2D data\n",
    "After we have looked at the characteristics of a single feature, let's see how `matplotlib` can help to visualise two-dimensional data and single samples. Prominent 2D data are greyscale photos or images, where the two dimensions are the x and y positions of the pixel values."
   ]
  },
  {
   "cell_type": "markdown",
   "id": "aaeb26aa",
   "metadata": {
    "pycharm": {
     "name": "#%% md\n"
    }
   },
   "source": [
    "### 1.3.1 Obtain an image dataset\n",
    "Fortunately, `scikit-learn` also provides a dataset with pixel images as samples."
   ]
  },
  {
   "cell_type": "code",
   "execution_count": 46,
   "id": "6fde4a2b",
   "metadata": {
    "pycharm": {
     "name": "#%%\n"
    },
    "scrolled": true
   },
   "outputs": [
    {
     "name": "stdout",
     "output_type": "stream",
     "text": [
      "dict_keys(['data', 'target', 'frame', 'feature_names', 'target_names', 'images', 'DESCR'])\n"
     ]
    }
   ],
   "source": [
    "digits = datasets.load_digits()\n",
    "print(digits.keys())"
   ]
  },
  {
   "cell_type": "markdown",
   "id": "323c202a",
   "metadata": {
    "pycharm": {
     "name": "#%% md\n"
    }
   },
   "source": [
    "Let's go the usual route and have a look at the shape of the data."
   ]
  },
  {
   "cell_type": "code",
   "execution_count": 47,
   "id": "97558801",
   "metadata": {
    "pycharm": {
     "name": "#%%\n"
    }
   },
   "outputs": [
    {
     "name": "stdout",
     "output_type": "stream",
     "text": [
      "(1797, 64)\n"
     ]
    }
   ],
   "source": [
    "print(digits[\"data\"].shape)"
   ]
  },
  {
   "cell_type": "markdown",
   "id": "ea70faa0",
   "metadata": {
    "pycharm": {
     "name": "#%% md\n"
    }
   },
   "source": [
    "So, we have 1797 samples with 64 features each. That means, if we isolate a feature vector for a single sample, it has 64 features. But aren't we dealing with images that are usually 2-dimensional?\n",
    "\n",
    "Perhaps the feature names can give more insight:"
   ]
  },
  {
   "cell_type": "code",
   "execution_count": 48,
   "id": "5ae8977e",
   "metadata": {
    "pycharm": {
     "name": "#%%\n"
    }
   },
   "outputs": [
    {
     "name": "stdout",
     "output_type": "stream",
     "text": [
      "['pixel_0_0', 'pixel_0_1', 'pixel_0_2', 'pixel_0_3', 'pixel_0_4', 'pixel_0_5', 'pixel_0_6', 'pixel_0_7', 'pixel_1_0', 'pixel_1_1', 'pixel_1_2', 'pixel_1_3', 'pixel_1_4', 'pixel_1_5', 'pixel_1_6', 'pixel_1_7', 'pixel_2_0', 'pixel_2_1', 'pixel_2_2', 'pixel_2_3', 'pixel_2_4', 'pixel_2_5', 'pixel_2_6', 'pixel_2_7', 'pixel_3_0', 'pixel_3_1', 'pixel_3_2', 'pixel_3_3', 'pixel_3_4', 'pixel_3_5', 'pixel_3_6', 'pixel_3_7', 'pixel_4_0', 'pixel_4_1', 'pixel_4_2', 'pixel_4_3', 'pixel_4_4', 'pixel_4_5', 'pixel_4_6', 'pixel_4_7', 'pixel_5_0', 'pixel_5_1', 'pixel_5_2', 'pixel_5_3', 'pixel_5_4', 'pixel_5_5', 'pixel_5_6', 'pixel_5_7', 'pixel_6_0', 'pixel_6_1', 'pixel_6_2', 'pixel_6_3', 'pixel_6_4', 'pixel_6_5', 'pixel_6_6', 'pixel_6_7', 'pixel_7_0', 'pixel_7_1', 'pixel_7_2', 'pixel_7_3', 'pixel_7_4', 'pixel_7_5', 'pixel_7_6', 'pixel_7_7']\n"
     ]
    }
   ],
   "source": [
    "print(digits[\"feature_names\"])"
   ]
  },
  {
   "cell_type": "markdown",
   "id": "ec9fa903",
   "metadata": {
    "pycharm": {
     "name": "#%% md\n"
    }
   },
   "source": [
    "From the feature names, we can conclude that the pixel values are represented in a vector, row for row. In order to plot it as a picture, we need a 2D representation, though.\n",
    "\n",
    "Therefore our tasks are now: \n",
    "- 1.) isolate the feature vector of a single sample\n",
    "- 2.) reshape the vector into a 2D matrix\n",
    "- 3.) plot the image using `matplotlib`"
   ]
  },
  {
   "cell_type": "markdown",
   "id": "3c09535b",
   "metadata": {
    "pycharm": {
     "name": "#%% md\n"
    }
   },
   "source": [
    "### Task 1.3.1 Isolate a feature vector\n",
    "This task can be seen as the \"inverse\" of task 1.2.1. But now, instead of a single feature over all samples, we want all the features for a single sample!\n",
    "\n",
    "Isolate a sample of your choice and save it in the variable _digit_."
   ]
  },
  {
   "cell_type": "code",
   "execution_count": 50,
   "id": "bc517988",
   "metadata": {
    "pycharm": {
     "name": "#%%\n"
    }
   },
   "outputs": [
    {
     "name": "stdout",
     "output_type": "stream",
     "text": [
      "(64,)\n"
     ]
    }
   ],
   "source": [
    "digit = digits[\"data\"][10]\n",
    "print(digit.shape)"
   ]
  },
  {
   "cell_type": "markdown",
   "id": "db0984dc",
   "metadata": {
    "pycharm": {
     "name": "#%% md\n"
    }
   },
   "source": [
    "### Task 1.3.2 Reshape the vector into a 2D matrix\n",
    "Now, you should have a vector of length 64. The image samples of the dataset are square. So now you need to reshape the vector into the appropriate shape using Numpy. Save the resulting matrix into the variable _im_.\n",
    "\n",
    "Hint: a helpful function is [numpy.reshape](https://numpy.org/doc/stable/reference/generated/numpy.reshape.html)."
   ]
  },
  {
   "cell_type": "code",
   "execution_count": 52,
   "id": "f6275cee",
   "metadata": {
    "pycharm": {
     "name": "#%%\n"
    }
   },
   "outputs": [
    {
     "name": "stdout",
     "output_type": "stream",
     "text": [
      "(8, 8)\n"
     ]
    }
   ],
   "source": [
    "im = digit.reshape((8,8))\n",
    "print(im.shape)"
   ]
  },
  {
   "cell_type": "markdown",
   "id": "3ec366e6",
   "metadata": {
    "pycharm": {
     "name": "#%% md\n"
    }
   },
   "source": [
    "### Task 1.3.3 Plot the image\n",
    "Use the skills obtained above to plot the sample using the ```imshow``` [function from matplotlib](https://matplotlib.org/stable/api/_as_gen/matplotlib.pyplot.imshow.html).\n",
    "\n",
    "**Keep in mind: No plot without title and axes labels!**"
   ]
  },
  {
   "cell_type": "code",
   "execution_count": 55,
   "id": "34c7fee7",
   "metadata": {
    "pycharm": {
     "name": "#%%\n"
    }
   },
   "outputs": [
    {
     "data": {
      "text/plain": [
       "<matplotlib.image.AxesImage at 0x1997f9c31c0>"
      ]
     },
     "execution_count": 55,
     "metadata": {},
     "output_type": "execute_result"
    },
    {
     "data": {
      "image/png": "[encoded data removed]",
      "text/plain": [
       "<Figure size 432x288 with 1 Axes>"
      ]
     },
     "metadata": {
      "needs_background": "light"
     },
     "output_type": "display_data"
    }
   ],
   "source": [
    "plt.title(\"Image Nr. 11\")\n",
    "plt.xlabel(\"X-Coordinate\")\n",
    "plt.ylabel(\"Y-Coordinate\")\n",
    "plt.imshow(im)"
   ]
  },
  {
   "cell_type": "markdown",
   "id": "c9e4b1f0",
   "metadata": {
    "pycharm": {
     "name": "#%% md\n"
    }
   },
   "source": [
    "## Task 1.4 Visual recognition of correlations\n",
    "\n",
    "In this task your job is to plot different attributes against each other in a scatterplot to find out if the selected attributes are linearly correlated."
   ]
  },
  {
   "cell_type": "markdown",
   "id": "9a3aa9f8",
   "metadata": {
    "pycharm": {
     "name": "#%% md\n"
    }
   },
   "source": [
    "### Task 1.4.1 BMI and Blood Pressure\n",
    "\n",
    "We assume a positive correlation between the body mass index (BMI) of a person and their blood pressure.\n",
    "Plot the asscociated attributes against each other and analyze the plot to find out if this is true."
   ]
  },
  {
   "cell_type": "code",
   "execution_count": 65,
   "id": "dd6d6d49",
   "metadata": {
    "pycharm": {
     "name": "#%%\n"
    }
   },
   "outputs": [
    {
     "data": {
      "image/png": "[encoded data removed]",
      "text/plain": [
       "<Figure size 432x288 with 1 Axes>"
      ]
     },
     "metadata": {
      "needs_background": "light"
     },
     "output_type": "display_data"
    }
   ],
   "source": [
    "bmi = diabetes[\"data\"][:,2]\n",
    "\n",
    "plt.scatter(bp, bmi)\n",
    "plt.title(\"Correlation between the BMI and blood pressure\")\n",
    "plt.xlabel(\"Blood pressure\")\n",
    "plt.ylabel(\"BMI\")\n",
    "plt.show()\n",
    "\n",
    "# Is the assumption true? Your Answer here\n",
    "# The assumption is true because the higher the blood pressure gets the higher the BMI, there are some points that show bigger deviation. But overall there is a positive correlation."
   ]
  },
  {
   "cell_type": "markdown",
   "id": "ba8a5409",
   "metadata": {
    "pycharm": {
     "name": "#%% md\n"
    }
   },
   "source": [
    "### Task 1.4.2 Age and Diabetes Disease Progression\n",
    "\n",
    "As a layman, one could assume that the older a patient is, the worse their status of diabetes progression. Therefore, we assume that both features have a positive linear correlation. Plot the asscociated attributes against each other and analyze the plot to find out if this assumption is true."
   ]
  },
  {
   "cell_type": "code",
   "execution_count": 68,
   "id": "c3a27f36",
   "metadata": {
    "pycharm": {
     "name": "#%%\n"
    }
   },
   "outputs": [
    {
     "data": {
      "image/png": "[encoded data removed]",
      "text/plain": [
       "<Figure size 432x288 with 1 Axes>"
      ]
     },
     "metadata": {
      "needs_background": "light"
     },
     "output_type": "display_data"
    }
   ],
   "source": [
    "age = diabetes[\"data\"][:,0]\n",
    "ddp = diabetes.target\n",
    "\n",
    "plt.scatter(age, ddp)\n",
    "plt.title(\"Correlation between Age and Diabetes Disease Progression\")\n",
    "plt.xlabel(\"Age\")\n",
    "plt.ylabel(\"Diabetes Disease Progression\")\n",
    "plt.show()\n",
    "\n",
    "# Is the assumption true? Your Answer here\n",
    "# The assumption isn't true, because if you look at the graph you can see that the Points are scattered around with no real pattern."
   ]
  },
  {
   "cell_type": "markdown",
   "id": "0630eb4a",
   "metadata": {
    "pycharm": {
     "name": "#%% md\n"
    }
   },
   "source": [
    "### Task 1.4.3 High-Density Lipoproteins and Diabetes Disease Progression\n",
    "Some correlations between features might be difficult to estimate/assume when dealing with new data. Let's explore the influence on high-density lipoproteins on diabetes disease progression.\n",
    "\n",
    "Plot the asscociated attributes against each other and analyze the plot to find out if there is some correlation."
   ]
  },
  {
   "cell_type": "code",
   "execution_count": 69,
   "id": "7842afb8",
   "metadata": {
    "pycharm": {
     "name": "#%%\n"
    }
   },
   "outputs": [
    {
     "data": {
      "image/png": "[encoded data removed]",
      "text/plain": [
       "<Figure size 432x288 with 1 Axes>"
      ]
     },
     "metadata": {
      "needs_background": "light"
     },
     "output_type": "display_data"
    }
   ],
   "source": [
    "hdl = diabetes[\"data\"][:,6]\n",
    "\n",
    "plt.scatter(hdl, ddp)\n",
    "plt.title(\"Correlation between High-Density Lipoproteins and Diabetes Disease Progression\")\n",
    "plt.xlabel(\"High-Density Lipoproteins\")\n",
    "plt.ylabel(\"Diabetes Disease Progression\")\n",
    "plt.show()\n",
    "\n",
    "# Is there a correlation? Your Answer here\n",
    "# By analysing the Plot you can see that the higher the progression is, the lower the amount of people that have a high amount High-Density Lipoproteins."
   ]
  }
 ],
 "metadata": {
  "kernelspec": {
   "display_name": "Python 3 (ipykernel)",
   "language": "python",
   "name": "python3"
  },
  "language_info": {
   "codemirror_mode": {
    "name": "ipython",
    "version": 3
   },
   "file_extension": ".py",
   "mimetype": "text/x-python",
   "name": "python",
   "nbconvert_exporter": "python",
   "pygments_lexer": "ipython3",
   "version": "3.9.6"
  }
 },
 "nbformat": 4,
 "nbformat_minor": 5
}
