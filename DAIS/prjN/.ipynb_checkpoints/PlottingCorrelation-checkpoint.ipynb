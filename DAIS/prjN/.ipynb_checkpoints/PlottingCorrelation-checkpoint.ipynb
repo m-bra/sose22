{
 "cells": [
  {
   "cell_type": "markdown",
   "id": "6e30b519",
   "metadata": {},
   "source": [
    "# 1 Plotting and Data Visualization"
   ]
  },
  {
   "cell_type": "markdown",
   "id": "d0432e7c",
   "metadata": {},
   "source": [
    "In this notebook we want to get familiar with plotting and the Python library `matplotlib`. Plotting is an essential tool for data exploration that can help you to get an intuition about certain characteristics and features of data.\n",
    "\n",
    "\n",
    "[Matplotlib](https://matplotlib.org/) is probably the most widely used Python library and will be the one we are using in this course. However, there are also other alternatives that might be interesting for you, for instance [Seaborn](https://seaborn.pydata.org/) or [Plotly](https://plotly.com/) (for this course, we expect you to stick to matplotlib)."
   ]
  },
  {
   "cell_type": "markdown",
   "id": "6ae605eb",
   "metadata": {},
   "source": [
    "Let's install and import `matplotlib`:"
   ]
  },
  {
   "cell_type": "code",
   "execution_count": 3,
   "id": "20396ccc",
   "metadata": {},
   "outputs": [
    {
     "name": "stdout",
     "output_type": "stream",
     "text": [
      "Requirement already satisfied: matplotlib==3.5.1 in /home/merlin/.pyenv/versions/3.9.6/lib/python3.9/site-packages (3.5.1)\n",
      "Requirement already satisfied: pyparsing>=2.2.1 in /home/merlin/.pyenv/versions/3.9.6/lib/python3.9/site-packages (from matplotlib==3.5.1) (3.0.8)\n",
      "Requirement already satisfied: numpy>=1.17 in /home/merlin/.pyenv/versions/3.9.6/lib/python3.9/site-packages (from matplotlib==3.5.1) (1.22.3)\n",
      "Requirement already satisfied: pillow>=6.2.0 in /home/merlin/.pyenv/versions/3.9.6/lib/python3.9/site-packages (from matplotlib==3.5.1) (9.1.0)\n",
      "Requirement already satisfied: fonttools>=4.22.0 in /home/merlin/.pyenv/versions/3.9.6/lib/python3.9/site-packages (from matplotlib==3.5.1) (4.32.0)\n",
      "Requirement already satisfied: packaging>=20.0 in /home/merlin/.pyenv/versions/3.9.6/lib/python3.9/site-packages (from matplotlib==3.5.1) (21.3)\n",
      "Requirement already satisfied: cycler>=0.10 in /home/merlin/.pyenv/versions/3.9.6/lib/python3.9/site-packages (from matplotlib==3.5.1) (0.11.0)\n",
      "Requirement already satisfied: python-dateutil>=2.7 in /home/merlin/.pyenv/versions/3.9.6/lib/python3.9/site-packages (from matplotlib==3.5.1) (2.8.2)\n",
      "Requirement already satisfied: kiwisolver>=1.0.1 in /home/merlin/.pyenv/versions/3.9.6/lib/python3.9/site-packages (from matplotlib==3.5.1) (1.4.2)\n",
      "Requirement already satisfied: six>=1.5 in /home/merlin/.pyenv/versions/3.9.6/lib/python3.9/site-packages (from python-dateutil>=2.7->matplotlib==3.5.1) (1.16.0)\n",
      "\u001b[33mWARNING: You are using pip version 21.1.3; however, version 22.0.4 is available.\n",
      "You should consider upgrading via the '/home/merlin/.pyenv/versions/3.9.6/bin/python3.9 -m pip install --upgrade pip' command.\u001b[0m\n"
     ]
    }
   ],
   "source": [
    "!pip install matplotlib==3.5.1"
   ]
  },
  {
   "cell_type": "code",
   "execution_count": 5,
   "id": "b2caec9b",
   "metadata": {},
   "outputs": [],
   "source": [
    "import matplotlib.pyplot as plt\n",
    "%matplotlib inline\n",
    "import numpy as np #numpy will always have our back"
   ]
  },
  {
   "cell_type": "markdown",
   "id": "53843063",
   "metadata": {},
   "source": [
    "## 1.1 Obtaining a dataset"
   ]
  },
  {
   "cell_type": "markdown",
   "id": "9a04cbb1",
   "metadata": {},
   "source": [
    "For illustration purposes, we will use datasets that are canon in machine learning and data science. Those datasets are already preprocessed and easily obtainable through the [scikit-learn](https://scikit-learn.org/stable/) library.\n",
    "\n",
    "Now, let's install and import `scikit-learn` and load the dataset."
   ]
  },
  {
   "cell_type": "code",
   "execution_count": 6,
   "id": "99c496a7",
   "metadata": {},
   "outputs": [
    {
     "name": "stdout",
     "output_type": "stream",
     "text": [
      "Collecting scikit-learn==1.0.2\n",
      "  Downloading scikit_learn-1.0.2-cp39-cp39-manylinux_2_17_x86_64.manylinux2014_x86_64.whl (26.4 MB)\n",
      "\u001b[K     |████████████████████████████████| 26.4 MB 30 kB/s  eta 0:00:01    |████████▎                       | 6.8 MB 2.2 MB/s eta 0:00:10\n",
      "\u001b[?25hCollecting joblib>=0.11\n",
      "  Downloading joblib-1.1.0-py2.py3-none-any.whl (306 kB)\n",
      "\u001b[K     |████████████████████████████████| 306 kB 2.9 MB/s eta 0:00:01\n",
      "\u001b[?25hRequirement already satisfied: numpy>=1.14.6 in /home/merlin/.pyenv/versions/3.9.6/lib/python3.9/site-packages (from scikit-learn==1.0.2) (1.22.3)\n",
      "Collecting threadpoolctl>=2.0.0\n",
      "  Downloading threadpoolctl-3.1.0-py3-none-any.whl (14 kB)\n",
      "Collecting scipy>=1.1.0\n",
      "  Downloading scipy-1.8.0-cp39-cp39-manylinux_2_17_x86_64.manylinux2014_x86_64.whl (42.1 MB)\n",
      "\u001b[K     |████████████████████████████████| 42.1 MB 25 kB/s  eta 0:00:011\n",
      "\u001b[?25hInstalling collected packages: threadpoolctl, scipy, joblib, scikit-learn\n",
      "Successfully installed joblib-1.1.0 scikit-learn-1.0.2 scipy-1.8.0 threadpoolctl-3.1.0\n",
      "\u001b[33mWARNING: You are using pip version 21.1.3; however, version 22.0.4 is available.\n",
      "You should consider upgrading via the '/home/merlin/.pyenv/versions/3.9.6/bin/python3.9 -m pip install --upgrade pip' command.\u001b[0m\n"
     ]
    }
   ],
   "source": [
    "!pip install scikit-learn==1.0.2"
   ]
  },
  {
   "cell_type": "code",
   "execution_count": 7,
   "id": "fffe5892",
   "metadata": {},
   "outputs": [],
   "source": [
    "from sklearn import datasets\n",
    "diabetes = datasets.load_diabetes()"
   ]
  },
  {
   "cell_type": "markdown",
   "id": "fde7fd54",
   "metadata": {},
   "source": [
    "Now we have the Diabetes Patients dataset. Let's try to explore it with ```matplotlib```."
   ]
  },
  {
   "cell_type": "code",
   "execution_count": 8,
   "id": "6d087cca",
   "metadata": {},
   "outputs": [
    {
     "name": "stdout",
     "output_type": "stream",
     "text": [
      "(442, 10)\n"
     ]
    }
   ],
   "source": [
    "print(diabetes[\"data\"].shape)"
   ]
  },
  {
   "cell_type": "markdown",
   "id": "fee4627f",
   "metadata": {},
   "source": [
    "As you can see, we have 442 samples with 10 features (Actually, there is an 11th feature, the target, which denotes the response variable, a measure of disease progression one year after baseline). Now, have a look at what features we are dealing with:"
   ]
  },
  {
   "cell_type": "code",
   "execution_count": 11,
   "id": "98681be0",
   "metadata": {
    "scrolled": true
   },
   "outputs": [
    {
     "name": "stdout",
     "output_type": "stream",
     "text": [
      "['age', 'sex', 'bmi', 'bp', 's1', 's2', 's3', 's4', 's5', 's6']\n",
      "['age', 'sex', 'bmi', 'bp', 's1', 's2', 's3', 's4', 's5', 's6']\n"
     ]
    }
   ],
   "source": [
    "print(diabetes[\"feature_names\"])\n",
    "print(diabetes.feature_names)"
   ]
  },
  {
   "cell_type": "markdown",
   "id": "0188a322",
   "metadata": {},
   "source": [
    "Some of the given abbreviations may seem rightfully cryptic to you, more information can be found in the dataset description:"
   ]
  },
  {
   "cell_type": "code",
   "execution_count": 12,
   "id": "20617b94",
   "metadata": {},
   "outputs": [
    {
     "name": "stdout",
     "output_type": "stream",
     "text": [
      ".. _diabetes_dataset:\n",
      "\n",
      "Diabetes dataset\n",
      "----------------\n",
      "\n",
      "Ten baseline variables, age, sex, body mass index, average blood\n",
      "pressure, and six blood serum measurements were obtained for each of n =\n",
      "442 diabetes patients, as well as the response of interest, a\n",
      "quantitative measure of disease progression one year after baseline.\n",
      "\n",
      "**Data Set Characteristics:**\n",
      "\n",
      "  :Number of Instances: 442\n",
      "\n",
      "  :Number of Attributes: First 10 columns are numeric predictive values\n",
      "\n",
      "  :Target: Column 11 is a quantitative measure of disease progression one year after baseline\n",
      "\n",
      "  :Attribute Information:\n",
      "      - age     age in years\n",
      "      - sex\n",
      "      - bmi     body mass index\n",
      "      - bp      average blood pressure\n",
      "      - s1      tc, total serum cholesterol\n",
      "      - s2      ldl, low-density lipoproteins\n",
      "      - s3      hdl, high-density lipoproteins\n",
      "      - s4      tch, total cholesterol / HDL\n",
      "      - s5      ltg, possibly log of serum triglycerides level\n",
      "      - s6      glu, blood sugar level\n",
      "\n",
      "Note: Each of these 10 feature variables have been mean centered and scaled by the standard deviation times `n_samples` (i.e. the sum of squares of each column totals 1).\n",
      "\n",
      "Source URL:\n",
      "https://www4.stat.ncsu.edu/~boos/var.select/diabetes.html\n",
      "\n",
      "For more information see:\n",
      "Bradley Efron, Trevor Hastie, Iain Johnstone and Robert Tibshirani (2004) \"Least Angle Regression,\" Annals of Statistics (with discussion), 407-499.\n",
      "(https://web.stanford.edu/~hastie/Papers/LARS/LeastAngle_2002.pdf)\n"
     ]
    }
   ],
   "source": [
    "print(diabetes.DESCR)"
   ]
  },
  {
   "cell_type": "markdown",
   "id": "346c6efd",
   "metadata": {},
   "source": [
    "## 1.2 Visualize features"
   ]
  },
  {
   "cell_type": "markdown",
   "id": "20041927",
   "metadata": {},
   "source": [
    "Now, we want to get to know more about a feature, how it is distributed, and what we can learn from it. Therefore, we will pick out one of the features and plot them in different ways. \n",
    "\n",
    "As an example feature, we will take \"bp\", the blood pressure measurement."
   ]
  },
  {
   "cell_type": "markdown",
   "id": "3ca10abf",
   "metadata": {},
   "source": [
    "### Task 1.2.1: Get the feature\n",
    "Isolate the feature \"bp\" from the data and save the vector into the provided variable _bp_."
   ]
  },
  {
   "cell_type": "code",
   "execution_count": 15,
   "id": "d737b9c5",
   "metadata": {},
   "outputs": [
    {
     "data": {
      "text/plain": [
       "array([ 2.18723550e-02, -2.63278347e-02, -5.67061055e-03, -3.66564468e-02,\n",
       "        2.18723550e-02, -1.94420933e-02, -1.59992226e-02,  6.66296740e-02,\n",
       "       -4.00993175e-02, -3.32135761e-02,  8.10087222e-03, -3.32135761e-02,\n",
       "       -9.11348125e-03,  8.10087222e-03, -1.25563519e-02,  8.04011568e-02,\n",
       "        4.94153205e-02,  5.63010619e-02, -3.66564468e-02, -4.00993175e-02,\n",
       "       -4.35421882e-02,  1.21513083e-03, -9.11348125e-03,  3.10533436e-02,\n",
       "       -2.28849640e-02, -4.00993175e-02, -2.63278347e-02, -4.00993175e-02,\n",
       "       -7.45280244e-02,  6.31868033e-02, -1.94420933e-02, -8.14137658e-02,\n",
       "        2.87580964e-02, -2.22773986e-03, -5.73136710e-02, -4.92803060e-02,\n",
       "        5.28581912e-02, -5.73136710e-02,  9.76155103e-02, -7.45280244e-02,\n",
       "        2.18723550e-02, -1.08956731e-01, -1.48515991e-02, -7.10851537e-02,\n",
       "        8.10087222e-03,  3.22009671e-02, -3.32135761e-02, -5.73136710e-02,\n",
       "        1.15437429e-02, -5.67061055e-03,  1.49866136e-02,  2.87580964e-02,\n",
       "       -5.67061055e-03,  7.00725447e-02,  8.10087222e-03, -3.66564468e-02,\n",
       "       -2.63278347e-02, -5.04279296e-02,  3.56438378e-02,  1.15437429e-02,\n",
       "       -4.00993175e-02, -5.38708003e-02, -4.00993175e-02, -6.07565417e-02,\n",
       "       -4.00993175e-02,  5.97439326e-02, -3.32135761e-02, -1.71468462e-02,\n",
       "       -4.00993175e-02, -5.67061055e-03, -1.25563519e-02,  1.25158476e-01,\n",
       "       -1.25563519e-02, -2.22773986e-03,  5.63010619e-02, -2.63278347e-02,\n",
       "        7.00725447e-02, -7.45280244e-02, -2.28849640e-02, -2.63278347e-02,\n",
       "        4.25295792e-02, -2.97707054e-02, -2.63278347e-02, -4.69850589e-02,\n",
       "       -1.00923366e-01,  1.21513083e-03, -4.00993175e-02,  1.15437429e-02,\n",
       "       -6.76422830e-02, -1.94420933e-02, -4.00993175e-02, -5.38708003e-02,\n",
       "        9.76155103e-02, -1.02070990e-01, -1.25563519e-02, -8.14137658e-02,\n",
       "        4.94153205e-02, -2.51802112e-02, -1.25563519e-02,  1.15437429e-02,\n",
       "       -2.28849640e-02,  6.31868033e-02, -1.59992226e-02,  1.15437429e-02,\n",
       "       -2.22773986e-03, -4.00993175e-02, -4.35421882e-02, -5.50184238e-02,\n",
       "        2.99057198e-02,  2.36275439e-03, -2.28849640e-02, -2.63278347e-02,\n",
       "       -2.63278347e-02,  6.31868033e-02,  6.31868033e-02, -5.67061055e-03,\n",
       "        7.00725447e-02,  8.72868982e-02,  2.53152257e-02, -2.22773986e-03,\n",
       "        1.15437429e-02,  2.18723550e-02,  2.18723550e-02, -1.08011631e-03,\n",
       "        8.10087222e-03, -2.22773986e-03, -2.63278347e-02, -1.25563519e-02,\n",
       "       -2.63278347e-02,  4.65800153e-03,  1.04501252e-01, -6.76422830e-02,\n",
       "       -9.11348125e-03, -4.00993175e-02, -3.32135761e-02, -3.66564468e-02,\n",
       "       -5.73136710e-02,  9.76155103e-02,  7.69582861e-02,  5.28581912e-02,\n",
       "        4.25295792e-02, -4.69850589e-02,  3.90867085e-02, -9.11348125e-03,\n",
       "       -1.59992226e-02,  6.31868033e-02,  1.21513083e-03, -1.94420933e-02,\n",
       "       -1.94420933e-02, -4.69850589e-02,  2.53152257e-02, -5.67061055e-03,\n",
       "        7.00725447e-02,  6.31868033e-02, -5.67061055e-03,  4.94153205e-02,\n",
       "        1.21513083e-03, -1.82944698e-02, -6.99375302e-02,  8.72868982e-02,\n",
       "       -7.45280244e-02,  7.00725447e-02, -7.45280244e-02,  7.69582861e-02,\n",
       "        2.18723550e-02, -4.69850589e-02, -3.66564468e-02,  3.79390850e-02,\n",
       "       -2.22773986e-03,  4.94153205e-02, -3.66564468e-02, -9.86281193e-02,\n",
       "        8.10087222e-03, -5.67061055e-03, -4.35421882e-02, -2.63278347e-02,\n",
       "        3.90867085e-02, -2.51802112e-02, -2.63278347e-02, -1.25563519e-02,\n",
       "        3.56438378e-02, -5.38708003e-02,  5.63010619e-02,  6.31868033e-02,\n",
       "       -2.28849640e-02,  8.10087222e-03, -1.94420933e-02, -2.63278347e-02,\n",
       "        4.94153205e-02,  1.21513083e-03,  2.87580964e-02, -4.35421882e-02,\n",
       "        8.10087222e-03, -6.41994123e-02,  3.22009671e-02,  1.49866136e-02,\n",
       "       -3.32135761e-02,  7.00725447e-02, -2.63278347e-02,  3.44962143e-02,\n",
       "       -7.96585770e-03, -1.59992226e-02,  3.56438378e-02,  5.28581912e-02,\n",
       "        2.87580964e-02,  1.49866136e-02, -9.11348125e-03,  2.87580964e-02,\n",
       "        7.69582861e-02,  6.66296740e-02,  1.49866136e-02,  2.18723550e-02,\n",
       "        3.56438378e-02, -2.28849640e-02, -2.28849640e-02,  9.76155103e-02,\n",
       "        4.94153205e-02,  1.01058381e-01, -4.00993175e-02, -1.94420933e-02,\n",
       "       -5.67061055e-03, -2.63278347e-02,  4.25295792e-02, -6.41994123e-02,\n",
       "       -1.12399602e-01,  4.94153205e-02, -2.63278347e-02,  5.74486854e-02,\n",
       "       -6.07565417e-02, -2.97707054e-02, -5.73136710e-02,  2.18723550e-02,\n",
       "       -1.14087284e-02, -5.04279296e-02,  4.59724499e-02,  5.85963092e-02,\n",
       "        3.56438378e-02, -6.87899066e-02,  5.97439326e-02, -1.25563519e-02,\n",
       "        6.66296740e-02,  4.65800153e-03, -2.28849640e-02,  1.15437429e-02,\n",
       "       -1.94420933e-02, -2.97707054e-02, -6.19041652e-02, -4.00993175e-02,\n",
       "        5.97439326e-02,  5.28581912e-02,  7.35154154e-02,  8.72868982e-02,\n",
       "       -5.61660474e-02,  8.10087222e-03,  7.69582861e-02, -5.67061055e-03,\n",
       "       -4.69850589e-02,  2.53152257e-02, -4.23945646e-02,  4.25295792e-02,\n",
       "       -5.73136710e-02,  1.04501252e-01,  9.76155103e-02, -4.69850589e-02,\n",
       "       -3.32135761e-02, -1.71468462e-02,  1.15437429e-02, -8.48566365e-02,\n",
       "        7.00725447e-02, -2.63278347e-02,  8.38440275e-02,  4.25295792e-02,\n",
       "       -5.61660474e-02,  4.59724499e-02,  3.56438378e-02,  1.15437429e-02,\n",
       "        6.31868033e-02,  1.21513083e-03, -8.48566365e-02,  4.65800153e-03,\n",
       "        3.90867085e-02, -5.73136710e-02, -5.67061055e-03, -3.32135761e-02,\n",
       "        2.87580964e-02, -1.59992226e-02, -7.79708951e-02, -1.59992226e-02,\n",
       "        2.18723550e-02, -4.00993175e-02,  2.53152257e-02,  6.31868033e-02,\n",
       "       -3.20659526e-02,  1.26913665e-02, -5.67061055e-03, -4.00993175e-02,\n",
       "       -4.00993175e-02, -6.41994123e-02, -4.69850589e-02, -1.59992226e-02,\n",
       "       -4.12469410e-02,  5.28581912e-02,  3.33485905e-02,  9.41726396e-02,\n",
       "        5.28581912e-02, -4.00993175e-02,  2.18723550e-02,  4.65800153e-03,\n",
       "       -3.32135761e-02, -2.22773986e-03,  3.56438378e-02, -5.73136710e-02,\n",
       "       -5.67061055e-03,  5.28581912e-02, -1.25563519e-02, -5.38708003e-02,\n",
       "        1.21513083e-03,  5.51534385e-02,  2.53152257e-02,  4.59724499e-02,\n",
       "       -5.67061055e-03,  7.92535333e-02,  6.20391799e-02,  4.94153205e-02,\n",
       "        1.15437429e-02, -6.64946595e-02, -3.32135761e-02,  2.87580964e-02,\n",
       "       -6.07565417e-02, -2.22773986e-03,  4.25295792e-02, -3.66564468e-02,\n",
       "        7.69582861e-02,  2.87580964e-02, -2.28849640e-02, -1.25563519e-02,\n",
       "       -3.66564468e-02,  7.00725447e-02, -3.32135761e-02, -5.04279296e-02,\n",
       "        1.32044217e-01,  5.63010619e-02,  5.63010619e-02,  9.07297689e-02,\n",
       "       -4.00993175e-02, -3.32135761e-02,  3.22009671e-02, -7.45280244e-02,\n",
       "       -5.67061055e-03, -4.35421882e-02,  1.07944122e-01, -3.32135761e-02,\n",
       "       -4.69850589e-02, -3.66564468e-02,  2.18723550e-02,  1.49866136e-02,\n",
       "       -1.59992226e-02,  1.84294843e-02, -2.63278347e-02,  3.22009671e-02,\n",
       "        2.18723550e-02,  2.87580964e-02,  7.00725447e-02,  6.75072794e-05,\n",
       "       -1.94420933e-02, -1.25563519e-02, -1.59992226e-02,  1.49866136e-02,\n",
       "        1.49866136e-02, -4.00993175e-02, -5.73136710e-02,  4.94153205e-02,\n",
       "       -1.59992226e-02, -5.67061055e-03, -6.76422830e-02,  1.07944122e-01,\n",
       "       -5.67061055e-03,  1.84294843e-02, -5.67061055e-03,  2.18723550e-02,\n",
       "        5.85963092e-02, -7.45280244e-02, -2.28849640e-02, -9.11348125e-03,\n",
       "        4.65800153e-03,  4.94153205e-02, -1.59992226e-02, -7.45280244e-02,\n",
       "        5.63010619e-02, -8.48566365e-02,  5.97439326e-02, -6.41994123e-02,\n",
       "       -2.22773986e-03, -4.35421882e-02,  5.63010619e-02, -2.97707054e-02,\n",
       "       -2.28849640e-02, -3.09183290e-02, -3.32135761e-02,  4.94153205e-02,\n",
       "        9.07297689e-02, -5.73136710e-02, -2.28849640e-02, -5.67061055e-03,\n",
       "        7.00725447e-02,  8.38440275e-02, -8.48566365e-02, -5.27231767e-02,\n",
       "        1.07944122e-01,  5.63010619e-02,  8.10087222e-03, -4.35421882e-02,\n",
       "        6.31868033e-02, -2.63278347e-02, -4.52298700e-03, -5.04279296e-02,\n",
       "        9.87631337e-02, -7.45280244e-02, -2.63278347e-02, -5.38708003e-02,\n",
       "        6.75072794e-05,  2.18723550e-02,  5.28581912e-02,  2.87580964e-02,\n",
       "       -1.94420933e-02, -8.14137658e-02,  4.36772026e-02, -5.67061055e-03,\n",
       "        8.72868982e-02, -2.28849640e-02, -5.04279296e-02,  2.18723550e-02,\n",
       "       -5.67061055e-03, -2.97707054e-02,  8.10087222e-03, -4.00993175e-02,\n",
       "       -5.04279296e-02,  5.97439326e-02, -6.76422830e-02,  1.72818607e-02,\n",
       "        1.21513083e-03, -8.14137658e-02])"
      ]
     },
     "execution_count": 15,
     "metadata": {},
     "output_type": "execute_result"
    }
   ],
   "source": [
    "bp = diabetes.data[:,3]\n",
    "bp"
   ]
  },
  {
   "cell_type": "markdown",
   "id": "c174b645",
   "metadata": {},
   "source": [
    "### Task 1.2.2: Describe the data\n",
    "Use the skills you learnt in the lecture and the last assignment (and `numpy`), to extract meaningful properties from the data:\n",
    "- Attribute type (scale) of the data\n",
    "- Mean\n",
    "- Median\n",
    "- Maximum value\n",
    "- Minimum value\n",
    "- Variance\n",
    "\n",
    "_Note that the data of this ready-to-use dataset have been already mean centered and scaled proportional to standard deviation. However, extracting the common properties like mean, median etc. helps you to have a good first impression of the data._)"
   ]
  },
  {
   "cell_type": "code",
   "execution_count": 27,
   "id": "df1b3353",
   "metadata": {},
   "outputs": [],
   "source": [
    "# attribute type: numeric/ratio\n",
    "bp_mean = np.mean(bp)\n",
    "bp_median = np.median(bp)\n",
    "bp_max = np.max(bp)\n",
    "bp_min = np.min(bp)\n",
    "bp_var = np.var(bp)"
   ]
  },
  {
   "cell_type": "markdown",
   "id": "2c59475e",
   "metadata": {},
   "source": [
    "### Task 1.2.3: Show the distribution\n",
    "Now, we are interested in the distribution of blood pressure in diabetes patients and therefore want to sort patients' blood pressure data into \"buckets\" in a histogram. \n",
    "\n",
    "_Have a look at the sample plots in on the [matplotlib website](https://matplotlib.org/stable/gallery/statistics/histogram_features.html)._\n",
    "\n",
    "**Do not forget to label your axes correctly and give your plot a suitable title!**"
   ]
  },
  {
   "cell_type": "code",
   "execution_count": 42,
   "id": "5e929728",
   "metadata": {
    "scrolled": true
   },
   "outputs": [
    {
     "data": {
      "image/png": "[encoded data removed]",
      "text/plain": [
       "<Figure size 432x288 with 1 Axes>"
      ]
     },
     "metadata": {
      "needs_background": "light"
     },
     "output_type": "display_data"
    }
   ],
   "source": [
    "plt.title(\"Distribution of blood pressure in diabetes patients\")\n",
    "plt.xlabel(\"Avg. blood pressure\")\n",
    "plt.ylabel(\"Amount of people\")\n",
    "plt.hist(bp, 30)\n",
    "plt.show()"
   ]
  },
  {
   "cell_type": "markdown",
   "id": "e7e25e52",
   "metadata": {},
   "source": [
    "### Bonus Task 1.2.4: What type of function could describe the data approximately?"
   ]
  },
  {
   "cell_type": "code",
   "execution_count": null,
   "id": "fa9f0dc8",
   "metadata": {},
   "outputs": [],
   "source": [
    "# Possibly a Poisson-distribution moved along the X-axis"
   ]
  },
  {
   "cell_type": "markdown",
   "id": "4a0b15c5",
   "metadata": {},
   "source": [
    "### Task 1.2.5: Show the boxplot and describe it\n",
    "Now that you know how to plot with matplotlib, you are tasked to create a box and whiskers plot of the data. Have a look at the [official matplotlib documentation](https://matplotlib.org/stable/api/_as_gen/matplotlib.pyplot.boxplot.html) if you need some guidance. Additionally, give a quick description of the plot and what you learn from it about the data, especially in terms of _outliers_."
   ]
  },
  {
   "cell_type": "code",
   "execution_count": 61,
   "id": "a9691af6",
   "metadata": {},
   "outputs": [
    {
     "data": {
      "image/png": "[encoded data removed]",
      "text/plain": [
       "<Figure size 432x288 with 1 Axes>"
      ]
     },
     "metadata": {
      "needs_background": "light"
     },
     "output_type": "display_data"
    }
   ],
   "source": [
    "plt.title(\"Distribution of blood pressure in diabetes patients\")\n",
    "plt.xlabel(\"Avg. blood pressure\")\n",
    "plt.boxplot(bp, sym=\"x\", vert=False)\n",
    "plt.show()\n",
    "\n",
    "# There are no outliers. The distribution is right-skewed. \n",
    "# Half of the blood levels are in the range [-0.05, 0.05]."
   ]
  },
  {
   "cell_type": "markdown",
   "id": "5e853924",
   "metadata": {},
   "source": [
    "## 1.3 Visualize 2D data\n",
    "After we have looked at the characteristics of a single feature, let's see how `matplotlib` can help to visualise two-dimensional data and single samples. Prominent 2D data are greyscale photos or images, where the two dimensions are the x and y positions of the pixel values."
   ]
  },
  {
   "cell_type": "markdown",
   "id": "aaeb26aa",
   "metadata": {},
   "source": [
    "### 1.3.1 Obtain an image dataset\n",
    "Fortunately, `scikit-learn` also provides a dataset with pixel images as samples."
   ]
  },
  {
   "cell_type": "code",
   "execution_count": 62,
   "id": "6fde4a2b",
   "metadata": {
    "scrolled": true
   },
   "outputs": [
    {
     "name": "stdout",
     "output_type": "stream",
     "text": [
      "dict_keys(['data', 'target', 'frame', 'feature_names', 'target_names', 'images', 'DESCR'])\n"
     ]
    }
   ],
   "source": [
    "digits = datasets.load_digits()\n",
    "print(digits.keys())"
   ]
  },
  {
   "cell_type": "markdown",
   "id": "323c202a",
   "metadata": {},
   "source": [
    "Let's go the usual route and have a look at the shape of the data."
   ]
  },
  {
   "cell_type": "code",
   "execution_count": 63,
   "id": "97558801",
   "metadata": {},
   "outputs": [
    {
     "name": "stdout",
     "output_type": "stream",
     "text": [
      "(1797, 64)\n"
     ]
    }
   ],
   "source": [
    "print(digits[\"data\"].shape)"
   ]
  },
  {
   "cell_type": "markdown",
   "id": "ea70faa0",
   "metadata": {},
   "source": [
    "So, we have 1797 samples with 64 features each. That means, if we isolate a feature vector for a single sample, it has 64 features. But aren't we dealing with images that are usually 2-dimensional?\n",
    "\n",
    "Perhaps the feature names can give more insight:"
   ]
  },
  {
   "cell_type": "code",
   "execution_count": 64,
   "id": "5ae8977e",
   "metadata": {},
   "outputs": [
    {
     "name": "stdout",
     "output_type": "stream",
     "text": [
      "['pixel_0_0', 'pixel_0_1', 'pixel_0_2', 'pixel_0_3', 'pixel_0_4', 'pixel_0_5', 'pixel_0_6', 'pixel_0_7', 'pixel_1_0', 'pixel_1_1', 'pixel_1_2', 'pixel_1_3', 'pixel_1_4', 'pixel_1_5', 'pixel_1_6', 'pixel_1_7', 'pixel_2_0', 'pixel_2_1', 'pixel_2_2', 'pixel_2_3', 'pixel_2_4', 'pixel_2_5', 'pixel_2_6', 'pixel_2_7', 'pixel_3_0', 'pixel_3_1', 'pixel_3_2', 'pixel_3_3', 'pixel_3_4', 'pixel_3_5', 'pixel_3_6', 'pixel_3_7', 'pixel_4_0', 'pixel_4_1', 'pixel_4_2', 'pixel_4_3', 'pixel_4_4', 'pixel_4_5', 'pixel_4_6', 'pixel_4_7', 'pixel_5_0', 'pixel_5_1', 'pixel_5_2', 'pixel_5_3', 'pixel_5_4', 'pixel_5_5', 'pixel_5_6', 'pixel_5_7', 'pixel_6_0', 'pixel_6_1', 'pixel_6_2', 'pixel_6_3', 'pixel_6_4', 'pixel_6_5', 'pixel_6_6', 'pixel_6_7', 'pixel_7_0', 'pixel_7_1', 'pixel_7_2', 'pixel_7_3', 'pixel_7_4', 'pixel_7_5', 'pixel_7_6', 'pixel_7_7']\n"
     ]
    }
   ],
   "source": [
    "print(digits[\"feature_names\"])"
   ]
  },
  {
   "cell_type": "markdown",
   "id": "ec9fa903",
   "metadata": {},
   "source": [
    "From the feature names, we can conclude that the pixel values are represented in a vector, row for row. In order to plot it as a picture, we need a 2D representation, though.\n",
    "\n",
    "Therefore our tasks are now: \n",
    "- 1.) isolate the feature vector of a single sample\n",
    "- 2.) reshape the vector into a 2D matrix\n",
    "- 3.) plot the image using `matplotlib`"
   ]
  },
  {
   "cell_type": "markdown",
   "id": "3c09535b",
   "metadata": {},
   "source": [
    "### Task 1.3.1 Isolate a feature vector\n",
    "This task can be seen as the \"inverse\" of task 1.2.1. But now, instead of a single feature over all samples, we want all the features for a single sample!\n",
    "\n",
    "Isolate a sample of your choice and save it in the variable _digit_."
   ]
  },
  {
   "cell_type": "code",
   "execution_count": 65,
   "id": "bc517988",
   "metadata": {},
   "outputs": [
    {
     "name": "stdout",
     "output_type": "stream",
     "text": [
      "(64,)\n"
     ]
    }
   ],
   "source": [
    "digit = digits.data[0,:]\n",
    "print(digit.shape)"
   ]
  },
  {
   "cell_type": "markdown",
   "id": "db0984dc",
   "metadata": {},
   "source": [
    "### Task 1.3.2 Reshape the vector into a 2D matrix\n",
    "Now, you should have a vector of length 64. The image samples of the dataset are square. So now you need to reshape the vector into the appropriate shape using Numpy. Save the resulting matrix into the variable _im_.\n",
    "\n",
    "Hint: a helpful function is [numpy.reshape](https://numpy.org/doc/stable/reference/generated/numpy.reshape.html)."
   ]
  },
  {
   "cell_type": "code",
   "execution_count": 67,
   "id": "f6275cee",
   "metadata": {},
   "outputs": [
    {
     "name": "stdout",
     "output_type": "stream",
     "text": [
      "(8, 8)\n"
     ]
    }
   ],
   "source": [
    "im = np.reshape(digit, (8, 8))\n",
    "print(im.shape)"
   ]
  },
  {
   "cell_type": "markdown",
   "id": "3ec366e6",
   "metadata": {},
   "source": [
    "### Task 1.3.3 Plot the image\n",
    "Use the skills obtained above to plot the sample using the ```imshow``` [function from matplotlib](https://matplotlib.org/stable/api/_as_gen/matplotlib.pyplot.imshow.html).\n",
    "\n",
    "**Keep in mind: No plot without title and axes labels!**"
   ]
  },
  {
   "cell_type": "code",
   "execution_count": 69,
   "id": "34c7fee7",
   "metadata": {},
   "outputs": [
    {
     "data": {
      "text/plain": [
       "<function matplotlib.pyplot.show(close=None, block=None)>"
      ]
     },
     "execution_count": 69,
     "metadata": {},
     "output_type": "execute_result"
    },
    {
     "data": {
      "image/png": "[encoded data removed]",
      "text/plain": [
       "<Figure size 432x288 with 1 Axes>"
      ]
     },
     "metadata": {
      "needs_background": "light"
     },
     "output_type": "display_data"
    }
   ],
   "source": [
    "plt.title(\"Digit image 0\")\n",
    "plt.xlabel(\"X position\")\n",
    "plt.ylabel(\"Y position\")\n",
    "plt.imshow(im)\n",
    "plt.show"
   ]
  },
  {
   "cell_type": "markdown",
   "id": "c9e4b1f0",
   "metadata": {},
   "source": [
    "## Task 1.4 Visual recognition of correlations\n",
    "\n",
    "In this task your job is to plot different attributes against each other in a scatterplot to find out if the selected attributes are linearly correlated."
   ]
  },
  {
   "cell_type": "markdown",
   "id": "9a3aa9f8",
   "metadata": {},
   "source": [
    "### Task 1.4.1 BMI and Blood Pressure\n",
    "\n",
    "We assume a positive correlation between the body mass index (BMI) of a person and their blood pressure.\n",
    "Plot the asscociated attributes against each other and analyze the plot to find out if this is true."
   ]
  },
  {
   "cell_type": "code",
   "execution_count": 80,
   "id": "dd6d6d49",
   "metadata": {},
   "outputs": [
    {
     "data": {
      "text/plain": [
       "<matplotlib.collections.PathCollection at 0x7fb58d521d30>"
      ]
     },
     "execution_count": 80,
     "metadata": {},
     "output_type": "execute_result"
    },
    {
     "data": {
      "image/png": "[encoded data removed]",
      "text/plain": [
       "<Figure size 432x288 with 1 Axes>"
      ]
     },
     "metadata": {
      "needs_background": "light"
     },
     "output_type": "display_data"
    }
   ],
   "source": [
    "bmi=diabetes.data[:,2]\n",
    "plt.title(\"Correlation between the BMI and blood pressure\")\n",
    "plt.xlabel(\"Blood pressure\")\n",
    "plt.ylabel(\"Body mass index\")\n",
    "plt.scatter(bp, bmi)\n",
    "# The assumption is true because the higher the blood pressure gets the higher the BMI, \n",
    "# there are some points that show bigger deviation. \n",
    "# But overall there is a positive correlation."
   ]
  },
  {
   "cell_type": "markdown",
   "id": "ba8a5409",
   "metadata": {},
   "source": [
    "### Task 1.4.2 Age and Diabetes Disease Progression\n",
    "\n",
    "As a layman, one could assume that the older a patient is, the worse their status of diabetes progression. Therefore, we assume that both features have a positive linear correlation. Plot the asscociated attributes against each other and analyze the plot to find out if this assumption is true."
   ]
  },
  {
   "cell_type": "code",
   "execution_count": 82,
   "id": "c3a27f36",
   "metadata": {},
   "outputs": [
    {
     "data": {
      "image/png": "[encoded data removed]",
      "text/plain": [
       "<Figure size 432x288 with 1 Axes>"
      ]
     },
     "metadata": {
      "needs_background": "light"
     },
     "output_type": "display_data"
    }
   ],
   "source": [
    "age = diabetes[\"data\"][:,0]\n",
    "ddp = diabetes.target\n",
    "\n",
    "plt.scatter(age, ddp)\n",
    "plt.title(\"Correlation between Age and Diabetes Disease Progression\")\n",
    "plt.xlabel(\"Age\")\n",
    "plt.ylabel(\"Diabetes Disease Progression\")\n",
    "plt.show()\n",
    "\n",
    "# Is the assumption true? Your Answer here\n",
    "# The assumption isn't true, because if you look at the graph you can see that \n",
    "# the Points are scattered around with no real pattern."
   ]
  },
  {
   "cell_type": "markdown",
   "id": "0630eb4a",
   "metadata": {},
   "source": [
    "### Task 1.4.3 High-Density Lipoproteins and Diabetes Disease Progression\n",
    "Some correlations between features might be difficult to estimate/assume when dealing with new data. Let's explore the influence on high-density lipoproteins on diabetes disease progression.\n",
    "\n",
    "Plot the asscociated attributes against each other and analyze the plot to find out if there is some correlation."
   ]
  },
  {
   "cell_type": "code",
   "execution_count": 85,
   "id": "7842afb8",
   "metadata": {},
   "outputs": [
    {
     "data": {
      "image/png": "[encoded data removed]",
      "text/plain": [
       "<Figure size 432x288 with 1 Axes>"
      ]
     },
     "metadata": {
      "needs_background": "light"
     },
     "output_type": "display_data"
    }
   ],
   "source": [
    "hdl = diabetes[\"data\"][:,6]\n",
    "\n",
    "plt.scatter(hdl, ddp)\n",
    "plt.title(\"Correlation between High-Density Lipoproteins and Diabetes Disease Progression\")\n",
    "plt.xlabel(\"High-Density Lipoproteins\")\n",
    "plt.ylabel(\"Diabetes Disease Progression\")\n",
    "plt.show()\n",
    "\n",
    "# Is there a correlation? Your Answer here\n",
    "# By analysing the Plot you can see that the higher the progression is, \n",
    "# the lower the amount of people that have a high amount High-Density Lipoproteins."
   ]
  },
  {
   "cell_type": "code",
   "execution_count": null,
   "id": "8faf94e3",
   "metadata": {},
   "outputs": [],
   "source": []
  }
 ],
 "metadata": {
  "kernelspec": {
   "display_name": "Python 3 (ipykernel)",
   "language": "python",
   "name": "python3"
  },
  "language_info": {
   "codemirror_mode": {
    "name": "ipython",
    "version": 3
   },
   "file_extension": ".py",
   "mimetype": "text/x-python",
   "name": "python",
   "nbconvert_exporter": "python",
   "pygments_lexer": "ipython3",
   "version": "3.9.6"
  }
 },
 "nbformat": 4,
 "nbformat_minor": 5
}
