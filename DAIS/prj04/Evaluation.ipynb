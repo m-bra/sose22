{
 "cells": [
  {
   "cell_type": "markdown",
   "id": "97455328",
   "metadata": {},
   "source": [
    "## Model Evaluation\n",
    "In this task, we will take a look at the evaluation of a classifier. As a starting point, we give you some functions that allow you to train a classifier with [PyTorch](https://pytorch.org). PyTorch is a bit more advanced than scikit-learn and needs you to do more of the busy work yourself.\n",
    "On the other hand, it gives you the freedom to manually create your own training schemes and network configurations. Together with [tensorflow](https://www.tensorflow.org), it is the de facto industry standard when it comes to neural network training.\n",
    "For this task, it's not really necessary to understand the PyTorch code. But if you're interested in learning PyTorch, try to follow along by reading the comments. Don't worry if you don't understand everything. Just be aware that for our purpose `torch.tensor` behaves mostly like `numpy.array` which you should be familiar with by now.\n",
    "\n",
    "\n",
    "A great opportunity to learn more is the [tutorial section of the PyTorch homepage](https://pytorch.org/tutorials/) which provides many tutorials on different machine learning tasks. If you want to find information on a given function, take a look at the [documentation section](https://pytorch.org/docs/stable/index.html)."
   ]
  },
  {
   "cell_type": "code",
   "execution_count": 1,
   "id": "6e5ff570",
   "metadata": {},
   "outputs": [
    {
     "name": "stdout",
     "output_type": "stream",
     "text": [
      "Collecting torch\n",
      "  Downloading torch-1.11.0-cp39-cp39-manylinux1_x86_64.whl (750.6 MB)\n",
      "\u001b[K     |████████████████████████████████| 750.6 MB 1.8 kB/s eta 0:00:011    |██▏                             | 52.1 MB 2.8 MB/s eta 0:04:13     |████▍                           | 102.4 MB 2.9 MB/s eta 0:03:43     |██████▍                         | 150.8 MB 5.1 MB/s eta 0:01:57     |███████                         | 163.9 MB 11.4 MB/s eta 0:00:52     |█████████                       | 209.4 MB 4.7 MB/s eta 0:01:57     |█████████                       | 211.6 MB 4.7 MB/s eta 0:01:56     |█████████▏                      | 214.1 MB 4.9 MB/s eta 0:01:51     |███████████                     | 258.2 MB 6.8 MB/s eta 0:01:13     |██████████████▏                 | 332.1 MB 5.6 MB/s eta 0:01:15     |████████████████                | 375.8 MB 10.5 MB/s eta 0:00:36     |████████████████                | 377.1 MB 9.7 MB/s eta 0:00:39     |██████████████████▌             | 435.2 MB 4.6 MB/s eta 0:01:09     |██████████████████▉             | 441.3 MB 17.9 MB/s eta 0:00:18 9.5 MB/s eta 0:00:29     |█████████████████████▎          | 498.8 MB 9.5 MB/s eta 0:00:27     |█████████████████████▎          | 499.2 MB 9.5 MB/s eta 0:00:27     |█████████████████████▋          | 505.7 MB 4.7 MB/s eta 0:00:53     |█████████████████████████▌      | 597.4 MB 4.4 MB/s eta 0:00:35     |█████████████████████████▊      | 603.4 MB 4.7 MB/s eta 0:00:32��███████████████████▍   | 666.2 MB 8.3 MB/s eta 0:00:11     |███████████████████████████████▊| 743.5 MB 14.1 MB/s eta 0:00:01\n",
      "\u001b[?25hCollecting typing-extensions\n",
      "  Downloading typing_extensions-4.2.0-py3-none-any.whl (24 kB)\n",
      "Installing collected packages: typing-extensions, torch\n",
      "Successfully installed torch-1.11.0 typing-extensions-4.2.0\n",
      "\u001b[33mWARNING: You are using pip version 21.1.3; however, version 22.1.2 is available.\n",
      "You should consider upgrading via the '/home/merlin/.pyenv/versions/3.9.6/bin/python -m pip install --upgrade pip' command.\u001b[0m\n",
      "Collecting sklearn\n",
      "  Downloading sklearn-0.0.tar.gz (1.1 kB)\n",
      "Requirement already satisfied: scikit-learn in /home/merlin/.pyenv/versions/3.9.6/lib/python3.9/site-packages (from sklearn) (1.0.2)\n",
      "Requirement already satisfied: numpy>=1.14.6 in /home/merlin/.pyenv/versions/3.9.6/lib/python3.9/site-packages (from scikit-learn->sklearn) (1.22.3)\n",
      "Requirement already satisfied: scipy>=1.1.0 in /home/merlin/.pyenv/versions/3.9.6/lib/python3.9/site-packages (from scikit-learn->sklearn) (1.8.0)\n",
      "Requirement already satisfied: threadpoolctl>=2.0.0 in /home/merlin/.pyenv/versions/3.9.6/lib/python3.9/site-packages (from scikit-learn->sklearn) (3.1.0)\n",
      "Requirement already satisfied: joblib>=0.11 in /home/merlin/.pyenv/versions/3.9.6/lib/python3.9/site-packages (from scikit-learn->sklearn) (1.1.0)\n",
      "Using legacy 'setup.py install' for sklearn, since package 'wheel' is not installed.\n",
      "Installing collected packages: sklearn\n",
      "    Running setup.py install for sklearn ... \u001b[?25ldone\n",
      "\u001b[?25hSuccessfully installed sklearn-0.0\n",
      "\u001b[33mWARNING: You are using pip version 21.1.3; however, version 22.1.2 is available.\n",
      "You should consider upgrading via the '/home/merlin/.pyenv/versions/3.9.6/bin/python -m pip install --upgrade pip' command.\u001b[0m\n"
     ]
    }
   ],
   "source": [
    "# install the required packages\n",
    "!python -m pip install torch\n",
    "!python -m pip install sklearn"
   ]
  },
  {
   "cell_type": "code",
   "execution_count": 5,
   "id": "32f13a37",
   "metadata": {},
   "outputs": [
    {
     "data": {
      "text/plain": [
       "<torch._C.Generator at 0x7fc85f716fd0>"
      ]
     },
     "execution_count": 5,
     "metadata": {},
     "output_type": "execute_result"
    }
   ],
   "source": [
    "import torch\n",
    "from torch.utils.data import Dataset, DataLoader\n",
    "from sklearn.datasets import load_wine\n",
    "from sklearn.preprocessing import StandardScaler\n",
    "torch.manual_seed(0)"
   ]
  },
  {
   "cell_type": "markdown",
   "id": "ec8391fd",
   "metadata": {},
   "source": [
    "### Load the Data\n",
    "We load the boston dataset from scikit learn and normalize it with z-score transformation. Afterwards we shuffle the data because it is ordered by class and this order would mess with the kfold crossvalidation you are going to implement."
   ]
  },
  {
   "cell_type": "code",
   "execution_count": 6,
   "id": "1ccc446e",
   "metadata": {},
   "outputs": [],
   "source": [
    "wine = load_wine()\n",
    "data = wine[\"data\"]\n",
    "\n",
    "target = torch.from_numpy(wine[\"target\"])\n",
    "\n",
    "# scale the data to mean = 0 and var = 1\n",
    "scaler = StandardScaler()\n",
    "scaler.fit(data)\n",
    "data = torch.from_numpy(scaler.transform(data)).float()\n",
    "\n",
    "# because the data is ordered, we need to shuffle it\n",
    "shuffle_seed = torch.randperm(data.shape[0])\n",
    "data = data[shuffle_seed]\n",
    "target = target[shuffle_seed]\n",
    "\n",
    "attribute_count = data.shape[1]\n",
    "label_count = len(wine[\"target_names\"])"
   ]
  },
  {
   "cell_type": "code",
   "execution_count": 13,
   "id": "6fcb802a",
   "metadata": {},
   "outputs": [
    {
     "data": {
      "text/plain": [
       "torch.Size([178, 13])"
      ]
     },
     "execution_count": 13,
     "metadata": {},
     "output_type": "execute_result"
    }
   ],
   "source": [
    "data.shape"
   ]
  },
  {
   "cell_type": "code",
   "execution_count": 20,
   "id": "8b5ffac9",
   "metadata": {},
   "outputs": [
    {
     "data": {
      "text/plain": [
       "torch.Size([178])"
      ]
     },
     "execution_count": 20,
     "metadata": {},
     "output_type": "execute_result"
    }
   ],
   "source": [
    "target.shape"
   ]
  },
  {
   "cell_type": "markdown",
   "id": "ee5b7ce4",
   "metadata": {},
   "source": [
    "As you should already know you can print the information about the dataset with the `DESCR` key:"
   ]
  },
  {
   "cell_type": "code",
   "execution_count": 7,
   "id": "26d787d7",
   "metadata": {},
   "outputs": [
    {
     "name": "stdout",
     "output_type": "stream",
     "text": [
      ".. _wine_dataset:\n",
      "\n",
      "Wine recognition dataset\n",
      "------------------------\n",
      "\n",
      "**Data Set Characteristics:**\n",
      "\n",
      "    :Number of Instances: 178 (50 in each of three classes)\n",
      "    :Number of Attributes: 13 numeric, predictive attributes and the class\n",
      "    :Attribute Information:\n",
      " \t\t- Alcohol\n",
      " \t\t- Malic acid\n",
      " \t\t- Ash\n",
      "\t\t- Alcalinity of ash  \n",
      " \t\t- Magnesium\n",
      "\t\t- Total phenols\n",
      " \t\t- Flavanoids\n",
      " \t\t- Nonflavanoid phenols\n",
      " \t\t- Proanthocyanins\n",
      "\t\t- Color intensity\n",
      " \t\t- Hue\n",
      " \t\t- OD280/OD315 of diluted wines\n",
      " \t\t- Proline\n",
      "\n",
      "    - class:\n",
      "            - class_0\n",
      "            - class_1\n",
      "            - class_2\n",
      "\t\t\n",
      "    :Summary Statistics:\n",
      "    \n",
      "    ============================= ==== ===== ======= =====\n",
      "                                   Min   Max   Mean     SD\n",
      "    ============================= ==== ===== ======= =====\n",
      "    Alcohol:                      11.0  14.8    13.0   0.8\n",
      "    Malic Acid:                   0.74  5.80    2.34  1.12\n",
      "    Ash:                          1.36  3.23    2.36  0.27\n",
      "    Alcalinity of Ash:            10.6  30.0    19.5   3.3\n",
      "    Magnesium:                    70.0 162.0    99.7  14.3\n",
      "    Total Phenols:                0.98  3.88    2.29  0.63\n",
      "    Flavanoids:                   0.34  5.08    2.03  1.00\n",
      "    Nonflavanoid Phenols:         0.13  0.66    0.36  0.12\n",
      "    Proanthocyanins:              0.41  3.58    1.59  0.57\n",
      "    Colour Intensity:              1.3  13.0     5.1   2.3\n",
      "    Hue:                          0.48  1.71    0.96  0.23\n",
      "    OD280/OD315 of diluted wines: 1.27  4.00    2.61  0.71\n",
      "    Proline:                       278  1680     746   315\n",
      "    ============================= ==== ===== ======= =====\n",
      "\n",
      "    :Missing Attribute Values: None\n",
      "    :Class Distribution: class_0 (59), class_1 (71), class_2 (48)\n",
      "    :Creator: R.A. Fisher\n",
      "    :Donor: Michael Marshall (MARSHALL%PLU@io.arc.nasa.gov)\n",
      "    :Date: July, 1988\n",
      "\n",
      "This is a copy of UCI ML Wine recognition datasets.\n",
      "https://archive.ics.uci.edu/ml/machine-learning-databases/wine/wine.data\n",
      "\n",
      "The data is the results of a chemical analysis of wines grown in the same\n",
      "region in Italy by three different cultivators. There are thirteen different\n",
      "measurements taken for different constituents found in the three types of\n",
      "wine.\n",
      "\n",
      "Original Owners: \n",
      "\n",
      "Forina, M. et al, PARVUS - \n",
      "An Extendible Package for Data Exploration, Classification and Correlation. \n",
      "Institute of Pharmaceutical and Food Analysis and Technologies,\n",
      "Via Brigata Salerno, 16147 Genoa, Italy.\n",
      "\n",
      "Citation:\n",
      "\n",
      "Lichman, M. (2013). UCI Machine Learning Repository\n",
      "[https://archive.ics.uci.edu/ml]. Irvine, CA: University of California,\n",
      "School of Information and Computer Science. \n",
      "\n",
      ".. topic:: References\n",
      "\n",
      "  (1) S. Aeberhard, D. Coomans and O. de Vel, \n",
      "  Comparison of Classifiers in High Dimensional Settings, \n",
      "  Tech. Rep. no. 92-02, (1992), Dept. of Computer Science and Dept. of  \n",
      "  Mathematics and Statistics, James Cook University of North Queensland. \n",
      "  (Also submitted to Technometrics). \n",
      "\n",
      "  The data was used with many others for comparing various \n",
      "  classifiers. The classes are separable, though only RDA \n",
      "  has achieved 100% correct classification. \n",
      "  (RDA : 100%, QDA 99.4%, LDA 98.9%, 1NN 96.1% (z-transformed data)) \n",
      "  (All results using the leave-one-out technique) \n",
      "\n",
      "  (2) S. Aeberhard, D. Coomans and O. de Vel, \n",
      "  \"THE CLASSIFICATION PERFORMANCE OF RDA\" \n",
      "  Tech. Rep. no. 92-01, (1992), Dept. of Computer Science and Dept. of \n",
      "  Mathematics and Statistics, James Cook University of North Queensland. \n",
      "  (Also submitted to Journal of Chemometrics).\n",
      "\n"
     ]
    }
   ],
   "source": [
    "print(wine[\"DESCR\"])"
   ]
  },
  {
   "cell_type": "markdown",
   "id": "01b2fc39",
   "metadata": {},
   "source": [
    "### Define and Initialize Model\n",
    "Here we define our model. Some of the values are fixed by our dataset, like the number of input neurons and the number of output neurons. \n",
    "The hidden layers can be varied and are given in here as a list of integers, where every element defines the number of neurons in a hidden layer, i.e.<br>`hidden_layers=[10,10]` defines a neural network with two hidden layers with 10 neurons each."
   ]
  },
  {
   "cell_type": "code",
   "execution_count": 8,
   "id": "f75984ff",
   "metadata": {},
   "outputs": [],
   "source": [
    "def create_model(hidden_layers = [],input_size = attribute_count, output_size = label_count, \n",
    "                 activation = torch.nn.ReLU(),output_activation = torch.nn.Identity()):\n",
    "    # the list of sizes is usefull to manage the input and output sizes of the layers in our network\n",
    "    sizes = [input_size] + hidden_layers + [output_size]\n",
    "    \n",
    "    # the list of layers will be combined by using nn.Sequential to easily create a feed forwad network\n",
    "    # from a list of layers and activation functions\n",
    "    layers = []\n",
    "    \n",
    "    for i in range(len(sizes)-1):\n",
    "        # choose the inner activation function for all layers except the last one\n",
    "        act = activation if i < len(sizes) -2 else output_activation\n",
    "        # concatenate a Linear layer and the activation function with our layer list\n",
    "        layers+= [torch.nn.Linear(sizes[i],sizes[i+1]),act]\n",
    "    \n",
    "    # create the neural network from our layer list\n",
    "    return torch.nn.Sequential(*layers)"
   ]
  },
  {
   "cell_type": "markdown",
   "id": "63fea9e7",
   "metadata": {},
   "source": [
    "### Training Loop\n",
    "The `train_model` function contains the training loop for a given model. Mandatory inputs are `model`, `data`, `target`, and `epochs`. "
   ]
  },
  {
   "cell_type": "code",
   "execution_count": 9,
   "id": "25616ba2",
   "metadata": {},
   "outputs": [],
   "source": [
    "def trainModel(model, data, target, epochs, lr = 0.01, batchsize = 20, shuffle = False):\n",
    "    # define the loss function (here, we use cross-entropy) \n",
    "    criterion = torch.nn.CrossEntropyLoss()\n",
    "    \n",
    "    # the optimization method for the weights (Adam or Stochastic Gradient Descent (SGD) are common practice)\n",
    "    optimizer = torch.optim.Adam(model.parameters(),lr=lr)\n",
    "    \n",
    "    # loop n times over the dataset\n",
    "    for epoch in range(epochs):\n",
    "        \n",
    "        # it may be helpful to shuffle your data every epoch, we don't do it here for reproducibility reasons\n",
    "        if shuffle:\n",
    "            seed = torch.randperm(data.shape[0])\n",
    "            data = data[seed]\n",
    "            target = target[seed]\n",
    "        for index in range(0,len(data),batchsize):\n",
    "            \n",
    "            # create the batch\n",
    "            batch_last = index + batchsize\n",
    "            data_batch = data[index: batch_last] if batch_last < data.shape[0] else data[index: -1]\n",
    "            target_batch = target[index: batch_last] if batch_last < target.shape[0] else target[index: -1]\n",
    "            \n",
    "            # forwad pass\n",
    "            \n",
    "            # calculate the outputs\n",
    "            scores = model(data_batch)\n",
    "            # calculate the loss\n",
    "            loss = criterion(scores, target_batch)\n",
    "            \n",
    "            # backpropagation\n",
    "            \n",
    "            # the gradient has to be set to zero before calculating the new gradients\n",
    "            optimizer.zero_grad()\n",
    "            # propagate the loss backwards through the network\n",
    "            loss.backward()\n",
    "            # update the weights\n",
    "            optimizer.step()\n",
    "    \n",
    "    # return the trained model       \n",
    "    return model\n",
    "    "
   ]
  },
  {
   "cell_type": "markdown",
   "id": "2f4a69c5",
   "metadata": {},
   "source": [
    "### Make predictions\n",
    "The `predict` function takes the model and some data and predicts the class associated with the data."
   ]
  },
  {
   "cell_type": "code",
   "execution_count": 10,
   "id": "2d001ee2",
   "metadata": {},
   "outputs": [],
   "source": [
    "def predict(data, model):\n",
    "    # if a single datapoint is given, we have to unsqueeze it to handle more than one datapoint as well\n",
    "    if len(data.shape) == 1:\n",
    "        data = data.unsqueeze(0)\n",
    "    \n",
    "    # find the output of our model that has the largest value and use it as our prediction\n",
    "    _, prediction = model(data).max(1)\n",
    "    \n",
    "    return prediction"
   ]
  },
  {
   "cell_type": "markdown",
   "id": "1bd8fa70",
   "metadata": {},
   "source": [
    "### Accuracy\n",
    "The `calculate_accuracy` function takes some data and the asscociated targets and a model and calculates the accuracy of the model on the data."
   ]
  },
  {
   "cell_type": "code",
   "execution_count": 11,
   "id": "8d4c1864",
   "metadata": {},
   "outputs": [],
   "source": [
    "def calculate_accuracy(data, target, model):\n",
    "    num_samples = data.shape[0]\n",
    "    \n",
    "    # switch to evaluation mode\n",
    "    model.eval()\n",
    "    \n",
    "    with torch.no_grad():\n",
    "        # generate the predictions for the data from our model\n",
    "        prediction = predict(data, model)\n",
    "        # count correct predictions\n",
    "        num_correct = (prediction == target).sum()\n",
    "        # calculate accuracy (proportion of correct predictions)\n",
    "        return num_correct/num_samples\n"
   ]
  },
  {
   "cell_type": "markdown",
   "id": "5234ab76",
   "metadata": {},
   "source": [
    "### Putting it all together\n",
    "Now it is time to put it all together. We create a model with two hidden layers with 100 neurons each and train it on the whole dataset. After that, we evaluate the accuracy of our model on the training data."
   ]
  },
  {
   "cell_type": "code",
   "execution_count": 12,
   "id": "19642ae1",
   "metadata": {},
   "outputs": [
    {
     "name": "stdout",
     "output_type": "stream",
     "text": [
      "Accuracy on training set: 100.00\n"
     ]
    }
   ],
   "source": [
    "model = create_model([100, 100])\n",
    "model = trainModel(model, data, target, 50, lr = 0.01)\n",
    "accuracy = calculate_accuracy(data,target, model)\n",
    "\n",
    "print(f\"Accuracy on training set: {accuracy*100:.2f}\")"
   ]
  },
  {
   "cell_type": "markdown",
   "id": "727994e6",
   "metadata": {},
   "source": [
    "### Task 3.1 Cross-Validation\n",
    "100% accuracy looks really good, but maybe it is too good to be true. Until now, we had trained on the same set of data that we used for evaluation. This is a bad practice, especially for small datasets like ours, because our network may be overfitting.\n",
    "\n",
    "Now it's your turn: Write a function that performs k-fold cross-validation on the dataset to test the quality of your model. To do so, split the data into k training and test subsets. Train multiple models on the training data and evaluate the accuracy on the test data.\n",
    "\n",
    "Return the different results as well as the average accuracy."
   ]
  },
  {
   "cell_type": "code",
   "execution_count": 37,
   "id": "2cc2a619",
   "metadata": {},
   "outputs": [],
   "source": [
    "def kfold_crossvalidation(k, data, target, hidden = [100], epochs  = 50, lr = 0.01):\n",
    "    data_len, _ = data.shape\n",
    "    accuracies = []\n",
    "    for i in range(k):\n",
    "        kbegin = int(i/k * data_len)\n",
    "        kend = int((i+1)/k * data_len)\n",
    "        trainingdata = torch.cat([data[:kbegin, :], data[kend:]])\n",
    "        trainingtarget = torch.cat([target[:kbegin], target[kend:]])\n",
    "        testdata = data[kbegin:kend, :]\n",
    "        testtarget = target[kbegin:kend]\n",
    "        \n",
    "        model = create_model([100, 100])\n",
    "        model = trainModel(model, trainingdata, trainingtarget, 50, lr = 0.01)\n",
    "        accuracy = calculate_accuracy(testdata, testtarget, model)\n",
    "        accuracies.append(accuracy)\n",
    "    return accuracies, np.average(accuracies)"
   ]
  },
  {
   "cell_type": "markdown",
   "id": "7ce1c72d",
   "metadata": {},
   "source": [
    "### Test k-fold Cross-Validation\n",
    "The following code can be used to test your implementation. If your average accuracy is at ~98%, you probably have done it correctly."
   ]
  },
  {
   "cell_type": "code",
   "execution_count": 38,
   "id": "b4c3d0a4",
   "metadata": {},
   "outputs": [
    {
     "data": {
      "text/plain": [
       "([tensor(1.),\n",
       "  tensor(0.9444),\n",
       "  tensor(0.9444),\n",
       "  tensor(1.),\n",
       "  tensor(0.8333),\n",
       "  tensor(1.),\n",
       "  tensor(1.),\n",
       "  tensor(0.9444),\n",
       "  tensor(1.),\n",
       "  tensor(1.)],\n",
       " 0.9666666)"
      ]
     },
     "execution_count": 38,
     "metadata": {},
     "output_type": "execute_result"
    }
   ],
   "source": [
    "torch.manual_seed(0)\n",
    "kfold_crossvalidation(10, data, target, [10], 10, 0.01)"
   ]
  },
  {
   "cell_type": "markdown",
   "id": "9828f9c4",
   "metadata": {},
   "source": [
    "### Task 3.2 Calculate the Confusion Matrix\n",
    "Since our model is not as perfect as it seems, let's find out what kind of misclassifications it produced. Write a function that calculates the confusion matrix for our data. To do so, create a m x m matrix with m as the number of classes. Predict the classes and compare the prediction with the target. Sum up how often the inputs of each class were assigned to the different classes by our classifier."
   ]
  },
  {
   "cell_type": "code",
   "execution_count": 46,
   "id": "ac61c64d",
   "metadata": {},
   "outputs": [],
   "source": [
    "# matrix row contains each prediction results for the same actual class\n",
    "def confusion_matrix(data, target, model):\n",
    "    confusion_matrix = np.array([[0, 0, 0],\n",
    "                                 [0, 0, 0],\n",
    "                                 [0, 0, 0]])\n",
    "    model.eval()\n",
    "    with torch.no_grad():\n",
    "        predictions = predict(data, model)\n",
    "        for p, t in zip(predictions, target):\n",
    "            confusion_matrix[t, p]+= 1\n",
    "        \n",
    "    return confusion_matrix"
   ]
  },
  {
   "cell_type": "markdown",
   "id": "1e0b5c08",
   "metadata": {},
   "source": [
    "### Test the Confusion Matrix\n",
    "The following code can be used to test your confusion matrix."
   ]
  },
  {
   "cell_type": "code",
   "execution_count": 45,
   "id": "af7fbb52",
   "metadata": {},
   "outputs": [
    {
     "name": "stdout",
     "output_type": "stream",
     "text": [
      "[[18  0  0]\n",
      " [ 2 23  0]\n",
      " [ 0  0 14]]\n"
     ]
    }
   ],
   "source": [
    "torch.manual_seed(0)\n",
    "\n",
    "training_data = data[0:120]\n",
    "training_target = target[0:120]\n",
    "\n",
    "test_data = data[120:-1]\n",
    "test_target = target[120:-1]\n",
    "\n",
    "model = create_model([10])\n",
    "model = trainModel(model, training_data, training_target, 10, lr = 0.01)\n",
    "\n",
    "print(confusion_matrix(test_data, test_target, model))"
   ]
  },
  {
   "cell_type": "markdown",
   "id": "d2e6d7d3",
   "metadata": {},
   "source": [
    "### Task 3.3 Interpret the Confusion Matrix\n",
    "\n",
    "Take a look at the confusion matrix you calculated. What kind of error(s) did our model produce?"
   ]
  },
  {
   "cell_type": "code",
   "execution_count": null,
   "id": "73d49b0e",
   "metadata": {},
   "outputs": [],
   "source": [
    "# The first and third rows indicate that the first an third class was always correctly predicted"
   ]
  }
 ],
 "metadata": {
  "kernelspec": {
   "display_name": "Python 3 (ipykernel)",
   "language": "python",
   "name": "python3"
  },
  "language_info": {
   "codemirror_mode": {
    "name": "ipython",
    "version": 3
   },
   "file_extension": ".py",
   "mimetype": "text/x-python",
   "name": "python",
   "nbconvert_exporter": "python",
   "pygments_lexer": "ipython3",
   "version": "3.9.6"
  }
 },
 "nbformat": 4,
 "nbformat_minor": 5
}
