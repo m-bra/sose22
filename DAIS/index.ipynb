{
 "cells": [
  {
   "cell_type": "markdown",
   "id": "b70030fc",
   "metadata": {},
   "source": [
    "Primary data-mining tasks:\n",
    "<img src=\"../img/UnQZ6.png\" width=500/>"
   ]
  },
  {
   "cell_type": "markdown",
   "id": "c9c07f53",
   "metadata": {},
   "source": [
    "One of the\n",
    "largest target markets is the entire data-warehousing, data-mart, and decision - support\n",
    "community, encompassing professionals from such industries as retail, manufacturing,\n",
    "telecommunications, health care, insurance, and transportation. (...) Data-mining techniques can be applied to problems\n",
    "of business process reengineering, in which the goal is to understand interactions and\n",
    "relationships among business practices and organizations.\n",
    "\n",
    "<img src=\"../img/pec0z.png\" width=500/>\n",
    "\n",
    "Techniques also used for activities relating to matters of national\n",
    "security"
   ]
  },
  {
   "cell_type": "markdown",
   "id": "81626a9b",
   "metadata": {},
   "source": [
    "Roots of Data-Mining are discussed. Kantardzic: Statistics, Machine Learning, Control Theory.\n",
    "<img src=\"../img/LxplF.png\" width=500/>"
   ]
  },
  {
   "cell_type": "markdown",
   "id": "26dcccee",
   "metadata": {},
   "source": [
    "<hr/>"
   ]
  },
  {
   "cell_type": "markdown",
   "id": "b5f6aadb",
   "metadata": {},
   "source": [
    "Data Mining as an iterative process."
   ]
  },
  {
   "cell_type": "markdown",
   "id": "10563b24",
   "metadata": {},
   "source": [
    "1. State the problem and formulate the hypothesis.\n",
    "2. Collect the data.\n",
    "3. Preprocess the data: Outliers, Scaling, encoding, selecting features, dimensionality reduction, etc.\n",
    "4. Estimate the model.\n",
    "5. Interpret the model and draw conclusions"
   ]
  },
  {
   "cell_type": "markdown",
   "id": "5bc89ca0",
   "metadata": {},
   "source": [
    "Hence, domain-specific knowledge and experience are usually neces-\n",
    "sary in order to come up with a meaningful problem statement. Unfortunately,\n",
    "many application studies tend to focus on the data-mining technique at the\n",
    "expense of a clear problem statement. "
   ]
  },
  {
   "cell_type": "markdown",
   "id": "19cdc0dc",
   "metadata": {},
   "source": [
    "continue p. 10"
   ]
  },
  {
   "cell_type": "markdown",
   "id": "ee9157c8",
   "metadata": {},
   "source": [
    "[L05.html](L05.html)"
   ]
  },
  {
   "cell_type": "code",
   "execution_count": null,
   "id": "444f32fa",
   "metadata": {},
   "outputs": [],
   "source": []
  }
 ],
 "metadata": {
  "kernelspec": {
   "display_name": "Python 3 (ipykernel)",
   "language": "python",
   "name": "python3"
  },
  "language_info": {
   "codemirror_mode": {
    "name": "ipython",
    "version": 3
   },
   "file_extension": ".py",
   "mimetype": "text/x-python",
   "name": "python",
   "nbconvert_exporter": "python",
   "pygments_lexer": "ipython3",
   "version": "3.9.6"
  }
 },
 "nbformat": 4,
 "nbformat_minor": 5
}
