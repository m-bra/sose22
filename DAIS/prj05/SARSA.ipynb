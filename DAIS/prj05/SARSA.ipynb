{
 "cells": [
  {
   "cell_type": "markdown",
   "id": "5a9ad583",
   "metadata": {
    "id": "5a9ad583",
    "pycharm": {
     "name": "#%% md\n"
    }
   },
   "source": [
    "# 2 Tabular Reinforcement Learning\n",
    "In this notebook we are going to explore algorithms with which we can train agents to solve more or less simple environments on their own. Specifically, we will have a look at the SARSA algorithm. Instead of telling the agents what to do explicitely, we will only punish and reward their actions. Thereby, the agents should figure out a strategy by themselves, perhaps in ways that we would not have foreseen.\n",
    "\n",
    "Before we can start working on our agents, we have to set up an environment. The environment in a reinforcement learning problem is the world in which the agent acts. Games are very good example environments because they are sufficiently simple and can be simulated easily.\n",
    "\n",
    "## 2.1 The environment\n",
    "We will make use of the [gym](https://gym.openai.com/) library from openAI. It provides a number of environments with varying degrees of complexity in a convenient form."
   ]
  },
  {
   "cell_type": "code",
   "execution_count": 1,
   "id": "6d885be8",
   "metadata": {
    "id": "6d885be8",
    "pycharm": {
     "name": "#%%\n"
    }
   },
   "outputs": [
    {
     "name": "stdout",
     "output_type": "stream",
     "text": [
      "Collecting gym==0.21.0\n",
      "  Downloading gym-0.21.0.tar.gz (1.5 MB)\n",
      "\u001b[K     |████████████████████████████████| 1.5 MB 2.3 MB/s eta 0:00:01\n",
      "\u001b[?25hRequirement already satisfied: numpy>=1.18.0 in /home/merlin/.pyenv/versions/3.9.6/lib/python3.9/site-packages (from gym==0.21.0) (1.22.3)\n",
      "Collecting cloudpickle>=1.2.0\n",
      "  Downloading cloudpickle-2.1.0-py3-none-any.whl (25 kB)\n",
      "Using legacy 'setup.py install' for gym, since package 'wheel' is not installed.\n",
      "Installing collected packages: cloudpickle, gym\n",
      "    Running setup.py install for gym ... \u001b[?25ldone\n",
      "\u001b[?25hSuccessfully installed cloudpickle-2.1.0 gym-0.21.0\n",
      "\u001b[33mWARNING: You are using pip version 21.1.3; however, version 22.1.2 is available.\n",
      "You should consider upgrading via the '/home/merlin/.pyenv/versions/3.9.6/bin/python3.9 -m pip install --upgrade pip' command.\u001b[0m\n"
     ]
    }
   ],
   "source": [
    "!pip install gym==0.21.0"
   ]
  },
  {
   "cell_type": "code",
   "execution_count": 2,
   "id": "414bf143",
   "metadata": {
    "id": "414bf143",
    "pycharm": {
     "name": "#%%\n"
    }
   },
   "outputs": [],
   "source": [
    "# import stuff\n",
    "import gym\n",
    "from IPython import display\n",
    "import time\n",
    "import numpy as np\n",
    "import matplotlib.pyplot as plt\n",
    "np.random.seed(1337)"
   ]
  },
  {
   "cell_type": "markdown",
   "id": "bafe950e",
   "metadata": {
    "id": "bafe950e",
    "pycharm": {
     "name": "#%% md\n"
    }
   },
   "source": [
    "In our task, we want to use the environment [Taxi-v3](https://www.gymlibrary.ml/environments/toy_text/taxi/). Let's have a look (because we are using Jupyter notebooks, we need to use the supplied function below to render the environment)."
   ]
  },
  {
   "cell_type": "code",
   "execution_count": 3,
   "id": "db6252ce",
   "metadata": {
    "id": "db6252ce",
    "pycharm": {
     "name": "#%%\n"
    }
   },
   "outputs": [],
   "source": [
    "def nb_render(env):\n",
    "    # render gym environments in jupyter notebooks\n",
    "    display.clear_output(wait=True)\n",
    "    env.render()\n",
    "    time.sleep(0.05)"
   ]
  },
  {
   "cell_type": "code",
   "execution_count": 5,
   "id": "d596f790",
   "metadata": {
    "id": "d596f790",
    "pycharm": {
     "name": "#%%\n"
    },
    "scrolled": true
   },
   "outputs": [
    {
     "name": "stdout",
     "output_type": "stream",
     "text": [
      "+---------+\n",
      "|\u001b[34;1mR\u001b[0m: | : :G|\n",
      "| : | : : |\n",
      "| : : : : |\n",
      "| | : | : |\n",
      "|\u001b[35mY\u001b[0m|\u001b[43m \u001b[0m: |B: |\n",
      "+---------+\n",
      "\n"
     ]
    }
   ],
   "source": [
    "env = gym.make('Taxi-v3')\n",
    "env.reset() # resets the environment\n",
    "nb_render(env)"
   ]
  },
  {
   "cell_type": "markdown",
   "id": "b2c575bb",
   "metadata": {
    "id": "b2c575bb",
    "pycharm": {
     "name": "#%% md\n"
    }
   },
   "source": [
    "In Taxi-V3, the agent is a taxi driver (yellow if empty, green if full) in a 5x5 square. The aim is to pick up a passenger (at the location in bold blue font) and drop the passenger off at the target location (in magenta).\n",
    "\n",
    "__Rewards__\n",
    "\n",
    "A successful drop-off gives a reward of 20. \n",
    "Attempting to pick-up or drop-off prematurely gives a negative reward (punishment) of -10.\n",
    "Each step taken also gives a negative reward of -1.\n",
    "\n",
    "__Actions__"
   ]
  },
  {
   "cell_type": "code",
   "execution_count": 6,
   "id": "ab79636a",
   "metadata": {
    "id": "ab79636a",
    "pycharm": {
     "name": "#%%\n"
    }
   },
   "outputs": [
    {
     "name": "stdout",
     "output_type": "stream",
     "text": [
      "6\n"
     ]
    }
   ],
   "source": [
    "print(env.action_space.n)"
   ]
  },
  {
   "cell_type": "markdown",
   "id": "ccc464cc",
   "metadata": {
    "id": "ccc464cc",
    "pycharm": {
     "name": "#%% md\n"
    }
   },
   "source": [
    "The agent can execute one of six actions. Move north, south, east, west, pick-up or drop-off.\n",
    "\n",
    "__State-space__\n",
    "\n",
    "(States are called observations in gym lingo)\n",
    "\n",
    "We can encounter 500 different states in this environment (25 taxi positions * 5 passenger locations * 4 destination locations)."
   ]
  },
  {
   "cell_type": "code",
   "execution_count": 7,
   "id": "d98a3e1c",
   "metadata": {
    "id": "d98a3e1c",
    "pycharm": {
     "name": "#%%\n"
    },
    "scrolled": true
   },
   "outputs": [
    {
     "name": "stdout",
     "output_type": "stream",
     "text": [
      "500\n"
     ]
    }
   ],
   "source": [
    "print(env.observation_space.n)"
   ]
  },
  {
   "cell_type": "markdown",
   "id": "7a40cb27",
   "metadata": {
    "id": "7a40cb27",
    "pycharm": {
     "name": "#%% md\n"
    }
   },
   "source": [
    "__Interaction__\n",
    "\n",
    "Interacting with the environment is really straight-forward. Simply supply the index of an action to the step-function of the environment.\n",
    "As return values, you will receive the next state, the reward for the action and if the environment is solved (you can ignore the fourth return value)."
   ]
  },
  {
   "cell_type": "code",
   "execution_count": 8,
   "id": "51fe24fa",
   "metadata": {
    "id": "51fe24fa",
    "pycharm": {
     "name": "#%%\n"
    },
    "scrolled": true
   },
   "outputs": [
    {
     "name": "stdout",
     "output_type": "stream",
     "text": [
      "+---------+\n",
      "|\u001b[34;1mR\u001b[0m: | : :G|\n",
      "| : | : : |\n",
      "| : : : : |\n",
      "| | : | : |\n",
      "|\u001b[35mY\u001b[0m|\u001b[43m \u001b[0m: |B: |\n",
      "+---------+\n",
      "  (West)\n"
     ]
    }
   ],
   "source": [
    "s, r, done, _ = env.step(3)\n",
    "nb_render(env)"
   ]
  },
  {
   "cell_type": "markdown",
   "id": "2fc7ad4f",
   "metadata": {
    "id": "2fc7ad4f",
    "pycharm": {
     "name": "#%% md\n"
    }
   },
   "source": [
    "## 2.2 Evaluation of an agent\n",
    "Since we want to have a _successful_ agent, we need a measure to evaluate that success. The cumulative reward over the whole episode should suffice for that purpose. An episode is the whole interaction process between agent and environment until the problem is solved or otherwise interrupted."
   ]
  },
  {
   "cell_type": "markdown",
   "id": "9b7f67c7",
   "metadata": {
    "id": "9b7f67c7",
    "pycharm": {
     "name": "#%% md\n"
    }
   },
   "source": [
    "### Task 2.2.1 Random agent\n",
    "In order to test our evaluation and compare our agent later, we need to have a baseline agent.\n",
    "Since we do not know any better at the moment, let's implement an agent that acts according to a random policy.\n",
    "Write a function _random\\_policy()_ that takes the current state as input and returns a random action."
   ]
  },
  {
   "cell_type": "code",
   "execution_count": 9,
   "id": "9b7b692e",
   "metadata": {
    "id": "9b7b692e",
    "pycharm": {
     "name": "#%%\n"
    }
   },
   "outputs": [],
   "source": [
    "def random_policy(state):\n",
    "    # print(state)\n",
    "    return env.action_space.sample()"
   ]
  },
  {
   "cell_type": "markdown",
   "id": "7f2ca66a",
   "metadata": {
    "id": "7f2ca66a",
    "pycharm": {
     "name": "#%% md\n"
    }
   },
   "source": [
    "### Task 2.2.1 Evaluation function\n",
    "Write a function _evaluate()_ that takes a policy function as input, runs the policy on 20 independent episodes of the environment and returns a list of the cumulative rewards of those episodes.\n",
    "\n",
    "_Hint_: The _reset()_ function should be run before each episode starts and provides you with the first state.\n",
    "\n",
    "In order to see what our agent is doing, render the last episode. "
   ]
  },
  {
   "cell_type": "code",
   "execution_count": 53,
   "id": "82c354be",
   "metadata": {
    "id": "82c354be",
    "pycharm": {
     "name": "#%%\n"
    },
    "scrolled": true
   },
   "outputs": [],
   "source": [
    "def evaluate(policy, episodes, render=True):\n",
    "    rewards = [ 0 ] * episodes\n",
    "\n",
    "    for i in range(0, episodes):\n",
    "        episode_done = False\n",
    "        observation = env.reset()\n",
    "        while not episode_done:\n",
    "            action = policy(observation)\n",
    "            observation, reward, episode_done, info = env.step(action)\n",
    "            rewards[i] += reward\n",
    "            if render:\n",
    "                nb_render(env)\n",
    "\n",
    "    return rewards"
   ]
  },
  {
   "cell_type": "markdown",
   "id": "a3b1691c",
   "metadata": {
    "id": "a3b1691c",
    "pycharm": {
     "name": "#%% md\n"
    }
   },
   "source": [
    "### Task 2.2.3 Evalute the random agent\n",
    "Run the evaluation scheme on the random agent and plot the rewards."
   ]
  },
  {
   "cell_type": "code",
   "execution_count": 13,
   "id": "95d951c1",
   "metadata": {
    "id": "95d951c1",
    "pycharm": {
     "name": "#%%\n"
    },
    "scrolled": true
   },
   "outputs": [],
   "source": [
    "result_random = evaluate(random_policy, 20, render=False)"
   ]
  },
  {
   "cell_type": "code",
   "execution_count": 14,
   "id": "54582262",
   "metadata": {
    "id": "54582262",
    "pycharm": {
     "name": "#%%\n"
    },
    "scrolled": true
   },
   "outputs": [
    {
     "data": {
      "image/png": "[encoded data removed]",
      "text/plain": [
       "<Figure size 432x288 with 1 Axes>"
      ]
     },
     "metadata": {
      "needs_background": "light"
     },
     "output_type": "display_data"
    }
   ],
   "source": [
    "plt.scatter(range(0, 20), result_random)\n",
    "plt.xlabel(\"Episode\")\n",
    "plt.ylabel('Reward')\n",
    "plt.show()"
   ]
  },
  {
   "cell_type": "markdown",
   "id": "99344661",
   "metadata": {
    "id": "99344661",
    "pycharm": {
     "name": "#%% md\n"
    }
   },
   "source": [
    "## 2.3 SARSA\n",
    "Now we want to write an agent that learns from rewards and in the end performs the task a little better.\n",
    "From the lecture, we can remember that the SARSA algorithm deals with Q values. These values tell us how good it is to take a specific action in a specific state. For descrete problems up to a certain complexity (as is the Taxi-v3) we can simply store the Q values in a table."
   ]
  },
  {
   "cell_type": "markdown",
   "id": "5d1d2d3c",
   "metadata": {
    "id": "5d1d2d3c",
    "pycharm": {
     "name": "#%% md\n"
    }
   },
   "source": [
    "### Task 2.3.1 The Q-Table\n",
    "Write the function _init\\_table()_ that sets up and returns a table that contains the Q values of state-action pairs.\n",
    "Initialise all Q values with zeros.\n",
    "Over time, while learning, the agent will change these values in order to prefer certain actions in certain situations.\n"
   ]
  },
  {
   "cell_type": "code",
   "execution_count": 79,
   "id": "ee0d3da0",
   "metadata": {
    "id": "ee0d3da0",
    "pycharm": {
     "name": "#%%\n"
    }
   },
   "outputs": [],
   "source": [
    "def init_table():\n",
    "    table = []\n",
    "    for x in range(0, env.observation_space.n):\n",
    "        table.append([])\n",
    "        for y in range(0, env.action_space.n):\n",
    "            # we chose to initialize the Q values randomly\n",
    "            # because otherwise eps_greedy() always chooses the first action\n",
    "            # for the first few episodes\n",
    "            #table[x].append(np.random.randint(0, 5))\n",
    "            table[x].append(0)\n",
    "    return np.array(table)"
   ]
  },
  {
   "cell_type": "markdown",
   "id": "dfeb61ec",
   "metadata": {
    "id": "dfeb61ec",
    "pycharm": {
     "name": "#%% md\n"
    }
   },
   "source": [
    "### Task 2.3.2 Exploitation: greedy strategy\n",
    "The Q table represents our knowledge about the goodness of actions. Usually, we want to choose the best action for a certain situation. This way of choosing actions can be seen as exploiting your knowledge.\n",
    "Write a function _exploit()_ that returns the best action for a given state according to your Q-table."
   ]
  },
  {
   "cell_type": "code",
   "execution_count": 37,
   "id": "e5a5bd96",
   "metadata": {
    "id": "e5a5bd96",
    "pycharm": {
     "name": "#%%\n"
    }
   },
   "outputs": [],
   "source": [
    "def exploit(state):\n",
    "    return np.max(table[state, :])"
   ]
  },
  {
   "cell_type": "markdown",
   "id": "74b91c11",
   "metadata": {
    "id": "74b91c11",
    "pycharm": {
     "name": "#%% md\n"
    }
   },
   "source": [
    "### Task 2.3.3 Exploitation vs. Exploration\n",
    "However, greedily executing actions all the time is not the best idea. A big problem in reinforcement learning is sufficent exploration of the environment. You will never know if your current strategy is optimal, if you did not fully explore all possibilities. But exploring is costly, as it means to deviate from exploiting your current strategy.\n",
    "\n",
    "One way to tackle this dilemma is the $\\epsilon$-greedy strategy. For a certain fraction of actions $\\epsilon$, we will not use our knowledge to choose the best action, but rather choose a random non-greedy action to explore the environment.\n",
    "\n",
    "Write a function _explore()_ that returns a random non-greedy action for a given state according to your Q-table."
   ]
  },
  {
   "cell_type": "code",
   "execution_count": 63,
   "id": "dfacaf2d",
   "metadata": {
    "id": "dfacaf2d",
    "pycharm": {
     "name": "#%%\n"
    }
   },
   "outputs": [],
   "source": [
    "def explore(state):\n",
    "    greedy = np.max(table[state, :])\n",
    "    result = greedy\n",
    "    while result == greedy:\n",
    "        result = env.action_space.sample()\n",
    "    return result"
   ]
  },
  {
   "cell_type": "markdown",
   "id": "1378d349",
   "metadata": {
    "id": "1378d349",
    "pycharm": {
     "name": "#%% md\n"
    }
   },
   "source": [
    "Write a function _eps\\_greedy()_ that takes a state as input. In $\\epsilon$ of all cases return an explorative action and in 1-$\\epsilon$ of all cases return an exploitative action."
   ]
  },
  {
   "cell_type": "code",
   "execution_count": 109,
   "id": "cc940ca6",
   "metadata": {
    "id": "cc940ca6",
    "pycharm": {
     "name": "#%%\n"
    }
   },
   "outputs": [],
   "source": [
    "epsilon = 0.1\n",
    "\n",
    "def eps_greedy(state):\n",
    "    if np.random.uniform() < epsilon:\n",
    "        return explore(state)\n",
    "    else:\n",
    "        return exploit(state)"
   ]
  },
  {
   "cell_type": "markdown",
   "id": "2918193e",
   "metadata": {
    "id": "2918193e",
    "pycharm": {
     "name": "#%% md\n"
    }
   },
   "source": [
    "### Task 2.3.1 The temporal difference error\n",
    "We only need one last piece to complete our algorithm: updating our knowledge about good state-action combinations. Hence, we have to update our Q-values in a way that reflects how good an action is to reach the goal in the future.\n",
    "\n",
    "The TD-error for SARSA is given as (see lecture p.19):\n",
    "\n",
    "$$ \\delta =  r + \\gamma Q(s',a') - Q(s,a) $$\n",
    "\n",
    "Write a function _td\\_error()_, that takes as arguments the current state, the taken action, the reward, the next state and the next action and returns the temporal difference error"
   ]
  },
  {
   "cell_type": "code",
   "execution_count": 52,
   "id": "a3d6a444",
   "metadata": {
    "id": "a3d6a444",
    "pycharm": {
     "name": "#%%\n"
    }
   },
   "outputs": [],
   "source": [
    "gamma = 0.9\n",
    "\n",
    "def td_error(s, a, r, s_next, a_next):\n",
    "    return r + gamma * table[s_next, a_next] - table[s, a]"
   ]
  },
  {
   "cell_type": "markdown",
   "id": "879e9181",
   "metadata": {
    "id": "879e9181",
    "pycharm": {
     "name": "#%% md\n"
    }
   },
   "source": [
    "Lastly, the Q table needs to be updated according to:\n",
    "  $$ Q(s,a) \\leftarrow Q(s,a) + \\eta \\, \\delta $$\n",
    "    \n",
    "Write a function _update\\_table()_ that takes as inputs the current state, the current action and the td-error and updates the Q table."
   ]
  },
  {
   "cell_type": "code",
   "execution_count": 48,
   "id": "152c43a2",
   "metadata": {
    "id": "152c43a2",
    "pycharm": {
     "name": "#%%\n"
    }
   },
   "outputs": [],
   "source": [
    "eta = 0.1\n",
    "\n",
    "def update_table(s, a, delta):\n",
    "    table[s, a] = table[s, a] + eta * delta"
   ]
  },
  {
   "cell_type": "markdown",
   "id": "2a08c0b4",
   "metadata": {
    "id": "2a08c0b4",
    "pycharm": {
     "name": "#%% md\n"
    }
   },
   "source": [
    "## 2.4 Training\n",
    "Now we can finally train our agent. 2000 episodes should suffice to sufficiently solve the Taxi problem.\n",
    "\n",
    "The SARSA algorithm for one episode goes as follows:\n",
    "\n",
    "- initialise environment, read initial state $s$\n",
    "- select an action $a$\n",
    "- repeat until done:\n",
    "    - execute action $a$\n",
    "    - read reward $r$ and new state $s'$\n",
    "    - select next action $a'$\n",
    "    - compute TD-error\n",
    "    - update Q table\n",
    "    - set variables for next iteration: \n",
    "        $s \\leftarrow s'$, $a \\leftarrow a'$"
   ]
  },
  {
   "cell_type": "markdown",
   "id": "b7ab04df",
   "metadata": {
    "id": "b7ab04df",
    "pycharm": {
     "name": "#%% md\n"
    }
   },
   "source": [
    "### Task 2.4.1 The train function\n",
    "Write a train function that applies the SARSA algorithm to the environment for 2000 episodes. The function should return a list of cumulative rewards for each episode."
   ]
  },
  {
   "cell_type": "code",
   "execution_count": 110,
   "id": "d3fd1bfe",
   "metadata": {
    "id": "d3fd1bfe",
    "pycharm": {
     "name": "#%%\n"
    }
   },
   "outputs": [],
   "source": [
    "table = init_table()\n",
    "episodes = 2000\n",
    "\n",
    "def train():\n",
    "    cumulative_rewards = []\n",
    "    \n",
    "    for episode in range(0, episodes):\n",
    "        s = env.reset()\n",
    "        a = eps_greedy(s)\n",
    "        cumulative_reward = 0\n",
    "        while True:\n",
    "            s_next, r, done, _ = env.step(a)\n",
    "            if done: break\n",
    "\n",
    "            a_next = eps_greedy(s_next)\n",
    "            delta = td_error(s, a, r, s_next, a_next)\n",
    "            update_table(s, a, delta)\n",
    "            s = s_next\n",
    "            a = a_next\n",
    "\n",
    "            cumulative_reward += r\n",
    "        cumulative_rewards.append(cumulative_reward)\n",
    "    return cumulative_rewards\n",
    "\n",
    "train_rewards = train()"
   ]
  },
  {
   "cell_type": "markdown",
   "id": "eba01560",
   "metadata": {
    "id": "eba01560",
    "pycharm": {
     "name": "#%% md\n"
    }
   },
   "source": [
    "### Task 2.4.2 Visualise the training\n",
    "Train your agent and obtain the cumulative rewards for the episodes.\n",
    "Plot the temporal evolution of the rewards over the episodes in order to see if the training worked."
   ]
  },
  {
   "cell_type": "code",
   "execution_count": 111,
   "id": "847b03f9",
   "metadata": {
    "id": "847b03f9",
    "pycharm": {
     "name": "#%%\n"
    },
    "scrolled": true
   },
   "outputs": [
    {
     "data": {
      "image/png": "[encoded data removed]",
      "text/plain": [
       "<Figure size 432x288 with 1 Axes>"
      ]
     },
     "metadata": {
      "needs_background": "light"
     },
     "output_type": "display_data"
    }
   ],
   "source": [
    "plt.plot(range(0, episodes), train_rewards)\n",
    "plt.xlabel(\"Episode\")\n",
    "plt.ylabel('Reward')\n",
    "plt.show()\n",
    "# algorithm clearly has some bug. We sadly could not find it out the mistake."
   ]
  },
  {
   "cell_type": "markdown",
   "id": "570409f0",
   "metadata": {
    "id": "570409f0",
    "pycharm": {
     "name": "#%% md\n"
    }
   },
   "source": [
    "## 2.5 Results\n",
    "Now that we have a trained agent it is time to evaluate the trained agent and compare it against the performance of the random agent."
   ]
  },
  {
   "cell_type": "markdown",
   "id": "a8647a87",
   "metadata": {
    "id": "a8647a87",
    "pycharm": {
     "name": "#%% md\n"
    }
   },
   "source": [
    "### Task 2.5.1 Evaluate the trained agent\n",
    "We already wrote the evaluation function. So now we just need to apply our policy to the environment and see how the agent performs.\n",
    "It is perhaps best to just use the greedy policy. If we assume that our agent is fully trained to the best of our knowledge, and we are not updating our Q table and thus are not learning during evaluation, there is no need for exploration."
   ]
  },
  {
   "cell_type": "code",
   "execution_count": 112,
   "id": "efbd2431",
   "metadata": {
    "id": "efbd2431",
    "pycharm": {
     "name": "#%%\n"
    },
    "scrolled": true
   },
   "outputs": [],
   "source": [
    "result_greedy = evaluate(exploit, 20, render=False)"
   ]
  },
  {
   "cell_type": "markdown",
   "id": "23fe5218",
   "metadata": {
    "id": "23fe5218",
    "pycharm": {
     "name": "#%% md\n"
    }
   },
   "source": [
    "### Task 2.5.2 Compare the agents\n",
    "Plot the results of the random agent vs the results of the trained agent for a nice comparison."
   ]
  },
  {
   "cell_type": "code",
   "execution_count": 115,
   "id": "ea8d9d26",
   "metadata": {
    "id": "ea8d9d26",
    "pycharm": {
     "name": "#%%\n"
    }
   },
   "outputs": [
    {
     "data": {
      "image/png": "[encoded data removed]",
      "text/plain": [
       "<Figure size 432x288 with 1 Axes>"
      ]
     },
     "metadata": {
      "needs_background": "light"
     },
     "output_type": "display_data"
    }
   ],
   "source": [
    "plt.scatter(range(0, 20), result_random, label=\"random policy\")\n",
    "plt.plot(range(0, 20), result_greedy, label=\"greedy policy\")\n",
    "plt.xlabel(\"Episode\")\n",
    "plt.ylabel('Reward')\n",
    "plt.legend()\n",
    "plt.show()"
   ]
  }
 ],
 "metadata": {
  "colab": {
   "name": "SARSA.ipynb",
   "provenance": []
  },
  "kernelspec": {
   "display_name": "Python 3 (ipykernel)",
   "language": "python",
   "name": "python3"
  },
  "language_info": {
   "codemirror_mode": {
    "name": "ipython",
    "version": 3
   },
   "file_extension": ".py",
   "mimetype": "text/x-python",
   "name": "python",
   "nbconvert_exporter": "python",
   "pygments_lexer": "ipython3",
   "version": "3.9.6"
  }
 },
 "nbformat": 4,
 "nbformat_minor": 5
}
