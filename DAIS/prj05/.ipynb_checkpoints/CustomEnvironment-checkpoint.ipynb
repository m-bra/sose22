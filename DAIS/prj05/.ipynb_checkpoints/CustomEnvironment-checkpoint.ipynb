{
 "cells": [
  {
   "cell_type": "markdown",
   "id": "55f9b6dc",
   "metadata": {
    "id": "55f9b6dc"
   },
   "source": [
    "\n",
    "# 3 Custom Environments\n",
    "In this task you are asked to create a environment for a reinforcement agent. It's common to create environments for agents by using the openai gym interface. It creates a good baseline for what is necessary to train a RL agent and makes it easy to try out different environments on the same algorithm.\n",
    "If you need more information take a look at the documentation https://www.gymlibrary.ml/.\n",
    "You can find the implementation of all official enviroments on GitHub: https://github.com/openai/gym/tree/master/gym/envs if you need some examples. "
   ]
  },
  {
   "cell_type": "code",
   "execution_count": 1,
   "id": "d46e9eed",
   "metadata": {
    "id": "d46e9eed"
   },
   "outputs": [
    {
     "name": "stdout",
     "output_type": "stream",
     "text": [
      "Requirement already satisfied: gym==0.21.0 in /home/merlin/.pyenv/versions/3.9.6/lib/python3.9/site-packages (0.21.0)\n",
      "Requirement already satisfied: numpy>=1.18.0 in /home/merlin/.pyenv/versions/3.9.6/lib/python3.9/site-packages (from gym==0.21.0) (1.22.3)\n",
      "Requirement already satisfied: cloudpickle>=1.2.0 in /home/merlin/.pyenv/versions/3.9.6/lib/python3.9/site-packages (from gym==0.21.0) (2.1.0)\n",
      "\u001b[33mWARNING: You are using pip version 21.1.3; however, version 22.1.2 is available.\n",
      "You should consider upgrading via the '/home/merlin/.pyenv/versions/3.9.6/bin/python3.9 -m pip install --upgrade pip' command.\u001b[0m\n",
      "Note: you may need to restart the kernel to use updated packages.\n"
     ]
    }
   ],
   "source": [
    "pip install gym==0.21.0"
   ]
  },
  {
   "cell_type": "code",
   "execution_count": 2,
   "id": "1e12a89a",
   "metadata": {
    "id": "1e12a89a"
   },
   "outputs": [],
   "source": [
    "import gym\n",
    "import numpy as np\n",
    "import time\n",
    "from IPython.display import display, clear_output"
   ]
  },
  {
   "cell_type": "markdown",
   "id": "e4a7d886",
   "metadata": {
    "id": "e4a7d886"
   },
   "source": [
    "## 3.1 The Environment\n",
    "A openai gym environment consists of at least 3 methods. `__init__` the constructor which sets all the necassary values, a `step` function, which describes the behaviour of the environment and a `reset` function, which resets the starting state of the environment. In addition to that usually a `render` function is provided to visualize the behaviour of the environment.\n",
    "\n",
    "#### \\__init__:\n",
    "The Constructor of the environment defines all the necassary variables. To set the bounds of our environment we have to define the action_space and the observartion space. The gym.spaces library contains the necassary functions to do in our case we use gym.spaces.Discrete because we wan to only handle discrete values.\n",
    "The Discrete space works a bit like a range, with some extra methods. A Linear representation of the state is helpful for tabular learning, because it makes creating a Q-Table really easy. \n",
    "\n",
    "#### step:\n",
    "The step method takes an action and returns a tuple of the shape(observation, reward, done). The observation is the result of taking the action. The reward is the reward handet for takin given action in the previous state. The done variable is boolean and indicates if a given scenario has come to an end. \n",
    "\n",
    "#### reset:\n",
    "The reset method rests the start state of the environment. It returns the new state of the environment.\n",
    "\n",
    "#### render:\n",
    "The render method visualizes the state of the environment. There are many different ways to do so i.e. creating a visual representation by using vector graphics or printing to the terminal. \n",
    "We want to focus on the easiest way, by printing the state. Find a good and easily printable representation of the internal state (i.e. a numpy array) and print it. To print over the last output you can call the  function before you print the state.\n",
    "\n",
    "### Encoding and decoding\n",
    "This functions are not necessary for a gym environment. However it might be usefull do write some functions that encode and decode the linearized state to a 2D imensional Form and back.\n",
    "\n",
    "#### decode_action\n",
    "returns the action refering to the index of the action\n",
    "\n",
    "#### decode_state\n",
    "returns a 2D representation of the linear state\n",
    "\n",
    "#### encode_state\n",
    "returns a linear representation of the 2D state.\n",
    "\n",
    "\n",
    "### Task 3.1.1\n",
    "- Create a two dimensional, discrete environment of the size 10x10.\n",
    "- Each episode the agent should start at a random position, while the target always stays at the same position.\n",
    "- The agent should be able to move in all 4 directions, If the agent hits a wall it should do nothing.\n",
    "- An episode ends if the agent reaches the target.\n",
    "- Reaching the target results in a reward of 10, while every other action should give a small negative reward."
   ]
  },
  {
   "cell_type": "code",
   "execution_count": 9,
   "id": "174d6193",
   "metadata": {
    "id": "174d6193"
   },
   "outputs": [],
   "source": [
    "class CustomEnv(gym.Env):\n",
    "    metadata = {'render.modes': ['human']}\n",
    "    def __init__(self):\n",
    "        super(CustomEnv, self).__init__()\n",
    "        # Write a constructor for your enviroment\n",
    "        # Define the action_space and observation_space\n",
    "        # Position your agent and the target in the enviroment \n",
    "        self.action_space = gym.spaces.Discrete(4)\n",
    "        self.observation_space = gym.spaces.Discrete(100)\n",
    "        self._agent_location = 0, 0\n",
    "        \n",
    "    def step(self, action):\n",
    "        ax, ay = self.decode_action(action)\n",
    "        sx, sy = self._agent_location\n",
    "        sx += ax\n",
    "        sy += ay\n",
    "        if sx < 0:\n",
    "            sx = 0\n",
    "        if sy < 0:\n",
    "            sy = 0\n",
    "        if sx >= 10:\n",
    "            sx = 10\n",
    "        if sy >= 10:\n",
    "            sy = 10\n",
    "        self._agent_location = sx, sy\n",
    "        \n",
    "        done = sx == 5 and sy == 5\n",
    "        reward = 10 if done else -1\n",
    "        return (self.encode_state((sx, sy)), reward, done, _)\n",
    "     \n",
    "    def reset(self):\n",
    "        self._agent_location = np.random.randint(0, 10), np.random.randint(0, 10)\n",
    "        return self.encode_state(self._agent_location)\n",
    "        \n",
    "    def render(self):\n",
    "        sx, sy = self._agent_location\n",
    "        for x in range(0, 10):\n",
    "            for y in range(0, 10):\n",
    "                if x == 5 and y == 5:\n",
    "                    print(\"T\", end='')\n",
    "                elif x == sx and y == sy:\n",
    "                    print(\"A\", end='')\n",
    "                else:\n",
    "                    print(\" \", end='')\n",
    "            print(\"\")\n",
    "    \n",
    "    def decode_action(self, action):\n",
    "        return action // 2, action % 2\n",
    "\n",
    "    def decode_state(self, state):\n",
    "        return state // 10, state % 10\n",
    "    \n",
    "    def encode_state(self, state):\n",
    "        a, b = state\n",
    "        return a * 10 + b\n",
    "    "
   ]
  },
  {
   "cell_type": "markdown",
   "id": "3ebcdafe",
   "metadata": {
    "id": "3ebcdafe"
   },
   "source": [
    "## 3.2 Test with a random agent\n",
    "The following cell allows you to test your enviroment with a random agent."
   ]
  },
  {
   "cell_type": "code",
   "execution_count": 10,
   "id": "a3dc404a",
   "metadata": {
    "id": "a3dc404a"
   },
   "outputs": [
    {
     "name": "stdout",
     "output_type": "stream",
     "text": [
      "          \n",
      "          \n",
      "          \n",
      "          \n",
      "          \n",
      "     T    \n",
      "          \n",
      "          \n",
      "          \n",
      "          \n"
     ]
    }
   ],
   "source": [
    "env = CustomEnv()\n",
    "done = False\n",
    "while done == False:\n",
    "    a = env.action_space.sample()\n",
    "    _,_, done,_ = env.step(a)\n",
    "    clear_output(wait=True)\n",
    "    env.render()\n",
    "    time.sleep(0.1)"
   ]
  },
  {
   "cell_type": "markdown",
   "id": "aa73e00f",
   "metadata": {
    "id": "aa73e00f"
   },
   "source": [
    "## Task 3.3 Test with a Q-Learning Agent\n",
    "In the previous task we wrote an agent that used the SARSA algorithm. Now we want to use a similar algorithm, Q-Learning, to solve your own custom environment. And of course visualise your training progress (Cumulative rewards over time).\n",
    "\n",
    "The main difference between SARSA and Q-Learning is the way the Q-Values are calculated. Therefore, you can recycle most of your code."
   ]
  },
  {
   "cell_type": "code",
   "execution_count": null,
   "id": "3a34d4e1",
   "metadata": {
    "id": "3a34d4e1"
   },
   "outputs": [],
   "source": [
    "# your code here"
   ]
  },
  {
   "cell_type": "markdown",
   "id": "8ea757dd",
   "metadata": {
    "id": "8ea757dd"
   },
   "source": [
    "### Task 3.3.1 Size concerns for Tabular RL:\n",
    "The table for learning our simple enviroment has the size 100x4 for now. Since we have 100 possible States and 4 actions. How much bigger would the table get if we allowed the target to be placed anywhere?  "
   ]
  },
  {
   "cell_type": "code",
   "execution_count": null,
   "id": "4a53e6db",
   "metadata": {
    "id": "4a53e6db"
   },
   "outputs": [],
   "source": [
    "#Your Answer here"
   ]
  }
 ],
 "metadata": {
  "colab": {
   "name": "CustomEnvironment.ipynb",
   "provenance": []
  },
  "kernelspec": {
   "display_name": "Python 3 (ipykernel)",
   "language": "python",
   "name": "python3"
  },
  "language_info": {
   "codemirror_mode": {
    "name": "ipython",
    "version": 3
   },
   "file_extension": ".py",
   "mimetype": "text/x-python",
   "name": "python",
   "nbconvert_exporter": "python",
   "pygments_lexer": "ipython3",
   "version": "3.9.6"
  }
 },
 "nbformat": 4,
 "nbformat_minor": 5
}
