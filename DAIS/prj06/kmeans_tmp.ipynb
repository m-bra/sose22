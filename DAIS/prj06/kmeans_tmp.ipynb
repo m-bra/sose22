{
 "cells": [
  {
   "cell_type": "markdown",
   "id": "c4e218c5",
   "metadata": {},
   "source": [
    "# 2 _k_-Means Clustering"
   ]
  },
  {
   "cell_type": "markdown",
   "id": "6f77f2ae",
   "metadata": {},
   "source": [
    "In this notebook, we will explore and cluster data with the _k_-Means algorithm.\n",
    "\n",
    "In _k_-Means, a dataset is partitioned in _k_ clusters while trying to minimize the sum of squared distances of each point to its cluster center. One of the characteristics of this algorithm is that the number of clusters _k_ is predefined, i.e., the choice is left to the machine learning practitioner.\n",
    "\n",
    "You can find an overview of the algorithm in the lecture slides.\n",
    "\n",
    "As usual, we start with importing the packages:"
   ]
  },
  {
   "cell_type": "code",
   "execution_count": 1,
   "id": "e7814ce0",
   "metadata": {},
   "outputs": [],
   "source": [
    "import numpy as np\n",
    "from sklearn.datasets import load_iris\n",
    "from sklearn.decomposition import PCA\n",
    "import matplotlib.pyplot as plt\n",
    "np.random.seed(1337) # seeds help with reproducible results\n",
    "%matplotlib inline"
   ]
  },
  {
   "cell_type": "markdown",
   "id": "0bbb3b32",
   "metadata": {},
   "source": [
    "## 2.1 The Dataset\n",
    "We are going to use a familiar dataset, the [Iris Dataset](https://scikit-learn.org/stable/auto_examples/datasets/plot_iris_dataset.html).\n",
    "The dataset contains four features: sepal length, sepal width, petal length and petal width. We want to be able to look at our clustering results later. Four-dimensional data are hard to visualize for human brains. Thankfully, we know a handy dimensionality reduction technique, i.e., Principal Component Analysis (PCA)."
   ]
  },
  {
   "cell_type": "markdown",
   "id": "42340ff3",
   "metadata": {},
   "source": [
    "### Task 2.1.1 Transform the Data\n",
    " 1. Load the Iris Dataset.\n",
    " 2. Use the PCA class from sklearn to project the dataset into a two-dimensional space."
   ]
  },
  {
   "cell_type": "code",
   "execution_count": 35,
   "id": "23bb987b",
   "metadata": {},
   "outputs": [],
   "source": [
    "from sklearn import datasets\n",
    "from sklearn.decomposition import PCA\n",
    "\n",
    "iris = datasets.load_iris()\n",
    "X_original = iris.data\n",
    "y = iris.target\n",
    "\n",
    "X_pca = PCA(n_components=2).fit_transform(X_original)"
   ]
  },
  {
   "cell_type": "markdown",
   "id": "ef2e3160",
   "metadata": {},
   "source": [
    "## 2.2 Initialization\n",
    "Before we start with the learning phase, we need to set up a few initial parameters."
   ]
  },
  {
   "cell_type": "markdown",
   "id": "767d2b59",
   "metadata": {},
   "source": [
    "### Task 2.2.1 The _k_-Question\n",
    "As mentioned, the choice of the right _k_ is an important decision for the success of the algorithm. The number of clusters you will retrieve in the end depends on _k_. Too many or too few clusters might give you suboptimal results.\n",
    "\n",
    "Fortunately, we know that the Iris Dataset is labeled. Those labels already partition the data. Therefore, let's choose _k_ according to the number of labels."
   ]
  },
  {
   "cell_type": "code",
   "execution_count": 21,
   "id": "9cd4e271",
   "metadata": {},
   "outputs": [
    {
     "name": "stdout",
     "output_type": "stream",
     "text": [
      ".. _iris_dataset:\n",
      "\n",
      "Iris plants dataset\n",
      "--------------------\n",
      "\n",
      "**Data Set Characteristics:**\n",
      "\n",
      "    :Number of Instances: 150 (50 in each of three classes)\n",
      "    :Number of Attributes: 4 numeric, predictive attributes and the class\n",
      "    :Attribute Information:\n",
      "        - sepal length in cm\n",
      "        - sepal width in cm\n",
      "        - petal length in cm\n",
      "        - petal width in cm\n",
      "        - class:\n",
      "                - Iris-Setosa\n",
      "                - Iris-Versicolour\n",
      "                - Iris-Virginica\n",
      "                \n",
      "    :Summary Statistics:\n",
      "\n",
      "    ============== ==== ==== ======= ===== ====================\n",
      "                    Min  Max   Mean    SD   Class Correlation\n",
      "    ============== ==== ==== ======= ===== ====================\n",
      "    sepal length:   4.3  7.9   5.84   0.83    0.7826\n",
      "    sepal width:    2.0  4.4   3.05   0.43   -0.4194\n",
      "    petal length:   1.0  6.9   3.76   1.76    0.9490  (high!)\n",
      "    petal width:    0.1  2.5   1.20   0.76    0.9565  (high!)\n",
      "    ============== ==== ==== ======= ===== ====================\n",
      "\n",
      "    :Missing Attribute Values: None\n",
      "    :Class Distribution: 33.3% for each of 3 classes.\n",
      "    :Creator: R.A. Fisher\n",
      "    :Donor: Michael Marshall (MARSHALL%PLU@io.arc.nasa.gov)\n",
      "    :Date: July, 1988\n",
      "\n",
      "The famous Iris database, first used by Sir R.A. Fisher. The dataset is taken\n",
      "from Fisher's paper. Note that it's the same as in R, but not as in the UCI\n",
      "Machine Learning Repository, which has two wrong data points.\n",
      "\n",
      "This is perhaps the best known database to be found in the\n",
      "pattern recognition literature.  Fisher's paper is a classic in the field and\n",
      "is referenced frequently to this day.  (See Duda & Hart, for example.)  The\n",
      "data set contains 3 classes of 50 instances each, where each class refers to a\n",
      "type of iris plant.  One class is linearly separable from the other 2; the\n",
      "latter are NOT linearly separable from each other.\n",
      "\n",
      ".. topic:: References\n",
      "\n",
      "   - Fisher, R.A. \"The use of multiple measurements in taxonomic problems\"\n",
      "     Annual Eugenics, 7, Part II, 179-188 (1936); also in \"Contributions to\n",
      "     Mathematical Statistics\" (John Wiley, NY, 1950).\n",
      "   - Duda, R.O., & Hart, P.E. (1973) Pattern Classification and Scene Analysis.\n",
      "     (Q327.D83) John Wiley & Sons.  ISBN 0-471-22361-1.  See page 218.\n",
      "   - Dasarathy, B.V. (1980) \"Nosing Around the Neighborhood: A New System\n",
      "     Structure and Classification Rule for Recognition in Partially Exposed\n",
      "     Environments\".  IEEE Transactions on Pattern Analysis and Machine\n",
      "     Intelligence, Vol. PAMI-2, No. 1, 67-71.\n",
      "   - Gates, G.W. (1972) \"The Reduced Nearest Neighbor Rule\".  IEEE Transactions\n",
      "     on Information Theory, May 1972, 431-433.\n",
      "   - See also: 1988 MLC Proceedings, 54-64.  Cheeseman et al\"s AUTOCLASS II\n",
      "     conceptual clustering system finds 3 classes in the data.\n",
      "   - Many, many more ...\n",
      "labels:  [0 0 0 0 0 0 0 0 0 0 0 0 0 0 0 0 0 0 0 0 0 0 0 0 0 0 0 0 0 0 0 0 0 0 0 0 0\n",
      " 0 0 0 0 0 0 0 0 0 0 0 0 0 1 1 1 1 1 1 1 1 1 1 1 1 1 1 1 1 1 1 1 1 1 1 1 1\n",
      " 1 1 1 1 1 1 1 1 1 1 1 1 1 1 1 1 1 1 1 1 1 1 1 1 1 1 2 2 2 2 2 2 2 2 2 2 2\n",
      " 2 2 2 2 2 2 2 2 2 2 2 2 2 2 2 2 2 2 2 2 2 2 2 2 2 2 2 2 2 2 2 2 2 2 2 2 2\n",
      " 2 2]\n"
     ]
    }
   ],
   "source": [
    "print(iris.DESCR)\n",
    "print(\"labels: \", y)\n",
    "k = 3"
   ]
  },
  {
   "cell_type": "markdown",
   "id": "031ef7a4",
   "metadata": {},
   "source": [
    "### Task 2.2.2 The First Cluster Centers\n",
    "You have to start somewhere! Theoretically, you could choose arbitrary points in the input space. Unfortunately, if we choose those randomly, the algorithm might take a while to converge.\n",
    "\n",
    "In order to speed things up a little, let's choose different random datapoints from the dataset as the initial cluster centers.\n",
    "\n",
    "_Hint: `numpy.random` has a few good functions for that purpose._"
   ]
  },
  {
   "cell_type": "code",
   "execution_count": 73,
   "id": "a87a2505",
   "metadata": {},
   "outputs": [],
   "source": [
    "from numpy.random import default_rng\n",
    "rng = default_rng()\n",
    "#rng.integers(N)\n",
    "\n",
    "X_pca_height, X_pca_width = X_pca.shape\n",
    "def init_centroids():\n",
    "    centroids = [rng.integers(X_pca_height) for _ in range(k)]\n",
    "    centroids = [X_pca[i] for i in centroids]\n",
    "    return centroids\n",
    "centroids = init_centroids()"
   ]
  },
  {
   "cell_type": "markdown",
   "id": "d00b1ac7",
   "metadata": {},
   "source": [
    "## 2.3 The Algorithm\n",
    "Now the algorithm goes as follows:\n",
    "\n",
    "    - obtain the distance of each point to each cluster center\n",
    "    - assign that point to the nearest cluster\n",
    "    - move position of centre to mean of points in cluster\n",
    "    \n",
    "Thus, we need a few calculation steps. Note that the use of libraries outside the Python Standard Library and `numpy` is not allowed in the following tasks, unless stated otherwise."
   ]
  },
  {
   "cell_type": "markdown",
   "id": "4e8917ab",
   "metadata": {},
   "source": [
    "### Task 2.3.1 Compute the Distances\n",
    "Complete the function `distances(...)` that takes a list/array of datapoints and a list/array of cluster centers and returns the distance of each data point to each cluster center."
   ]
  },
  {
   "cell_type": "code",
   "execution_count": 49,
   "id": "10274ea2",
   "metadata": {},
   "outputs": [],
   "source": [
    "def distances(X, centroids, ord=2):\n",
    "    X_height, X_width = X.shape\n",
    "    assert(X_width == 2)\n",
    "    \n",
    "    return [\n",
    "        [\n",
    "            np.linalg.norm(p-centroid, ord=ord)\n",
    "            for centroid in centroids\n",
    "        ]\n",
    "        for p in X\n",
    "    ]"
   ]
  },
  {
   "cell_type": "markdown",
   "id": "62fc79ae",
   "metadata": {},
   "source": [
    "### Task 2.3.2 Assign Data Points to Clusters\n",
    "Now that we can compute the distances to the cluster centres, we need to assign the points to their respective clusters.\n",
    "\n",
    "Complete the function `compute_assignments(...)` that takes a list/array of data points and a list/array of cluster centers and returns a list of assignments of each data point to the nearest cluster center.\n",
    "\n",
    "_Hint: Make ample use of the `distances(...)` function you just wrote._"
   ]
  },
  {
   "cell_type": "code",
   "execution_count": 50,
   "id": "da601a49",
   "metadata": {},
   "outputs": [],
   "source": [
    "def compute_assignments(X, centroids):\n",
    "    return [\n",
    "        np.argmin(centroid_ds)\n",
    "        for centroid_ds in distances(X, centroids)\n",
    "    ]"
   ]
  },
  {
   "cell_type": "markdown",
   "id": "d31f52ff",
   "metadata": {},
   "source": [
    "### Task 2.3.3 Update Cluster Centers\n",
    "Now that we have our clusters, we can compute new centers that better represent the cluster.\n",
    "\n",
    "Complete the function `update_centers()` that takes takes a list/array of data points and a list/array of assignments and returns the new cluster centers."
   ]
  },
  {
   "cell_type": "code",
   "execution_count": 64,
   "id": "b5193a20",
   "metadata": {},
   "outputs": [],
   "source": [
    "def update_centers(X, assignments):\n",
    "    X_height, X_width = X.shape\n",
    "    return [\n",
    "        np.mean([X[i] for i in range(X_height) if assignments[i] == cluster_i], axis=0)\n",
    "        for cluster_i in range(k)\n",
    "    ]"
   ]
  },
  {
   "cell_type": "markdown",
   "id": "4e6f42cb",
   "metadata": {},
   "source": [
    "The most important parts are done! Theoretically, we only need to run the algorithm repeatedly until the cluster centers do not change anymore."
   ]
  },
  {
   "cell_type": "markdown",
   "id": "8094eeec",
   "metadata": {},
   "source": [
    "## 2.4 Cluster Quality\n",
    "As we have seen in previous assignments, blindly running an algorithm without evaluating the quality of its results is not always the best idea.\n",
    "\n",
    "Hence, we will use the Davies Bouldin (DB) Index to evaluate the quality of our clusters (see also the theory about the DB index in the lecture).\n",
    "\n",
    "### Task 2.4.1 The Davies-Bouldin Index\n",
    "\n",
    "Write a function `db_index(...)` that takes a list/array of data points, a list/array of cluster centers, and a list/array of assignments and returns the Davies-Bouldin Index.\n",
    "\n",
    "You will need to:\n",
    "    \n",
    "    - calculate the radii of the clusters, R\n",
    "    - calculate the inter class distance between the clusters\n",
    "    - calculate the badness of separation between the clusters, D\n",
    "    \n",
    "Lastly, you need to take the average over the relevant D-values of each cluster.\n",
    "\n",
    "All necessary formulas can be found in Lecture 19 (_Basic Clustering_)."
   ]
  },
  {
   "cell_type": "code",
   "execution_count": 54,
   "id": "8b4c4c08",
   "metadata": {},
   "outputs": [],
   "source": [
    "def db_index(X, centroids, assignments):\n",
    "    X_height, X_width = X.shape\n",
    "    radii = [\n",
    "        np.mean([\n",
    "            (X[i] - centroids[cluster_i]) ** 2\n",
    "            for i in range(X_height) if assignments[i] == cluster_i\n",
    "        ])\n",
    "        for cluster_i in range(k)\n",
    "    ]\n",
    "    def inter_class_distance(cluster_i, cluster_j):\n",
    "        return np.linalg.norm(centroids[cluster_i] - centroids[cluster_j], ord=2)\n",
    "    def badness_of_separation(cluster_i, cluster_j):\n",
    "        return (radii[cluster_i] + radii[cluster_j]) / inter_class_distance(cluster_i, cluster_j)\n",
    "    def worst_separation(cluster_i):\n",
    "        return np.max([badness_of_separation(cluster_i, j) for j in range(k) if j != cluster_i])\n",
    "    return np.mean([\n",
    "        worst_separation(cluster_i) for cluster_i in range(k)\n",
    "    ])"
   ]
  },
  {
   "cell_type": "markdown",
   "id": "763d1f6e",
   "metadata": {},
   "source": [
    "## 2.5 Learning Phase"
   ]
  },
  {
   "cell_type": "markdown",
   "id": "13b1f168",
   "metadata": {},
   "source": [
    "### Task 2.5.1 Iterative Clustering\n",
    "Finally, we have all the ingredients in order to cluster our data. Remember, we already initialized the first cluster centers.\n",
    "\n",
    "Therefore, for 20 iterations, you will need to:\n",
    "\n",
    "    - compute the cluster assignments\n",
    "    - compute the new cluster centres according to the assignments\n",
    "    - compute the DB index for the current assignments and cluster centers\n",
    "    \n",
    "Do not forget to log relevant data for each iteration:\n",
    "\n",
    "    - the cluster centers\n",
    "    - the cluster assignments\n",
    "    - the DB-Index"
   ]
  },
  {
   "cell_type": "code",
   "execution_count": 76,
   "id": "8e24e72d",
   "metadata": {},
   "outputs": [],
   "source": [
    "centroids = init_centroids()\n",
    "\n",
    "iteration_count = 20\n",
    "assignments_log = []\n",
    "centroids_log = []\n",
    "db_index_log = []\n",
    "for iteration in range(iteration_count):\n",
    "    #print(\"centroids.pre\", centroids)\n",
    "    \n",
    "    #print(\"distances\", distances(X_pca, centroids))\n",
    "    assignments = compute_assignments(X_pca, centroids)\n",
    "    #print(\"assignments\", assignments)\n",
    "    centroids = update_centers(X_pca, assignments)\n",
    "    #print(\"post\", centroids)\n",
    "    dbi = db_index(X_pca, centroids, assignments)\n",
    "    \n",
    "    assignments_log = np.append(assignments_log, assignments)\n",
    "    centroids_log = np.append(centroids_log, centroids)\n",
    "    db_index_log = np.append(db_index_log, dbi)"
   ]
  },
  {
   "cell_type": "markdown",
   "id": "4a5ff78d",
   "metadata": {},
   "source": [
    "## 2.6 Evaluation"
   ]
  },
  {
   "cell_type": "markdown",
   "id": "556c9367",
   "metadata": {},
   "source": [
    "### Task 2.6.1 Plotting the DB-Index\n",
    "Plot the DB Index over the iterations. Don't forget to add title, axis ticks, and axis labels to the plot!"
   ]
  },
  {
   "cell_type": "code",
   "execution_count": 78,
   "id": "23008094",
   "metadata": {},
   "outputs": [
    {
     "data": {
      "image/png": "[encoded data removed]",
      "text/plain": [
       "<Figure size 432x288 with 1 Axes>"
      ]
     },
     "metadata": {
      "needs_background": "light"
     },
     "output_type": "display_data"
    }
   ],
   "source": [
    "plt.plot(range(iteration_count), db_index_log)#, label=\"DB-index\")\n",
    "plt.title(\"k-means performance\")\n",
    "plt.xlabel(\"Iteration\")\n",
    "plt.ylabel('DB-index')\n",
    "#plt.legend()\n",
    "plt.show()"
   ]
  },
  {
   "cell_type": "markdown",
   "id": "513bb3a3",
   "metadata": {},
   "source": [
    "### Task 2.6.2 Clustered Data vs. Labeled Data\n",
    "In the beginning, we told our _k_-Means algorithm to separate the data into _k_ clusters after determining _k_ based on the number of cluss labels in the dataset.\n",
    "\n",
    "Create two plots side-by-side (using subplots), where one side is showing the clustered data and the other side is showing the partitions of the labeled data. "
   ]
  },
  {
   "cell_type": "code",
   "execution_count": 102,
   "id": "b012a14c",
   "metadata": {},
   "outputs": [
    {
     "data": {
      "image/png": "[encoded data removed]",
      "text/plain": [
       "<Figure size 432x288 with 2 Axes>"
      ]
     },
     "metadata": {
      "needs_background": "light"
     },
     "output_type": "display_data"
    }
   ],
   "source": [
    "X_pca_kmeans_x = [\n",
    "    [X_pca[i, 0] for i in range(X_pca_height) if assignments[i] == cluster_i]\n",
    "    for cluster_i in range(k)\n",
    "]\n",
    "\n",
    "X_pca_kmeans_y = [\n",
    "    [X_pca[i, 1] for i in range(X_pca_height) if assignments[i] == cluster_i]\n",
    "    for cluster_i in range(k)\n",
    "]\n",
    "\n",
    "f, (ax1, ax2) = plt.subplots(1, 2, sharey=True)\n",
    "\n",
    "ax1.scatter(X_pca_kmeans_x[0], X_pca_kmeans_y[0], label=\"1st cluster\")\n",
    "ax1.set_xlabel(\"1st PCA-reduced feature\")\n",
    "ax1.set_ylabel(\"2nd PCA-reduced feature\")\n",
    "ax1.set_title(\"k-means clusters\")\n",
    "ax1.legend()\n",
    "\n",
    "ax1.scatter(X_pca_kmeans_x[1], X_pca_kmeans_y[1], label=\"2nd cluster\")\n",
    "ax1.legend()\n",
    "\n",
    "ax1.scatter(X_pca_kmeans_x[2], X_pca_kmeans_y[2], label=\"3rd cluster\")\n",
    "ax1.legend()\n",
    "\n",
    "X_pca_lbls_x = [\n",
    "    [X_pca[i, 0] for i in range(X_pca_height) if y[i] == cluster_i]\n",
    "    for cluster_i in range(k)\n",
    "]\n",
    "\n",
    "X_pca_lbls_y = [\n",
    "    [X_pca[i, 1] for i in range(X_pca_height) if y[i] == cluster_i]\n",
    "    for cluster_i in range(k)\n",
    "]\n",
    "\n",
    "ax2.set_title(\"data labels\")\n",
    "ax2.scatter(X_pca_lbls_x[0], X_pca_lbls_y[0], label=\"1st partition\")\n",
    "ax2.set_xlabel(\"1st PCA-reduced feature\")\n",
    "ax2.legend()\n",
    "\n",
    "ax2.scatter(X_pca_lbls_x[1], X_pca_lbls_y[1], label=\"2nd partition\")\n",
    "ax2.legend()\n",
    "\n",
    "ax2.scatter(X_pca_lbls_x[2], X_pca_lbls_y[2], label=\"3rd partition\")\n",
    "ax2.legend()\n",
    "\n",
    "plt.show()"
   ]
  },
  {
   "cell_type": "markdown",
   "id": "182299a3",
   "metadata": {},
   "source": [
    "## 2.7 _k_-Means in the Wild\n",
    "It is quite fun to write the _k_-Means algorithm bottom-up. But, usually, a practitioner would rely on libraries, which have already implemented the algorithm, if possible.\n",
    "_k_-Means is implemented in the `scikit-learn` library, so we are going to use it to cluster somewhat more complex data and visualize the cluster centers."
   ]
  },
  {
   "cell_type": "code",
   "execution_count": null,
   "id": "8653373f",
   "metadata": {},
   "outputs": [],
   "source": [
    "from sklearn.datasets import load_digits\n",
    "from sklearn.cluster import KMeans"
   ]
  },
  {
   "cell_type": "markdown",
   "id": "23d20cc6",
   "metadata": {},
   "source": [
    "### Task 2.7.1 Digits Data and the _k_-Question\n",
    "Load the [Digits Dataset](https://scikit-learn.org/stable/datasets/toy_dataset.html#digits-dataset) and decide on a reasonable number of cluster centers."
   ]
  },
  {
   "cell_type": "code",
   "execution_count": null,
   "id": "f6a6aabc",
   "metadata": {},
   "outputs": [],
   "source": [
    "# your code here"
   ]
  },
  {
   "cell_type": "markdown",
   "id": "1dcd07b6",
   "metadata": {},
   "source": [
    "### Task 2.7.2 Run the _k_-Means Algorithm\n",
    "Use the provided _k_-Means object on the digits data and extract the cluster centers."
   ]
  },
  {
   "cell_type": "code",
   "execution_count": null,
   "id": "9ece7d80",
   "metadata": {},
   "outputs": [],
   "source": [
    "# your code here"
   ]
  },
  {
   "cell_type": "markdown",
   "id": "03cbd617",
   "metadata": {},
   "source": [
    "### 2.7.3 Plot the Cluster Centers\n",
    "Plot all the extracted cluster centers as images."
   ]
  },
  {
   "cell_type": "code",
   "execution_count": null,
   "id": "4b3f5488",
   "metadata": {},
   "outputs": [],
   "source": [
    "# your code here"
   ]
  },
  {
   "cell_type": "markdown",
   "id": "cd20266e",
   "metadata": {},
   "source": [
    "Now you have implemented the _k_-Means algorithm bottom-up as well as using the corresponding libraries in a sensible way. Good work!"
   ]
  },
  {
   "cell_type": "code",
   "execution_count": null,
   "id": "5ea67fc3",
   "metadata": {},
   "outputs": [],
   "source": []
  }
 ],
 "metadata": {
  "kernelspec": {
   "display_name": "Python 3 (ipykernel)",
   "language": "python",
   "name": "python3"
  },
  "language_info": {
   "codemirror_mode": {
    "name": "ipython",
    "version": 3
   },
   "file_extension": ".py",
   "mimetype": "text/x-python",
   "name": "python",
   "nbconvert_exporter": "python",
   "pygments_lexer": "ipython3",
   "version": "3.9.6"
  }
 },
 "nbformat": 4,
 "nbformat_minor": 5
}
