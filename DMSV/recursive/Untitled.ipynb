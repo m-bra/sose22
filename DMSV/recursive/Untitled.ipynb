{
 "cells": [
  {
   "cell_type": "code",
   "execution_count": 18,
   "id": "3872457a",
   "metadata": {},
   "outputs": [
    {
     "data": {
      "text/plain": [
       "[<matplotlib.lines.Line2D at 0x7f7caece25b0>]"
      ]
     },
     "execution_count": 18,
     "metadata": {},
     "output_type": "execute_result"
    },
    {
     "data": {
      "image/png": "[encoded data removed]",
      "text/plain": [
       "<Figure size 432x288 with 1 Axes>"
      ]
     },
     "metadata": {
      "needs_background": "light"
     },
     "output_type": "display_data"
    }
   ],
   "source": [
    "def f(n):\n",
    "    if n == -3:\n",
    "        return -10\n",
    "    if n == -2:\n",
    "        return 0\n",
    "    if n == -1:\n",
    "        return 10\n",
    "\n",
    "    return f(n-1)*.5 + f(n-2)*.25 + f(n-3)*.25\n",
    "\n",
    "import matplotlib.pyplot as plt\n",
    "\n",
    "rng = range(-3, 6)\n",
    "plt.plot(list(rng), [f(x) for x in rng], 'bo')"
   ]
  },
  {
   "cell_type": "code",
   "execution_count": null,
   "id": "f657ff6f",
   "metadata": {},
   "outputs": [],
   "source": []
  }
 ],
 "metadata": {
  "kernelspec": {
   "display_name": "Python 3 (ipykernel)",
   "language": "python",
   "name": "python3"
  },
  "language_info": {
   "codemirror_mode": {
    "name": "ipython",
    "version": 3
   },
   "file_extension": ".py",
   "mimetype": "text/x-python",
   "name": "python",
   "nbconvert_exporter": "python",
   "pygments_lexer": "ipython3",
   "version": "3.9.6"
  }
 },
 "nbformat": 4,
 "nbformat_minor": 5
}
